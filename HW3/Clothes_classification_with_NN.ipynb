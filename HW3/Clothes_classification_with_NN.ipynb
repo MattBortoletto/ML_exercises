{
 "cells": [
  {
   "cell_type": "markdown",
   "metadata": {},
   "source": [
    "#### Matteo Bortoletto, 1146169 (old ID, the new one is coming this january)\n",
    "\n",
    "# Clothes Classification with Neural Networks\n",
    "\n",
    "In this notebook we are going to explore the Neural Networks for image classification. We are going to use the same dataset of the SVM notebook: Fashion MNIST (https://pravarmahajan.github.io/fashion/), a dataset of small images of clothes and accessories.\n",
    "\n",
    "The dataset labels are the following:\n",
    "\n",
    "| Label | Description |\n",
    "| --- | --- |\n",
    "| 0 | T-shirt/top |\n",
    "| 1 | Trouser |\n",
    "| 2 | Pullover |\n",
    "| 3 | Dress |\n",
    "| 4 | Coat |\n",
    "| 5 | Sandal |\n",
    "| 6 | Shirt |\n",
    "| 7 | Sneaker |\n",
    "| 8 | Bag |\n",
    "| 9 | Ankle boot |"
   ]
  },
  {
   "cell_type": "code",
   "execution_count": 23,
   "metadata": {},
   "outputs": [
    {
     "name": "stdout",
     "output_type": "stream",
     "text": [
      "scikit-learn version:  0.21.2\n"
     ]
    }
   ],
   "source": [
    "#load the required packages and check Scikit-learn version\n",
    "\n",
    "%matplotlib inline  \n",
    "\n",
    "import pandas as pd\n",
    "import numpy as np\n",
    "import scipy as sp\n",
    "import matplotlib.pyplot as plt\n",
    "\n",
    "import sklearn\n",
    "print ('scikit-learn version: ', sklearn.__version__)\n",
    "from sklearn.neural_network import MLPClassifier\n",
    "from sklearn.model_selection import GridSearchCV\n",
    "from sklearn.svm import SVC"
   ]
  },
  {
   "cell_type": "code",
   "execution_count": 24,
   "metadata": {},
   "outputs": [],
   "source": [
    "# helper function to load Fashion MNIST dataset from disk\n",
    "def load_mnist(path, kind='train'):\n",
    "    import os\n",
    "    import gzip\n",
    "    import numpy as np\n",
    "    labels_path = os.path.join(path, '%s-labels-idx1-ubyte.gz' % kind)\n",
    "    images_path = os.path.join(path, '%s-images-idx3-ubyte.gz' % kind)\n",
    "    with gzip.open(labels_path, 'rb') as lbpath:\n",
    "        labels = np.frombuffer(lbpath.read(), dtype=np.uint8,offset=8)\n",
    "    with gzip.open(images_path, 'rb') as imgpath:\n",
    "        images = np.frombuffer(imgpath.read(), dtype=np.uint8,offset=16).reshape(len(labels), 784)\n",
    "    return images, labels"
   ]
  },
  {
   "cell_type": "markdown",
   "metadata": {},
   "source": [
    "# TODO \n",
    "Place a seed for the random generator (you can use your \"numero di matricola\"). Try to change the seed to see the impact of the randomization."
   ]
  },
  {
   "cell_type": "code",
   "execution_count": 25,
   "metadata": {},
   "outputs": [],
   "source": [
    "ID = 1146169 #PLACE YOUR ID\n",
    "np.random.seed(ID)"
   ]
  },
  {
   "cell_type": "code",
   "execution_count": 26,
   "metadata": {},
   "outputs": [
    {
     "name": "stdout",
     "output_type": "stream",
     "text": [
      "Number of samples in the MNIST dataset: 60000\n"
     ]
    }
   ],
   "source": [
    "#load the MNIST dataset and let's normalize the features so that each value is in [0,1]\n",
    "X, y = load_mnist(\"data\")\n",
    "print(\"Number of samples in the MNIST dataset:\", X.shape[0])\n",
    "# rescale the data\n",
    "X = X / 255.0"
   ]
  },
  {
   "cell_type": "markdown",
   "metadata": {},
   "source": [
    "Now split into training and test. We start with a small training set of 600 samples to reduce computation time. Make sure that each label is present at least 10 times\n",
    "in training frequencies."
   ]
  },
  {
   "cell_type": "code",
   "execution_count": 27,
   "metadata": {},
   "outputs": [
    {
     "name": "stdout",
     "output_type": "stream",
     "text": [
      "Labels in training dataset:  [0 1 2 3 4 5 6 7 8 9]\n",
      "Frequencies in training dataset:  [56 68 60 62 57 58 59 64 59 57]\n"
     ]
    }
   ],
   "source": [
    "#random permute the data and split into training and test taking the first 600\n",
    "#data samples as training and the rests as test\n",
    "permutation = np.random.permutation(X.shape[0])\n",
    "\n",
    "X = X[permutation]\n",
    "y = y[permutation]\n",
    "\n",
    "m_training = 600\n",
    "\n",
    "X_train, X_test = X[:m_training], X[m_training:]\n",
    "y_train, y_test = y[:m_training], y[m_training:]\n",
    "\n",
    "labels, freqs = np.unique(y_train, return_counts=True)\n",
    "print(\"Labels in training dataset: \", labels)\n",
    "print(\"Frequencies in training dataset: \", freqs)\n"
   ]
  },
  {
   "cell_type": "code",
   "execution_count": 28,
   "metadata": {},
   "outputs": [],
   "source": [
    "#function for plotting a image and printing the corresponding label\n",
    "def plot_input(X_matrix, labels, index):\n",
    "    print(\"INPUT:\")\n",
    "    plt.imshow(\n",
    "        X_matrix[index].reshape(28,28),\n",
    "        cmap          = plt.cm.gray_r,\n",
    "        interpolation = \"nearest\"\n",
    "    )\n",
    "    plt.show()\n",
    "    print(\"LABEL: %i\"%labels[index])\n",
    "    return"
   ]
  },
  {
   "cell_type": "code",
   "execution_count": 29,
   "metadata": {},
   "outputs": [
    {
     "name": "stdout",
     "output_type": "stream",
     "text": [
      "INPUT:\n"
     ]
    },
    {
     "data": {
      "image/png": "[encoded data removed]",
      "text/plain": [
       "<Figure size 432x288 with 1 Axes>"
      ]
     },
     "metadata": {
      "needs_background": "light"
     },
     "output_type": "display_data"
    },
    {
     "name": "stdout",
     "output_type": "stream",
     "text": [
      "LABEL: 9\n",
      "INPUT:\n"
     ]
    },
    {
     "data": {
      "image/png": "[encoded data removed]",
      "text/plain": [
       "<Figure size 432x288 with 1 Axes>"
      ]
     },
     "metadata": {
      "needs_background": "light"
     },
     "output_type": "display_data"
    },
    {
     "name": "stdout",
     "output_type": "stream",
     "text": [
      "LABEL: 0\n",
      "INPUT:\n"
     ]
    },
    {
     "data": {
      "image/png": "[encoded data removed]",
      "text/plain": [
       "<Figure size 432x288 with 1 Axes>"
      ]
     },
     "metadata": {
      "needs_background": "light"
     },
     "output_type": "display_data"
    },
    {
     "name": "stdout",
     "output_type": "stream",
     "text": [
      "LABEL: 2\n"
     ]
    }
   ],
   "source": [
    "#let's try the plotting function\n",
    "plot_input(X_train,y_train,10)\n",
    "plot_input(X_test,y_test,100)\n",
    "plot_input(X_test,y_test,10000)"
   ]
  },
  {
   "cell_type": "markdown",
   "metadata": {},
   "source": [
    "## TO DO 1\n",
    "\n",
    "Now use a feed-forward Neural Network for prediction. Use the multi-layer perceptron classifier, with the following parameters: max_iter=300, alpha=1e-4, solver='sgd', tol=1e-4, learning_rate_init=.1, random_state=ID (this last parameter ensures the run is the same even if you run it more than once). The alpha parameter is the regularization term.\n",
    "\n",
    "Then, using the default activation function, pick four or five architectures to consider, with different numbers of hidden layers and different sizes. It is not necessary to create huge neural networks, you can limit to 3 layers and, for each layer, its maximum size can be of 100. Evaluate the architectures you chose using GridSearchCV with cv=5.\n",
    "\n",
    "You can reduce the number of iterations if the running time is too long on your computer.\n"
   ]
  },
  {
   "cell_type": "code",
   "execution_count": 30,
   "metadata": {},
   "outputs": [
    {
     "name": "stderr",
     "output_type": "stream",
     "text": [
      "/Users/borto/anaconda3/lib/python3.7/site-packages/sklearn/model_selection/_search.py:813: DeprecationWarning: The default of the `iid` parameter will change from True to False in version 0.22 and will be removed in 0.24. This will change numeric results when test-set sizes are unequal.\n",
      "  DeprecationWarning)\n"
     ]
    },
    {
     "name": "stdout",
     "output_type": "stream",
     "text": [
      "RESULTS FOR NN\n",
      "\n",
      "Best parameters set found: {'hidden_layer_sizes': (80,)}\n",
      "Score with best parameters: 0.78\n",
      "\n",
      "All scores on the grid: \n",
      "\n"
     ]
    },
    {
     "data": {
      "text/html": [
       "<div>\n",
       "<style scoped>\n",
       "    .dataframe tbody tr th:only-of-type {\n",
       "        vertical-align: middle;\n",
       "    }\n",
       "\n",
       "    .dataframe tbody tr th {\n",
       "        vertical-align: top;\n",
       "    }\n",
       "\n",
       "    .dataframe thead th {\n",
       "        text-align: right;\n",
       "    }\n",
       "</style>\n",
       "<table border=\"1\" class=\"dataframe\">\n",
       "  <thead>\n",
       "    <tr style=\"text-align: right;\">\n",
       "      <th></th>\n",
       "      <th>mean_fit_time</th>\n",
       "      <th>std_fit_time</th>\n",
       "      <th>mean_score_time</th>\n",
       "      <th>std_score_time</th>\n",
       "      <th>param_hidden_layer_sizes</th>\n",
       "      <th>params</th>\n",
       "      <th>split0_test_score</th>\n",
       "      <th>split1_test_score</th>\n",
       "      <th>split2_test_score</th>\n",
       "      <th>split3_test_score</th>\n",
       "      <th>...</th>\n",
       "      <th>mean_test_score</th>\n",
       "      <th>std_test_score</th>\n",
       "      <th>rank_test_score</th>\n",
       "      <th>split0_train_score</th>\n",
       "      <th>split1_train_score</th>\n",
       "      <th>split2_train_score</th>\n",
       "      <th>split3_train_score</th>\n",
       "      <th>split4_train_score</th>\n",
       "      <th>mean_train_score</th>\n",
       "      <th>std_train_score</th>\n",
       "    </tr>\n",
       "  </thead>\n",
       "  <tbody>\n",
       "    <tr>\n",
       "      <th>0</th>\n",
       "      <td>0.627918</td>\n",
       "      <td>0.301917</td>\n",
       "      <td>0.000589</td>\n",
       "      <td>0.000034</td>\n",
       "      <td>(10,)</td>\n",
       "      <td>{'hidden_layer_sizes': (10,)}</td>\n",
       "      <td>0.758065</td>\n",
       "      <td>0.756098</td>\n",
       "      <td>0.683333</td>\n",
       "      <td>0.661017</td>\n",
       "      <td>...</td>\n",
       "      <td>0.708333</td>\n",
       "      <td>0.041442</td>\n",
       "      <td>5</td>\n",
       "      <td>1.000000</td>\n",
       "      <td>0.997904</td>\n",
       "      <td>1.000000</td>\n",
       "      <td>0.734440</td>\n",
       "      <td>0.752577</td>\n",
       "      <td>0.896984</td>\n",
       "      <td>0.125446</td>\n",
       "    </tr>\n",
       "    <tr>\n",
       "      <th>1</th>\n",
       "      <td>0.742515</td>\n",
       "      <td>0.062963</td>\n",
       "      <td>0.000963</td>\n",
       "      <td>0.000293</td>\n",
       "      <td>(20,)</td>\n",
       "      <td>{'hidden_layer_sizes': (20,)}</td>\n",
       "      <td>0.806452</td>\n",
       "      <td>0.780488</td>\n",
       "      <td>0.758333</td>\n",
       "      <td>0.737288</td>\n",
       "      <td>...</td>\n",
       "      <td>0.775000</td>\n",
       "      <td>0.024430</td>\n",
       "      <td>3</td>\n",
       "      <td>1.000000</td>\n",
       "      <td>1.000000</td>\n",
       "      <td>1.000000</td>\n",
       "      <td>1.000000</td>\n",
       "      <td>1.000000</td>\n",
       "      <td>1.000000</td>\n",
       "      <td>0.000000</td>\n",
       "    </tr>\n",
       "    <tr>\n",
       "      <th>2</th>\n",
       "      <td>0.820364</td>\n",
       "      <td>0.062385</td>\n",
       "      <td>0.000893</td>\n",
       "      <td>0.000169</td>\n",
       "      <td>(40,)</td>\n",
       "      <td>{'hidden_layer_sizes': (40,)}</td>\n",
       "      <td>0.782258</td>\n",
       "      <td>0.804878</td>\n",
       "      <td>0.741667</td>\n",
       "      <td>0.720339</td>\n",
       "      <td>...</td>\n",
       "      <td>0.765000</td>\n",
       "      <td>0.030066</td>\n",
       "      <td>4</td>\n",
       "      <td>1.000000</td>\n",
       "      <td>1.000000</td>\n",
       "      <td>1.000000</td>\n",
       "      <td>1.000000</td>\n",
       "      <td>1.000000</td>\n",
       "      <td>1.000000</td>\n",
       "      <td>0.000000</td>\n",
       "    </tr>\n",
       "    <tr>\n",
       "      <th>3</th>\n",
       "      <td>1.038493</td>\n",
       "      <td>0.086092</td>\n",
       "      <td>0.000967</td>\n",
       "      <td>0.000052</td>\n",
       "      <td>(80,)</td>\n",
       "      <td>{'hidden_layer_sizes': (80,)}</td>\n",
       "      <td>0.798387</td>\n",
       "      <td>0.796748</td>\n",
       "      <td>0.775000</td>\n",
       "      <td>0.737288</td>\n",
       "      <td>...</td>\n",
       "      <td>0.780000</td>\n",
       "      <td>0.022708</td>\n",
       "      <td>1</td>\n",
       "      <td>1.000000</td>\n",
       "      <td>1.000000</td>\n",
       "      <td>1.000000</td>\n",
       "      <td>1.000000</td>\n",
       "      <td>1.000000</td>\n",
       "      <td>1.000000</td>\n",
       "      <td>0.000000</td>\n",
       "    </tr>\n",
       "    <tr>\n",
       "      <th>4</th>\n",
       "      <td>1.732769</td>\n",
       "      <td>0.199217</td>\n",
       "      <td>0.001389</td>\n",
       "      <td>0.000358</td>\n",
       "      <td>(160,)</td>\n",
       "      <td>{'hidden_layer_sizes': (160,)}</td>\n",
       "      <td>0.798387</td>\n",
       "      <td>0.796748</td>\n",
       "      <td>0.775000</td>\n",
       "      <td>0.737288</td>\n",
       "      <td>...</td>\n",
       "      <td>0.778333</td>\n",
       "      <td>0.022129</td>\n",
       "      <td>2</td>\n",
       "      <td>1.000000</td>\n",
       "      <td>1.000000</td>\n",
       "      <td>1.000000</td>\n",
       "      <td>1.000000</td>\n",
       "      <td>1.000000</td>\n",
       "      <td>1.000000</td>\n",
       "      <td>0.000000</td>\n",
       "    </tr>\n",
       "    <tr>\n",
       "      <th>5</th>\n",
       "      <td>0.311875</td>\n",
       "      <td>0.041228</td>\n",
       "      <td>0.000738</td>\n",
       "      <td>0.000028</td>\n",
       "      <td>(40, 20)</td>\n",
       "      <td>{'hidden_layer_sizes': (40, 20)}</td>\n",
       "      <td>0.750000</td>\n",
       "      <td>0.739837</td>\n",
       "      <td>0.608333</td>\n",
       "      <td>0.661017</td>\n",
       "      <td>...</td>\n",
       "      <td>0.703333</td>\n",
       "      <td>0.058503</td>\n",
       "      <td>6</td>\n",
       "      <td>0.924370</td>\n",
       "      <td>0.939203</td>\n",
       "      <td>0.739583</td>\n",
       "      <td>0.751037</td>\n",
       "      <td>0.925773</td>\n",
       "      <td>0.855993</td>\n",
       "      <td>0.090593</td>\n",
       "    </tr>\n",
       "    <tr>\n",
       "      <th>6</th>\n",
       "      <td>0.324368</td>\n",
       "      <td>0.102742</td>\n",
       "      <td>0.000774</td>\n",
       "      <td>0.000037</td>\n",
       "      <td>(40, 30, 20)</td>\n",
       "      <td>{'hidden_layer_sizes': (40, 30, 20)}</td>\n",
       "      <td>0.104839</td>\n",
       "      <td>0.609756</td>\n",
       "      <td>0.708333</td>\n",
       "      <td>0.483051</td>\n",
       "      <td>...</td>\n",
       "      <td>0.403333</td>\n",
       "      <td>0.253253</td>\n",
       "      <td>7</td>\n",
       "      <td>0.107143</td>\n",
       "      <td>0.616352</td>\n",
       "      <td>0.802083</td>\n",
       "      <td>0.539419</td>\n",
       "      <td>0.103093</td>\n",
       "      <td>0.433618</td>\n",
       "      <td>0.281491</td>\n",
       "    </tr>\n",
       "  </tbody>\n",
       "</table>\n",
       "<p>7 rows × 21 columns</p>\n",
       "</div>"
      ],
      "text/plain": [
       "   mean_fit_time  std_fit_time  mean_score_time  std_score_time  \\\n",
       "0       0.627918      0.301917         0.000589        0.000034   \n",
       "1       0.742515      0.062963         0.000963        0.000293   \n",
       "2       0.820364      0.062385         0.000893        0.000169   \n",
       "3       1.038493      0.086092         0.000967        0.000052   \n",
       "4       1.732769      0.199217         0.001389        0.000358   \n",
       "5       0.311875      0.041228         0.000738        0.000028   \n",
       "6       0.324368      0.102742         0.000774        0.000037   \n",
       "\n",
       "  param_hidden_layer_sizes                                params  \\\n",
       "0                    (10,)         {'hidden_layer_sizes': (10,)}   \n",
       "1                    (20,)         {'hidden_layer_sizes': (20,)}   \n",
       "2                    (40,)         {'hidden_layer_sizes': (40,)}   \n",
       "3                    (80,)         {'hidden_layer_sizes': (80,)}   \n",
       "4                   (160,)        {'hidden_layer_sizes': (160,)}   \n",
       "5                 (40, 20)      {'hidden_layer_sizes': (40, 20)}   \n",
       "6             (40, 30, 20)  {'hidden_layer_sizes': (40, 30, 20)}   \n",
       "\n",
       "   split0_test_score  split1_test_score  split2_test_score  split3_test_score  \\\n",
       "0           0.758065           0.756098           0.683333           0.661017   \n",
       "1           0.806452           0.780488           0.758333           0.737288   \n",
       "2           0.782258           0.804878           0.741667           0.720339   \n",
       "3           0.798387           0.796748           0.775000           0.737288   \n",
       "4           0.798387           0.796748           0.775000           0.737288   \n",
       "5           0.750000           0.739837           0.608333           0.661017   \n",
       "6           0.104839           0.609756           0.708333           0.483051   \n",
       "\n",
       "   ...  mean_test_score  std_test_score  rank_test_score  split0_train_score  \\\n",
       "0  ...         0.708333        0.041442                5            1.000000   \n",
       "1  ...         0.775000        0.024430                3            1.000000   \n",
       "2  ...         0.765000        0.030066                4            1.000000   \n",
       "3  ...         0.780000        0.022708                1            1.000000   \n",
       "4  ...         0.778333        0.022129                2            1.000000   \n",
       "5  ...         0.703333        0.058503                6            0.924370   \n",
       "6  ...         0.403333        0.253253                7            0.107143   \n",
       "\n",
       "   split1_train_score  split2_train_score  split3_train_score  \\\n",
       "0            0.997904            1.000000            0.734440   \n",
       "1            1.000000            1.000000            1.000000   \n",
       "2            1.000000            1.000000            1.000000   \n",
       "3            1.000000            1.000000            1.000000   \n",
       "4            1.000000            1.000000            1.000000   \n",
       "5            0.939203            0.739583            0.751037   \n",
       "6            0.616352            0.802083            0.539419   \n",
       "\n",
       "   split4_train_score  mean_train_score  std_train_score  \n",
       "0            0.752577          0.896984         0.125446  \n",
       "1            1.000000          1.000000         0.000000  \n",
       "2            1.000000          1.000000         0.000000  \n",
       "3            1.000000          1.000000         0.000000  \n",
       "4            1.000000          1.000000         0.000000  \n",
       "5            0.925773          0.855993         0.090593  \n",
       "6            0.103093          0.433618         0.281491  \n",
       "\n",
       "[7 rows x 21 columns]"
      ]
     },
     "execution_count": 30,
     "metadata": {},
     "output_type": "execute_result"
    }
   ],
   "source": [
    "# these are sample values but feel free to change them as you like, try to experiment with different sizes!!\n",
    "parameters = {'hidden_layer_sizes': [(10,), (20,), (40,), (80,), (160,), (40,20,), (40,30,20) ]}\n",
    "\n",
    "mlp = MLPClassifier(max_iter=300, alpha=1e-4, solver='sgd',\n",
    "                    tol=1e-4, random_state=ID,\n",
    "                    learning_rate_init=.1)\n",
    "\n",
    "#ADD YOUR CODE\n",
    "clf = GridSearchCV(estimator=mlp, param_grid=parameters, cv=5, return_train_score=True)\n",
    "clf.fit(X_train, y_train)\n",
    "\n",
    "print ('RESULTS FOR NN\\n')\n",
    "\n",
    "print(\"Best parameters set found:\", clf.best_params_)\n",
    "#ADD YOUR CODE\n",
    "\n",
    "print(\"Score with best parameters:\", clf.best_score_)\n",
    "#ADD YOUR CODE\n",
    "\n",
    "print(\"\\nAll scores on the grid: \\n\")\n",
    "#ADD YOUR CODE\n",
    "all_scores = pd.DataFrame(clf.cv_results_)\n",
    "all_scores"
   ]
  },
  {
   "cell_type": "markdown",
   "metadata": {},
   "source": [
    "### TO DO 2\n",
    "\n",
    "Now try also different batch sizes, while keeping the best NN architecture you have found above. Remember that the batch size was previously set to the default value, i.e., min(200, n_samples). \n",
    "Recall that a batch size of 1 corresponds to baseline SGD, while using all the 480 training samples (there are 600 samples but in cross validation with 5 folders we use 1/5 of them for validation at each round) corresponds to standard GD and using a different mini-batch size lies in the middle between the two extreme cases."
   ]
  },
  {
   "cell_type": "code",
   "execution_count": 31,
   "metadata": {},
   "outputs": [
    {
     "name": "stdout",
     "output_type": "stream",
     "text": [
      "RESULTS FOR NN\n",
      "\n",
      "Best parameters set found: {'batch_size': 300}\n",
      "Score with best parameters: 0.7866666666666666\n",
      "\n",
      "All scores on the grid:\n"
     ]
    },
    {
     "data": {
      "text/html": [
       "<div>\n",
       "<style scoped>\n",
       "    .dataframe tbody tr th:only-of-type {\n",
       "        vertical-align: middle;\n",
       "    }\n",
       "\n",
       "    .dataframe tbody tr th {\n",
       "        vertical-align: top;\n",
       "    }\n",
       "\n",
       "    .dataframe thead th {\n",
       "        text-align: right;\n",
       "    }\n",
       "</style>\n",
       "<table border=\"1\" class=\"dataframe\">\n",
       "  <thead>\n",
       "    <tr style=\"text-align: right;\">\n",
       "      <th></th>\n",
       "      <th>mean_fit_time</th>\n",
       "      <th>std_fit_time</th>\n",
       "      <th>mean_score_time</th>\n",
       "      <th>std_score_time</th>\n",
       "      <th>param_batch_size</th>\n",
       "      <th>params</th>\n",
       "      <th>split0_test_score</th>\n",
       "      <th>split1_test_score</th>\n",
       "      <th>split2_test_score</th>\n",
       "      <th>split3_test_score</th>\n",
       "      <th>...</th>\n",
       "      <th>mean_test_score</th>\n",
       "      <th>std_test_score</th>\n",
       "      <th>rank_test_score</th>\n",
       "      <th>split0_train_score</th>\n",
       "      <th>split1_train_score</th>\n",
       "      <th>split2_train_score</th>\n",
       "      <th>split3_train_score</th>\n",
       "      <th>split4_train_score</th>\n",
       "      <th>mean_train_score</th>\n",
       "      <th>std_train_score</th>\n",
       "    </tr>\n",
       "  </thead>\n",
       "  <tbody>\n",
       "    <tr>\n",
       "      <th>0</th>\n",
       "      <td>11.492621</td>\n",
       "      <td>1.938733</td>\n",
       "      <td>0.000611</td>\n",
       "      <td>0.000046</td>\n",
       "      <td>1</td>\n",
       "      <td>{'batch_size': 1}</td>\n",
       "      <td>0.116667</td>\n",
       "      <td>0.091667</td>\n",
       "      <td>0.075000</td>\n",
       "      <td>0.075000</td>\n",
       "      <td>...</td>\n",
       "      <td>0.096667</td>\n",
       "      <td>0.020817</td>\n",
       "      <td>6</td>\n",
       "      <td>0.091667</td>\n",
       "      <td>0.110417</td>\n",
       "      <td>0.104167</td>\n",
       "      <td>0.114583</td>\n",
       "      <td>0.091667</td>\n",
       "      <td>0.102500</td>\n",
       "      <td>0.009446</td>\n",
       "    </tr>\n",
       "    <tr>\n",
       "      <th>1</th>\n",
       "      <td>0.508690</td>\n",
       "      <td>0.296208</td>\n",
       "      <td>0.000700</td>\n",
       "      <td>0.000122</td>\n",
       "      <td>32</td>\n",
       "      <td>{'batch_size': 32}</td>\n",
       "      <td>0.691667</td>\n",
       "      <td>0.758333</td>\n",
       "      <td>0.725000</td>\n",
       "      <td>0.666667</td>\n",
       "      <td>...</td>\n",
       "      <td>0.730000</td>\n",
       "      <td>0.049889</td>\n",
       "      <td>5</td>\n",
       "      <td>0.962500</td>\n",
       "      <td>0.906250</td>\n",
       "      <td>0.929167</td>\n",
       "      <td>0.933333</td>\n",
       "      <td>1.000000</td>\n",
       "      <td>0.946250</td>\n",
       "      <td>0.032286</td>\n",
       "    </tr>\n",
       "    <tr>\n",
       "      <th>2</th>\n",
       "      <td>0.470485</td>\n",
       "      <td>0.146653</td>\n",
       "      <td>0.000702</td>\n",
       "      <td>0.000135</td>\n",
       "      <td>100</td>\n",
       "      <td>{'batch_size': 100}</td>\n",
       "      <td>0.758333</td>\n",
       "      <td>0.808333</td>\n",
       "      <td>0.775000</td>\n",
       "      <td>0.741667</td>\n",
       "      <td>...</td>\n",
       "      <td>0.773333</td>\n",
       "      <td>0.022608</td>\n",
       "      <td>2</td>\n",
       "      <td>0.927083</td>\n",
       "      <td>1.000000</td>\n",
       "      <td>1.000000</td>\n",
       "      <td>1.000000</td>\n",
       "      <td>1.000000</td>\n",
       "      <td>0.985417</td>\n",
       "      <td>0.029167</td>\n",
       "    </tr>\n",
       "    <tr>\n",
       "      <th>3</th>\n",
       "      <td>0.510667</td>\n",
       "      <td>0.146548</td>\n",
       "      <td>0.000641</td>\n",
       "      <td>0.000031</td>\n",
       "      <td>200</td>\n",
       "      <td>{'batch_size': 200}</td>\n",
       "      <td>0.750000</td>\n",
       "      <td>0.833333</td>\n",
       "      <td>0.791667</td>\n",
       "      <td>0.658333</td>\n",
       "      <td>...</td>\n",
       "      <td>0.766667</td>\n",
       "      <td>0.060323</td>\n",
       "      <td>4</td>\n",
       "      <td>1.000000</td>\n",
       "      <td>1.000000</td>\n",
       "      <td>1.000000</td>\n",
       "      <td>0.929167</td>\n",
       "      <td>1.000000</td>\n",
       "      <td>0.985833</td>\n",
       "      <td>0.028333</td>\n",
       "    </tr>\n",
       "    <tr>\n",
       "      <th>4</th>\n",
       "      <td>0.683704</td>\n",
       "      <td>0.084490</td>\n",
       "      <td>0.000686</td>\n",
       "      <td>0.000112</td>\n",
       "      <td>300</td>\n",
       "      <td>{'batch_size': 300}</td>\n",
       "      <td>0.783333</td>\n",
       "      <td>0.850000</td>\n",
       "      <td>0.800000</td>\n",
       "      <td>0.716667</td>\n",
       "      <td>...</td>\n",
       "      <td>0.786667</td>\n",
       "      <td>0.042687</td>\n",
       "      <td>1</td>\n",
       "      <td>1.000000</td>\n",
       "      <td>1.000000</td>\n",
       "      <td>1.000000</td>\n",
       "      <td>1.000000</td>\n",
       "      <td>1.000000</td>\n",
       "      <td>1.000000</td>\n",
       "      <td>0.000000</td>\n",
       "    </tr>\n",
       "    <tr>\n",
       "      <th>5</th>\n",
       "      <td>0.450641</td>\n",
       "      <td>0.143583</td>\n",
       "      <td>0.001865</td>\n",
       "      <td>0.002360</td>\n",
       "      <td>480</td>\n",
       "      <td>{'batch_size': 480}</td>\n",
       "      <td>0.766667</td>\n",
       "      <td>0.833333</td>\n",
       "      <td>0.775000</td>\n",
       "      <td>0.716667</td>\n",
       "      <td>...</td>\n",
       "      <td>0.770000</td>\n",
       "      <td>0.037491</td>\n",
       "      <td>3</td>\n",
       "      <td>1.000000</td>\n",
       "      <td>0.966667</td>\n",
       "      <td>0.972917</td>\n",
       "      <td>0.975000</td>\n",
       "      <td>0.920833</td>\n",
       "      <td>0.967083</td>\n",
       "      <td>0.025766</td>\n",
       "    </tr>\n",
       "  </tbody>\n",
       "</table>\n",
       "<p>6 rows × 21 columns</p>\n",
       "</div>"
      ],
      "text/plain": [
       "   mean_fit_time  std_fit_time  mean_score_time  std_score_time  \\\n",
       "0      11.492621      1.938733         0.000611        0.000046   \n",
       "1       0.508690      0.296208         0.000700        0.000122   \n",
       "2       0.470485      0.146653         0.000702        0.000135   \n",
       "3       0.510667      0.146548         0.000641        0.000031   \n",
       "4       0.683704      0.084490         0.000686        0.000112   \n",
       "5       0.450641      0.143583         0.001865        0.002360   \n",
       "\n",
       "  param_batch_size               params  split0_test_score  split1_test_score  \\\n",
       "0                1    {'batch_size': 1}           0.116667           0.091667   \n",
       "1               32   {'batch_size': 32}           0.691667           0.758333   \n",
       "2              100  {'batch_size': 100}           0.758333           0.808333   \n",
       "3              200  {'batch_size': 200}           0.750000           0.833333   \n",
       "4              300  {'batch_size': 300}           0.783333           0.850000   \n",
       "5              480  {'batch_size': 480}           0.766667           0.833333   \n",
       "\n",
       "   split2_test_score  split3_test_score  ...  mean_test_score  std_test_score  \\\n",
       "0           0.075000           0.075000  ...         0.096667        0.020817   \n",
       "1           0.725000           0.666667  ...         0.730000        0.049889   \n",
       "2           0.775000           0.741667  ...         0.773333        0.022608   \n",
       "3           0.791667           0.658333  ...         0.766667        0.060323   \n",
       "4           0.800000           0.716667  ...         0.786667        0.042687   \n",
       "5           0.775000           0.716667  ...         0.770000        0.037491   \n",
       "\n",
       "   rank_test_score  split0_train_score  split1_train_score  \\\n",
       "0                6            0.091667            0.110417   \n",
       "1                5            0.962500            0.906250   \n",
       "2                2            0.927083            1.000000   \n",
       "3                4            1.000000            1.000000   \n",
       "4                1            1.000000            1.000000   \n",
       "5                3            1.000000            0.966667   \n",
       "\n",
       "   split2_train_score  split3_train_score  split4_train_score  \\\n",
       "0            0.104167            0.114583            0.091667   \n",
       "1            0.929167            0.933333            1.000000   \n",
       "2            1.000000            1.000000            1.000000   \n",
       "3            1.000000            0.929167            1.000000   \n",
       "4            1.000000            1.000000            1.000000   \n",
       "5            0.972917            0.975000            0.920833   \n",
       "\n",
       "   mean_train_score  std_train_score  \n",
       "0          0.102500         0.009446  \n",
       "1          0.946250         0.032286  \n",
       "2          0.985417         0.029167  \n",
       "3          0.985833         0.028333  \n",
       "4          1.000000         0.000000  \n",
       "5          0.967083         0.025766  \n",
       "\n",
       "[6 rows x 21 columns]"
      ]
     },
     "execution_count": 31,
     "metadata": {},
     "output_type": "execute_result"
    }
   ],
   "source": [
    "# these are sample values corresponding to baseline SGD, a reasonable mini-batch size and standard GD\n",
    "# again feel free to change them as you like, try to experiment with different batch sizes!!\n",
    "parameters = {'batch_size': [1, 32, 100, 200, 300, 480]}\n",
    "\n",
    "# need to specify that you would like to use the standard k-fold split otherwise sklearn create splits of different sizes\n",
    "kf = sklearn.model_selection.KFold(n_splits=5)\n",
    "\n",
    "#ADD YOUR CODE\n",
    "\n",
    "# recall to use cv=kf in GridSearchCV parameters to use the k-fold subdivision seen in the lectures\n",
    "best_mlp = MLPClassifier(max_iter=300, alpha=1e-4, solver='sgd', tol=1e-4, \n",
    "                         random_state=ID, learning_rate_init=.1, hidden_layer_sizes=(20, ))\n",
    "\n",
    "clf1 = GridSearchCV(estimator=best_mlp, param_grid=parameters, cv=kf, return_train_score=True)\n",
    "clf1.fit(X_train, y_train)\n",
    "\n",
    "#ADD YOUR CODE\n",
    "\n",
    "print ('RESULTS FOR NN\\n')\n",
    "\n",
    "print(\"Best parameters set found:\", clf1.best_params_)\n",
    "#ADD YOUR CODE\n",
    "\n",
    "print(\"Score with best parameters:\", clf1.best_score_)\n",
    "#ADD YOUR CODE\n",
    "\n",
    "print(\"\\nAll scores on the grid:\")\n",
    "#ADD YOUR CODE\n",
    "all_scores1 = pd.DataFrame(clf1.cv_results_)\n",
    "all_scores1"
   ]
  },
  {
   "cell_type": "markdown",
   "metadata": {},
   "source": [
    "### QUESTION 1\n",
    "\n",
    "What do you observe for different architectures and batch sizes? How do the number of layers and their sizes affect the performances? What do you observe for different batch sizes, in particular what happens to the training convergence for different batch sizes (notice that the algorithm could not converge for some batch sizes)?"
   ]
  },
  {
   "cell_type": "markdown",
   "metadata": {},
   "source": [
    "## [ANSWER TO QUESTION 1]\n",
    "Using different architectures I find that the best score (`0.775`) is obtained using one hidden layer of size `(20,)`. Using the best NN architecture I find that the best batch size is `480`, which corresponds to standard GD, and the best score is `0.77`. Increasing the number of layers the performances seem to get worse and increasing their sizes leads to better scores (to be honest the score obtained with a layer of size `(40,)` is slightly lower than the one obtained with a layer of size `(20,)`, but anyway they are bigger than the score obtained with a layer of size `(10,)`). If we look at the training convergence for different batch sizes, we see that increasing the batch size the score  significantly increases going from `1` to `32` and it slightly improves going from `32` to `480`. <br>\n",
    "Keeping in mind these results obtained using the \"predefined values\" for the layers and the batch size, I decided to try to add some values to the parameters. In particular -- since I found that the score gets better increasing the size of just one layer -- I added `(80,)` and `(160,)` to the possible layer sizes. I also tried to add some intermediate batch sizes, so I added `100`, `200` and `300`. Considering these parameters' values I found that the better layer size is `(80,)` -- which leads to a score of `0.78` -- and that the best batch size is `300` -- which leads to a score of `0.787`. "
   ]
  },
  {
   "cell_type": "markdown",
   "metadata": {},
   "source": [
    "### TO DO 3\n",
    "\n",
    "Now try also to use different learning rates, while keeping the best NN architecture and batch size you have found above. Plot the learning curves (i.e., the variation of the loss over the steps, you can get it from the loss_curve_ object of sklearn) for the different values of the learning rate . "
   ]
  },
  {
   "cell_type": "code",
   "execution_count": 32,
   "metadata": {},
   "outputs": [
    {
     "name": "stderr",
     "output_type": "stream",
     "text": [
      "/Users/borto/anaconda3/lib/python3.7/site-packages/sklearn/neural_network/multilayer_perceptron.py:566: ConvergenceWarning: Stochastic Optimizer: Maximum iterations (300) reached and the optimization hasn't converged yet.\n",
      "  % self.max_iter, ConvergenceWarning)\n",
      "/Users/borto/anaconda3/lib/python3.7/site-packages/sklearn/neural_network/multilayer_perceptron.py:566: ConvergenceWarning: Stochastic Optimizer: Maximum iterations (300) reached and the optimization hasn't converged yet.\n",
      "  % self.max_iter, ConvergenceWarning)\n",
      "/Users/borto/anaconda3/lib/python3.7/site-packages/sklearn/neural_network/multilayer_perceptron.py:566: ConvergenceWarning: Stochastic Optimizer: Maximum iterations (300) reached and the optimization hasn't converged yet.\n",
      "  % self.max_iter, ConvergenceWarning)\n",
      "/Users/borto/anaconda3/lib/python3.7/site-packages/sklearn/neural_network/multilayer_perceptron.py:566: ConvergenceWarning: Stochastic Optimizer: Maximum iterations (300) reached and the optimization hasn't converged yet.\n",
      "  % self.max_iter, ConvergenceWarning)\n",
      "/Users/borto/anaconda3/lib/python3.7/site-packages/sklearn/neural_network/multilayer_perceptron.py:566: ConvergenceWarning: Stochastic Optimizer: Maximum iterations (300) reached and the optimization hasn't converged yet.\n",
      "  % self.max_iter, ConvergenceWarning)\n",
      "/Users/borto/anaconda3/lib/python3.7/site-packages/sklearn/neural_network/multilayer_perceptron.py:566: ConvergenceWarning: Stochastic Optimizer: Maximum iterations (300) reached and the optimization hasn't converged yet.\n",
      "  % self.max_iter, ConvergenceWarning)\n",
      "/Users/borto/anaconda3/lib/python3.7/site-packages/sklearn/neural_network/multilayer_perceptron.py:566: ConvergenceWarning: Stochastic Optimizer: Maximum iterations (300) reached and the optimization hasn't converged yet.\n",
      "  % self.max_iter, ConvergenceWarning)\n",
      "/Users/borto/anaconda3/lib/python3.7/site-packages/sklearn/neural_network/multilayer_perceptron.py:566: ConvergenceWarning: Stochastic Optimizer: Maximum iterations (300) reached and the optimization hasn't converged yet.\n",
      "  % self.max_iter, ConvergenceWarning)\n",
      "/Users/borto/anaconda3/lib/python3.7/site-packages/sklearn/neural_network/multilayer_perceptron.py:566: ConvergenceWarning: Stochastic Optimizer: Maximum iterations (300) reached and the optimization hasn't converged yet.\n",
      "  % self.max_iter, ConvergenceWarning)\n",
      "/Users/borto/anaconda3/lib/python3.7/site-packages/sklearn/neural_network/multilayer_perceptron.py:566: ConvergenceWarning: Stochastic Optimizer: Maximum iterations (300) reached and the optimization hasn't converged yet.\n",
      "  % self.max_iter, ConvergenceWarning)\n",
      "/Users/borto/anaconda3/lib/python3.7/site-packages/sklearn/neural_network/multilayer_perceptron.py:566: ConvergenceWarning: Stochastic Optimizer: Maximum iterations (300) reached and the optimization hasn't converged yet.\n",
      "  % self.max_iter, ConvergenceWarning)\n"
     ]
    },
    {
     "name": "stdout",
     "output_type": "stream",
     "text": [
      "RESULTS FOR NN\n",
      "\n",
      "Best parameters set found: {'learning_rate_init': 0.01}\n",
      "Score with best parameters: 0.7816666666666666\n"
     ]
    },
    {
     "name": "stderr",
     "output_type": "stream",
     "text": [
      "/Users/borto/anaconda3/lib/python3.7/site-packages/sklearn/neural_network/multilayer_perceptron.py:566: ConvergenceWarning: Stochastic Optimizer: Maximum iterations (300) reached and the optimization hasn't converged yet.\n",
      "  % self.max_iter, ConvergenceWarning)\n",
      "/Users/borto/anaconda3/lib/python3.7/site-packages/sklearn/neural_network/multilayer_perceptron.py:566: ConvergenceWarning: Stochastic Optimizer: Maximum iterations (300) reached and the optimization hasn't converged yet.\n",
      "  % self.max_iter, ConvergenceWarning)\n"
     ]
    },
    {
     "data": {
      "image/png": "[encoded data removed]",
      "text/plain": [
       "<Figure size 432x288 with 1 Axes>"
      ]
     },
     "metadata": {
      "needs_background": "light"
     },
     "output_type": "display_data"
    }
   ],
   "source": [
    "import matplotlib.pyplot as plt\n",
    "\n",
    "\n",
    "lr_list = [10**exp for exp in range(-3,0)]\n",
    "scores = {}\n",
    "\n",
    "#ADD YOUR CODE\n",
    "parameters = {'learning_rate_init': lr_list}\n",
    "\n",
    "best_mlp2 = MLPClassifier(max_iter=300, alpha=1e-4, solver='sgd', tol=1e-4, \n",
    "                        random_state=ID, hidden_layer_sizes=(80, ), batch_size=300)\n",
    "\n",
    "\n",
    "clf2 = GridSearchCV(estimator=best_mlp2, param_grid=parameters, cv=kf, return_train_score=True)\n",
    "clf2.fit(X_train, y_train)\n",
    "\n",
    "\n",
    "print ('RESULTS FOR NN\\n')\n",
    "\n",
    "print(\"Best parameters set found:\", clf2.best_params_)\n",
    "#ADD YOUR CODE\n",
    "\n",
    "print(\"Score with best parameters:\", clf2.best_score_)\n",
    "#ADD YOUR CODE\n",
    "\n",
    "for i in lr_list:\n",
    "    NN = MLPClassifier(max_iter=300, alpha=1e-4, solver='sgd', tol=1e-4, \n",
    "                        random_state=ID, hidden_layer_sizes=(80, ), batch_size=300,\n",
    "                        learning_rate_init=i).fit(X_train, y_train)\n",
    "    scores[str(i)] = NN.loss_curve_\n",
    "    \n",
    "plt.plot(scores[str(lr_list[0])], label='learning rate = 0.001')\n",
    "plt.plot(scores[str(lr_list[1])], label='learning rate = 0.01')\n",
    "plt.plot(scores[str(lr_list[2])], label='learning rate = 0.1')\n",
    "plt.xlabel('number of iterations')\n",
    "plt.title('Loss curves')\n",
    "plt.ylabel('loss')\n",
    "plt.legend()\n",
    "plt.grid()\n",
    "plt.show()"
   ]
  },
  {
   "cell_type": "markdown",
   "metadata": {},
   "source": [
    "### QUESTION 2\n",
    "\n",
    "Comment about the learning curves (i.e. the variation of the loss over the steps). How does the curve changes for different learning rates in terms of stability and speed of convergence ?"
   ]
  },
  {
   "cell_type": "markdown",
   "metadata": {},
   "source": [
    "## [ANSWER TO QUESTION 2]\n",
    "Observing the learning curve I notice that the only the algorithm with learning rate `0.1` is able to reach convergence, but it is also the more instable. So, increasing the learning rate the speed of convergence is higher but the stability is lower."
   ]
  },
  {
   "cell_type": "markdown",
   "metadata": {},
   "source": [
    "### TO DO 4\n",
    "\n",
    "Now get training and test error for a NN with best parameters (architecture, batch size and learning rate)from above. Plot the learning curve also for this case."
   ]
  },
  {
   "cell_type": "code",
   "execution_count": 33,
   "metadata": {
    "scrolled": true
   },
   "outputs": [
    {
     "name": "stdout",
     "output_type": "stream",
     "text": [
      "\n",
      "RESULTS FOR BEST NN\n",
      "\n",
      "Best NN training error: 0.000000\n",
      "Best NN test error: 0.197980\n"
     ]
    },
    {
     "data": {
      "image/png": "[encoded data removed]",
      "text/plain": [
       "<Figure size 432x288 with 1 Axes>"
      ]
     },
     "metadata": {
      "needs_background": "light"
     },
     "output_type": "display_data"
    }
   ],
   "source": [
    "#get training and test error for the best NN model from CV\n",
    "\n",
    "#ADD YOUR CODE\n",
    "best_mlp_final = best_mlp2 = MLPClassifier(max_iter=300, alpha=1e-4, solver='sgd',\n",
    "                    tol=1e-4, random_state=ID, learning_rate_init=0.1, hidden_layer_sizes=(80, ), \n",
    "                    batch_size=300)\n",
    "\n",
    "best_mlp_final.fit(X_train, y_train)\n",
    "\n",
    "training_error = 1 - best_mlp_final.score(X_train,y_train)\n",
    "test_error = 1 - best_mlp_final.score(X_test,y_test)\n",
    "\n",
    "print ('\\nRESULTS FOR BEST NN\\n')\n",
    "\n",
    "print (\"Best NN training error: %f\" % training_error)\n",
    "print (\"Best NN test error: %f\" % test_error)\n",
    "\n",
    "#ADD YOUR CODE FOR PLOTTING\n",
    "plt.plot(best_mlp_final.loss_curve_, label='loss_curve')\n",
    "plt.xlabel('number of iterations')\n",
    "plt.ylabel('loss')\n",
    "plt.legend()\n",
    "plt.grid()\n",
    "plt.show()"
   ]
  },
  {
   "cell_type": "markdown",
   "metadata": {},
   "source": [
    "## More data \n",
    "Now let's do the same but using 5000 (or less if it takes too long on your machine) data points for training. Use the same NN architecture as before, but you can try more if you like and have a powerful computer !!"
   ]
  },
  {
   "cell_type": "code",
   "execution_count": 34,
   "metadata": {},
   "outputs": [
    {
     "name": "stdout",
     "output_type": "stream",
     "text": [
      "Labels in training dataset:  [0 1 2 3 4 5 6 7 8 9]\n",
      "Frequencies in training dataset:  [478 544 497 516 445 509 498 527 483 503]\n"
     ]
    }
   ],
   "source": [
    "X = X[permutation]\n",
    "y = y[permutation]\n",
    "\n",
    "m_training = 5000\n",
    "\n",
    "X_train, X_test = X[:m_training], X[m_training:]\n",
    "y_train, y_test = y[:m_training], y[m_training:]\n",
    "\n",
    "labels, freqs = np.unique(y_train, return_counts=True)\n",
    "print(\"Labels in training dataset: \", labels)\n",
    "print(\"Frequencies in training dataset: \", freqs)"
   ]
  },
  {
   "cell_type": "markdown",
   "metadata": {},
   "source": [
    "## TO DO 5\n",
    "\n",
    "Now train the NNs with the added data points using the optimum parameters found above. Eventually, feel free to try different architectures if you like. We suggest that you use 'verbose=True' so have an idea of how long it takes to run 1 iteration (eventually reduce also the number of iterations to 50)."
   ]
  },
  {
   "cell_type": "code",
   "execution_count": 35,
   "metadata": {
    "scrolled": false
   },
   "outputs": [
    {
     "name": "stdout",
     "output_type": "stream",
     "text": [
      "Iteration 1, loss = 1.30013018\n",
      "Iteration 2, loss = 0.71537120\n",
      "Iteration 3, loss = 0.54869897\n",
      "Iteration 4, loss = 0.49464436\n",
      "Iteration 5, loss = 0.45497078\n",
      "Iteration 6, loss = 0.42013235\n",
      "Iteration 7, loss = 0.39310884\n",
      "Iteration 8, loss = 0.38304632\n",
      "Iteration 9, loss = 0.38153526\n",
      "Iteration 10, loss = 0.34491235\n",
      "Iteration 11, loss = 0.32211454\n",
      "Iteration 12, loss = 0.31787980\n",
      "Iteration 13, loss = 0.30923891\n",
      "Iteration 14, loss = 0.29239139\n",
      "Iteration 15, loss = 0.29172273\n",
      "Iteration 16, loss = 0.27115552\n",
      "Iteration 17, loss = 0.26732938\n",
      "Iteration 18, loss = 0.24648808\n",
      "Iteration 19, loss = 0.26002950\n",
      "Iteration 20, loss = 0.24514899\n",
      "Iteration 21, loss = 0.24150948\n",
      "Iteration 22, loss = 0.22404271\n",
      "Iteration 23, loss = 0.20938325\n",
      "Iteration 24, loss = 0.20323295\n",
      "Iteration 25, loss = 0.22197533\n",
      "Iteration 26, loss = 0.19234896\n",
      "Iteration 27, loss = 0.18769676\n",
      "Iteration 28, loss = 0.18101935\n",
      "Iteration 29, loss = 0.17298236\n",
      "Iteration 30, loss = 0.16486016\n",
      "Iteration 31, loss = 0.15130554\n",
      "Iteration 32, loss = 0.14508157\n",
      "Iteration 33, loss = 0.17076600\n",
      "Iteration 34, loss = 0.15769284\n",
      "Iteration 35, loss = 0.15683994\n",
      "Iteration 36, loss = 0.13485808\n",
      "Iteration 37, loss = 0.13301995\n",
      "Iteration 38, loss = 0.14094998\n",
      "Iteration 39, loss = 0.12852744\n",
      "Iteration 40, loss = 0.12938828\n",
      "Iteration 41, loss = 0.11154158\n",
      "Iteration 42, loss = 0.11022638\n",
      "Iteration 43, loss = 0.14949378\n",
      "Iteration 44, loss = 0.14146732\n",
      "Iteration 45, loss = 0.13521784\n",
      "Iteration 46, loss = 0.09413007\n",
      "Iteration 47, loss = 0.10100526\n",
      "Iteration 48, loss = 0.08108798\n",
      "Iteration 49, loss = 0.10056557\n",
      "Iteration 50, loss = 0.16774941\n",
      "Iteration 51, loss = 0.08857570\n",
      "Iteration 52, loss = 0.07965838\n",
      "Iteration 53, loss = 0.07995340\n",
      "Iteration 54, loss = 0.06885159\n",
      "Iteration 55, loss = 0.07669277\n",
      "Iteration 56, loss = 0.07297735\n",
      "Iteration 57, loss = 0.06285592\n",
      "Iteration 58, loss = 0.07127661\n",
      "Iteration 59, loss = 0.06470044\n",
      "Iteration 60, loss = 0.06571551\n",
      "Iteration 61, loss = 0.05393766\n",
      "Iteration 62, loss = 0.06182015\n",
      "Iteration 63, loss = 0.05653768\n",
      "Iteration 64, loss = 0.04898888\n",
      "Iteration 65, loss = 0.04584478\n",
      "Iteration 66, loss = 0.04206576\n",
      "Iteration 67, loss = 0.04139937\n",
      "Iteration 68, loss = 0.04034531\n",
      "Iteration 69, loss = 0.03860566\n",
      "Iteration 70, loss = 0.06501018\n",
      "Iteration 71, loss = 0.21191699\n",
      "Iteration 72, loss = 0.10279914\n",
      "Iteration 73, loss = 0.07682449\n",
      "Iteration 74, loss = 0.05729795\n",
      "Iteration 75, loss = 0.05872683\n",
      "Iteration 76, loss = 0.04784548\n",
      "Iteration 77, loss = 0.03870910\n",
      "Iteration 78, loss = 0.04613401\n",
      "Iteration 79, loss = 0.03378480\n",
      "Iteration 80, loss = 0.03688715\n",
      "Iteration 81, loss = 0.03320085\n",
      "Iteration 82, loss = 0.04364195\n",
      "Iteration 83, loss = 0.03944032\n",
      "Iteration 84, loss = 0.02542714\n",
      "Iteration 85, loss = 0.02667619\n",
      "Iteration 86, loss = 0.02522692\n",
      "Iteration 87, loss = 0.02383315\n",
      "Iteration 88, loss = 0.01905119\n",
      "Iteration 89, loss = 0.01925978\n",
      "Iteration 90, loss = 0.01901178\n",
      "Iteration 91, loss = 0.01817492\n",
      "Iteration 92, loss = 0.01739582\n",
      "Iteration 93, loss = 0.01705146\n",
      "Iteration 94, loss = 0.01549546\n",
      "Iteration 95, loss = 0.01759940\n",
      "Iteration 96, loss = 0.01685700\n",
      "Iteration 97, loss = 0.01574282\n",
      "Iteration 98, loss = 0.01440634\n",
      "Iteration 99, loss = 0.01238738\n",
      "Iteration 100, loss = 0.01263523\n",
      "Iteration 101, loss = 0.01338373\n",
      "Iteration 102, loss = 0.01197821\n",
      "Iteration 103, loss = 0.01159769\n",
      "Iteration 104, loss = 0.01233293\n",
      "Iteration 105, loss = 0.01117106\n",
      "Iteration 106, loss = 0.01098279\n",
      "Iteration 107, loss = 0.00983320\n",
      "Iteration 108, loss = 0.00990836\n",
      "Iteration 109, loss = 0.01022559\n",
      "Iteration 110, loss = 0.00967217\n",
      "Iteration 111, loss = 0.00898069\n",
      "Iteration 112, loss = 0.00916535\n",
      "Iteration 113, loss = 0.00863043\n",
      "Iteration 114, loss = 0.00837006\n",
      "Iteration 115, loss = 0.00832291\n",
      "Iteration 116, loss = 0.00820139\n",
      "Iteration 117, loss = 0.00794587\n",
      "Iteration 118, loss = 0.00802574\n",
      "Iteration 119, loss = 0.00726155\n",
      "Iteration 120, loss = 0.00734105\n",
      "Iteration 121, loss = 0.00721378\n",
      "Iteration 122, loss = 0.00691126\n",
      "Iteration 123, loss = 0.00735161\n",
      "Iteration 124, loss = 0.00659115\n",
      "Iteration 125, loss = 0.00653886\n",
      "Iteration 126, loss = 0.00665546\n",
      "Iteration 127, loss = 0.00619206\n",
      "Iteration 128, loss = 0.00625173\n",
      "Iteration 129, loss = 0.00623923\n",
      "Iteration 130, loss = 0.00621777\n",
      "Iteration 131, loss = 0.00581292\n",
      "Iteration 132, loss = 0.00577299\n",
      "Iteration 133, loss = 0.00581485\n",
      "Iteration 134, loss = 0.00559284\n",
      "Iteration 135, loss = 0.00555282\n",
      "Iteration 136, loss = 0.00548619\n",
      "Iteration 137, loss = 0.00526701\n",
      "Iteration 138, loss = 0.00539115\n",
      "Iteration 139, loss = 0.00541809\n",
      "Iteration 140, loss = 0.00507873\n",
      "Iteration 141, loss = 0.00514235\n",
      "Iteration 142, loss = 0.00518600\n",
      "Iteration 143, loss = 0.00481704\n",
      "Iteration 144, loss = 0.00481602\n",
      "Iteration 145, loss = 0.00465998\n",
      "Iteration 146, loss = 0.00456935\n",
      "Iteration 147, loss = 0.00467846\n",
      "Iteration 148, loss = 0.00450940\n",
      "Iteration 149, loss = 0.00450430\n",
      "Iteration 150, loss = 0.00440205\n",
      "Iteration 151, loss = 0.00435184\n",
      "Iteration 152, loss = 0.00428808\n",
      "Iteration 153, loss = 0.00420690\n",
      "Iteration 154, loss = 0.00418597\n",
      "Iteration 155, loss = 0.00414342\n",
      "Iteration 156, loss = 0.00403410\n",
      "Iteration 157, loss = 0.00402514\n",
      "Iteration 158, loss = 0.00391834\n",
      "Iteration 159, loss = 0.00396378\n",
      "Iteration 160, loss = 0.00398611\n",
      "Iteration 161, loss = 0.00380463\n",
      "Iteration 162, loss = 0.00384289\n",
      "Iteration 163, loss = 0.00371072\n",
      "Iteration 164, loss = 0.00375753\n",
      "Iteration 165, loss = 0.00373363\n",
      "Iteration 166, loss = 0.00365464\n",
      "Iteration 167, loss = 0.00353326\n",
      "Iteration 168, loss = 0.00353435\n",
      "Iteration 169, loss = 0.00357587\n",
      "Iteration 170, loss = 0.00348286\n",
      "Iteration 171, loss = 0.00339387\n",
      "Iteration 172, loss = 0.00342995\n",
      "Iteration 173, loss = 0.00337464\n",
      "Iteration 174, loss = 0.00333016\n",
      "Iteration 175, loss = 0.00332486\n",
      "Iteration 176, loss = 0.00326104\n",
      "Iteration 177, loss = 0.00330120\n",
      "Iteration 178, loss = 0.00323887\n",
      "Training loss did not improve more than tol=0.000100 for 10 consecutive epochs. Stopping.\n",
      "\n",
      "RESULTS FOR NN\n",
      "\n",
      "NN training error: 0.000000\n",
      "NN test error: 0.155491\n"
     ]
    }
   ],
   "source": [
    "# use best architecture and params from before\n",
    "\n",
    "#ADD YOUR CODE\n",
    "best_mlp_final_large = best_mlp2 = MLPClassifier(max_iter=300, alpha=1e-4, solver='sgd',\n",
    "                    tol=1e-4, random_state=ID, learning_rate_init=0.1, hidden_layer_sizes=(80, ), \n",
    "                    batch_size=300, verbose=True)\n",
    "\n",
    "best_mlp_final_large.fit(X_train, y_train)\n",
    "\n",
    "training_error = 1 - best_mlp_final_large.score(X_train,y_train)\n",
    "test_error = 1 - best_mlp_final_large.score(X_test,y_test)\n",
    "\n",
    "\n",
    "print ('\\nRESULTS FOR NN\\n')\n",
    "\n",
    "print (\"NN training error: %f\" % training_error)\n",
    "print (\"NN test error: %f\" % test_error)"
   ]
  },
  {
   "cell_type": "markdown",
   "metadata": {},
   "source": [
    "## QUESTION 3\n",
    "Compare the train and test errors you got with a large number of samples with the best one you obtained with only 600 data points. Comment about the results you obtained."
   ]
  },
  {
   "cell_type": "markdown",
   "metadata": {},
   "source": [
    "## [ANSWER TO QUESTION 3]\n",
    "Using 600 data points I obtain `0` as training error and `0.197980` as test error, whereas using a larger number of samples I get `0` as training error and `0.155491` as test error. So using more data the algorithm works better, as the test error gets smaller."
   ]
  },
  {
   "cell_type": "markdown",
   "metadata": {},
   "source": [
    "### TO DO 7\n",
    "\n",
    "Plot an example that was missclassified by NN with m=600 training data points and it is now instead correctly classified by NN with m=5000 training data points."
   ]
  },
  {
   "cell_type": "code",
   "execution_count": 36,
   "metadata": {
    "scrolled": false
   },
   "outputs": [
    {
     "name": "stdout",
     "output_type": "stream",
     "text": [
      "An example that was missclassified by NN with m=600 training data points and it is now instead correctly classified by NN with m=5000 training data points is the image3\n",
      "INPUT:\n"
     ]
    },
    {
     "data": {
      "image/png": "[encoded data removed]",
      "text/plain": [
       "<Figure size 432x288 with 1 Axes>"
      ]
     },
     "metadata": {
      "needs_background": "light"
     },
     "output_type": "display_data"
    },
    {
     "name": "stdout",
     "output_type": "stream",
     "text": [
      "LABEL: 2\n"
     ]
    }
   ],
   "source": [
    "NN_prediction = best_mlp_final.predict(X_test) #ADD YOUR CODE\n",
    "large_NN_prediction = best_mlp_final_large.predict(X_test) #ADD YOUR CODE\n",
    "\n",
    "#ADD YOUR CODE\n",
    "wrongly_classified = []\n",
    "for i in range(len(y_test)):\n",
    "    if (large_NN_prediction[i] == y_test[i]) and (NN_prediction[i] != y_test[i]):\n",
    "        wrongly_classified.append(i)\n",
    "    \n",
    "if wrongly_classified == []:\n",
    "    print('No example was missclassified by NN with m=600 training data points and not by NN with m=5000 training data points')\n",
    "else:\n",
    "    print('An example that was missclassified by NN with m=600 training data points and it is now instead correctly classified by NN with m=5000 training data points is the image'+str(wrongly_classified[0]))\n",
    "    plot_input(X_test, y_test, wrongly_classified[0])"
   ]
  },
  {
   "cell_type": "markdown",
   "metadata": {},
   "source": [
    "### TO DO 8\n",
    "\n",
    "Let's plot the weigths of the multi-layer perceptron classifier, for the best NN we get with 600 data points and with 5000 data points. The code is already provided, just fix variable names (e.g., replace mlp ,  mlp_large with your estimators) in order to have it working with your implementation\n",
    "\n"
   ]
  },
  {
   "cell_type": "code",
   "execution_count": 37,
   "metadata": {},
   "outputs": [
    {
     "name": "stdout",
     "output_type": "stream",
     "text": [
      "Weights with 600 data points:\n"
     ]
    },
    {
     "data": {
      "image/png": "[encoded data removed]",
      "text/plain": [
       "<Figure size 432x288 with 16 Axes>"
      ]
     },
     "metadata": {},
     "output_type": "display_data"
    },
    {
     "name": "stdout",
     "output_type": "stream",
     "text": [
      "Weights with 5000 data points:\n"
     ]
    },
    {
     "data": {
      "image/png": "[encoded data removed]",
      "text/plain": [
       "<Figure size 432x288 with 16 Axes>"
      ]
     },
     "metadata": {},
     "output_type": "display_data"
    }
   ],
   "source": [
    "# The code is already provided, fix variable names in order to have it working with your implementation\n",
    "\n",
    "print(\"Weights with 600 data points:\")\n",
    "\n",
    "fig, axes = plt.subplots(4, 4)\n",
    "vmin, vmax = best_mlp_final.coefs_[0].min(), best_mlp_final.coefs_[0].max()\n",
    "for coef, ax in zip(best_mlp_final.coefs_[0].T, axes.ravel()):\n",
    "    ax.matshow(coef.reshape(28, 28), cmap=plt.cm.gray, vmin=.5 * vmin,\n",
    "               vmax=.5 * vmax)\n",
    "    ax.set_xticks(())\n",
    "    ax.set_yticks(())\n",
    "\n",
    "plt.show()\n",
    "\n",
    "print(\"Weights with 5000 data points:\")\n",
    "\n",
    "fig, axes = plt.subplots(4, 4)\n",
    "vmin, vmax = best_mlp_final_large.coefs_[0].min(), best_mlp_final_large.coefs_[0].max()\n",
    "for coef, ax in zip(best_mlp_final_large.coefs_[0].T, axes.ravel()):\n",
    "    ax.matshow(coef.reshape(28, 28), cmap=plt.cm.gray, vmin=.5 * vmin,\n",
    "               vmax=.5 * vmax)\n",
    "    ax.set_xticks(())\n",
    "    ax.set_yticks(())\n",
    "plt.show()"
   ]
  },
  {
   "cell_type": "markdown",
   "metadata": {},
   "source": [
    "## QUESTION 4\n",
    "\n",
    "Describe what do you observe by looking at the weights"
   ]
  },
  {
   "cell_type": "markdown",
   "metadata": {},
   "source": [
    "## [ANSWER TO QUESTION 4]\n",
    "By looking at the weights I see that using more data points many boxes -- which should in principle be \"clothes-shaped\" -- are basically uniform grey boxes: this means that these weights are not used so much to distinguish between different clothes. In the other boxes there are some hints of a pattern (in particular for pullover/shirt/coat)."
   ]
  },
  {
   "cell_type": "markdown",
   "metadata": {},
   "source": [
    "### TO DO 9\n",
    "\n",
    "Report the best SVM model and its parameters, you found in the last notebook (or check out the solution on the moodle webpage of the course). Fit it on a few data points and compute its training and test scores."
   ]
  },
  {
   "cell_type": "code",
   "execution_count": 38,
   "metadata": {},
   "outputs": [
    {
     "name": "stdout",
     "output_type": "stream",
     "text": [
      "RESULTS FOR SVM\n",
      "Training score SVM:\n",
      "1.0\n",
      "Training error SVM:\n",
      "0.0\n",
      "Test score SVM:\n",
      "0.8544\n",
      "Test error SVM:\n",
      "0.14559999999999995\n"
     ]
    }
   ],
   "source": [
    "m_training = 5000\n",
    "\n",
    "X_train, X_test = X[:m_training], X[m_training:2*m_training]\n",
    "y_train, y_test = y[:m_training], y[m_training:2*m_training]\n",
    "\n",
    "# use best parameters found in the SVM notebook, create SVM and perform fitting\n",
    "\n",
    "#ADD YOUR CODE\n",
    "SVM = SVC(C=50, gamma=0.05, kernel='rbf')\n",
    "SVM.fit(X_train, y_train)\n",
    "\n",
    "print ('RESULTS FOR SVM')\n",
    "\n",
    "SVM_training_error = 1 - SVM.score(X_train, y_train) #ADD YOUR CODE\n",
    "\n",
    "print(\"Training score SVM:\")\n",
    "print(SVM.score(X_train, y_train))\n",
    "print(\"Training error SVM:\")\n",
    "print(SVM_training_error)\n",
    "\n",
    "SVM_test_error = 1 - SVM.score(X_test, y_test) #ADD YOUR CODE\n",
    "print(\"Test score SVM:\")\n",
    "print(SVM.score(X_test, y_test))\n",
    "print(\"Test error SVM:\")\n",
    "print(SVM_test_error)"
   ]
  },
  {
   "cell_type": "markdown",
   "metadata": {
    "collapsed": true
   },
   "source": [
    "## QUESTION 5\n",
    "Compare the results of SVM and of NN. Which one would you prefer? "
   ]
  },
  {
   "cell_type": "markdown",
   "metadata": {},
   "source": [
    "## [ANSWER TO QUESTION 5]\n",
    "|   | training error  | test error  |\n",
    "|---|---|---|\n",
    "| NN  | 0  | 0.155491 | \n",
    "| SVM  | 0  | 0.1456 |   \n",
    "\n",
    "Looking at these results we see that the ones of SVM are slightly better."
   ]
  },
  {
   "cell_type": "code",
   "execution_count": null,
   "metadata": {},
   "outputs": [],
   "source": []
  }
 ],
 "metadata": {
  "kernelspec": {
   "display_name": "Python 3",
   "language": "python",
   "name": "python3"
  },
  "language_info": {
   "codemirror_mode": {
    "name": "ipython",
    "version": 3
   },
   "file_extension": ".py",
   "mimetype": "text/x-python",
   "name": "python",
   "nbconvert_exporter": "python",
   "pygments_lexer": "ipython3",
   "version": "3.7.3"
  }
 },
 "nbformat": 4,
 "nbformat_minor": 2
}
