{
 "cells": [
  {
   "cell_type": "markdown",
   "metadata": {},
   "source": [
    "#### Matteo Bortoletto, 1146169 (old ID, the new one is coming this january)\n",
    "\n",
    "# Clothes Classification with Neural Networks\n",
    "\n",
    "In this notebook we are going to explore the Neural Networks for image classification. We are going to use the same dataset of the SVM notebook: Fashion MNIST (https://pravarmahajan.github.io/fashion/), a dataset of small images of clothes and accessories.\n",
    "\n",
    "The dataset labels are the following:\n",
    "\n",
    "| Label | Description |\n",
    "| --- | --- |\n",
    "| 0 | T-shirt/top |\n",
    "| 1 | Trouser |\n",
    "| 2 | Pullover |\n",
    "| 3 | Dress |\n",
    "| 4 | Coat |\n",
    "| 5 | Sandal |\n",
    "| 6 | Shirt |\n",
    "| 7 | Sneaker |\n",
    "| 8 | Bag |\n",
    "| 9 | Ankle boot |"
   ]
  },
  {
   "cell_type": "code",
   "execution_count": 1,
   "metadata": {},
   "outputs": [
    {
     "name": "stdout",
     "output_type": "stream",
     "text": [
      "scikit-learn version:  0.21.2\n"
     ]
    }
   ],
   "source": [
    "#load the required packages and check Scikit-learn version\n",
    "\n",
    "%matplotlib inline  \n",
    "\n",
    "import pandas as pd\n",
    "import numpy as np\n",
    "import scipy as sp\n",
    "import matplotlib.pyplot as plt\n",
    "\n",
    "import sklearn\n",
    "print ('scikit-learn version: ', sklearn.__version__)\n",
    "from sklearn.neural_network import MLPClassifier\n",
    "from sklearn.model_selection import GridSearchCV\n",
    "from sklearn.svm import SVC"
   ]
  },
  {
   "cell_type": "code",
   "execution_count": 2,
   "metadata": {},
   "outputs": [],
   "source": [
    "# helper function to load Fashion MNIST dataset from disk\n",
    "def load_mnist(path, kind='train'):\n",
    "    import os\n",
    "    import gzip\n",
    "    import numpy as np\n",
    "    labels_path = os.path.join(path, '%s-labels-idx1-ubyte.gz' % kind)\n",
    "    images_path = os.path.join(path, '%s-images-idx3-ubyte.gz' % kind)\n",
    "    with gzip.open(labels_path, 'rb') as lbpath:\n",
    "        labels = np.frombuffer(lbpath.read(), dtype=np.uint8,offset=8)\n",
    "    with gzip.open(images_path, 'rb') as imgpath:\n",
    "        images = np.frombuffer(imgpath.read(), dtype=np.uint8,offset=16).reshape(len(labels), 784)\n",
    "    return images, labels"
   ]
  },
  {
   "cell_type": "markdown",
   "metadata": {},
   "source": [
    "# TODO \n",
    "Place a seed for the random generator (you can use your \"numero di matricola\"). Try to change the seed to see the impact of the randomization."
   ]
  },
  {
   "cell_type": "code",
   "execution_count": 3,
   "metadata": {},
   "outputs": [],
   "source": [
    "ID = 1146169 #PLACE YOUR ID\n",
    "np.random.seed(ID)"
   ]
  },
  {
   "cell_type": "code",
   "execution_count": 4,
   "metadata": {},
   "outputs": [
    {
     "name": "stdout",
     "output_type": "stream",
     "text": [
      "Number of samples in the MNIST dataset: 60000\n"
     ]
    }
   ],
   "source": [
    "#load the MNIST dataset and let's normalize the features so that each value is in [0,1]\n",
    "X, y = load_mnist(\"data\")\n",
    "print(\"Number of samples in the MNIST dataset:\", X.shape[0])\n",
    "# rescale the data\n",
    "X = X / 255.0"
   ]
  },
  {
   "cell_type": "markdown",
   "metadata": {},
   "source": [
    "Now split into training and test. We start with a small training set of 600 samples to reduce computation time. Make sure that each label is present at least 10 times\n",
    "in training frequencies."
   ]
  },
  {
   "cell_type": "code",
   "execution_count": 5,
   "metadata": {},
   "outputs": [
    {
     "name": "stdout",
     "output_type": "stream",
     "text": [
      "Labels in training dataset:  [0 1 2 3 4 5 6 7 8 9]\n",
      "Frequencies in training dataset:  [56 68 60 62 57 58 59 64 59 57]\n"
     ]
    }
   ],
   "source": [
    "#random permute the data and split into training and test taking the first 600\n",
    "#data samples as training and the rests as test\n",
    "permutation = np.random.permutation(X.shape[0])\n",
    "\n",
    "X = X[permutation]\n",
    "y = y[permutation]\n",
    "\n",
    "m_training = 600\n",
    "\n",
    "X_train, X_test = X[:m_training], X[m_training:]\n",
    "y_train, y_test = y[:m_training], y[m_training:]\n",
    "\n",
    "labels, freqs = np.unique(y_train, return_counts=True)\n",
    "print(\"Labels in training dataset: \", labels)\n",
    "print(\"Frequencies in training dataset: \", freqs)\n"
   ]
  },
  {
   "cell_type": "code",
   "execution_count": 6,
   "metadata": {},
   "outputs": [],
   "source": [
    "#function for plotting a image and printing the corresponding label\n",
    "def plot_input(X_matrix, labels, index):\n",
    "    print(\"INPUT:\")\n",
    "    plt.imshow(\n",
    "        X_matrix[index].reshape(28,28),\n",
    "        cmap          = plt.cm.gray_r,\n",
    "        interpolation = \"nearest\"\n",
    "    )\n",
    "    plt.show()\n",
    "    print(\"LABEL: %i\"%labels[index])\n",
    "    return"
   ]
  },
  {
   "cell_type": "code",
   "execution_count": 7,
   "metadata": {},
   "outputs": [
    {
     "name": "stdout",
     "output_type": "stream",
     "text": [
      "INPUT:\n"
     ]
    },
    {
     "data": {
      "image/png": "[encoded data removed]",
      "text/plain": [
       "<Figure size 432x288 with 1 Axes>"
      ]
     },
     "metadata": {
      "needs_background": "light"
     },
     "output_type": "display_data"
    },
    {
     "name": "stdout",
     "output_type": "stream",
     "text": [
      "LABEL: 9\n",
      "INPUT:\n"
     ]
    },
    {
     "data": {
      "image/png": "[encoded data removed]",
      "text/plain": [
       "<Figure size 432x288 with 1 Axes>"
      ]
     },
     "metadata": {
      "needs_background": "light"
     },
     "output_type": "display_data"
    },
    {
     "name": "stdout",
     "output_type": "stream",
     "text": [
      "LABEL: 0\n",
      "INPUT:\n"
     ]
    },
    {
     "data": {
      "image/png": "[encoded data removed]",
      "text/plain": [
       "<Figure size 432x288 with 1 Axes>"
      ]
     },
     "metadata": {
      "needs_background": "light"
     },
     "output_type": "display_data"
    },
    {
     "name": "stdout",
     "output_type": "stream",
     "text": [
      "LABEL: 2\n"
     ]
    }
   ],
   "source": [
    "#let's try the plotting function\n",
    "plot_input(X_train,y_train,10)\n",
    "plot_input(X_test,y_test,100)\n",
    "plot_input(X_test,y_test,10000)"
   ]
  },
  {
   "cell_type": "markdown",
   "metadata": {},
   "source": [
    "## TO DO 1\n",
    "\n",
    "Now use a feed-forward Neural Network for prediction. Use the multi-layer perceptron classifier, with the following parameters: max_iter=300, alpha=1e-4, solver='sgd', tol=1e-4, learning_rate_init=.1, random_state=ID (this last parameter ensures the run is the same even if you run it more than once). The alpha parameter is the regularization term.\n",
    "\n",
    "Then, using the default activation function, pick four or five architectures to consider, with different numbers of hidden layers and different sizes. It is not necessary to create huge neural networks, you can limit to 3 layers and, for each layer, its maximum size can be of 100. Evaluate the architectures you chose using GridSearchCV with cv=5.\n",
    "\n",
    "You can reduce the number of iterations if the running time is too long on your computer.\n"
   ]
  },
  {
   "cell_type": "code",
   "execution_count": 8,
   "metadata": {},
   "outputs": [
    {
     "name": "stderr",
     "output_type": "stream",
     "text": [
      "/Users/borto/anaconda3/lib/python3.7/site-packages/sklearn/model_selection/_search.py:813: DeprecationWarning: The default of the `iid` parameter will change from True to False in version 0.22 and will be removed in 0.24. This will change numeric results when test-set sizes are unequal.\n",
      "  DeprecationWarning)\n"
     ]
    },
    {
     "name": "stdout",
     "output_type": "stream",
     "text": [
      "RESULTS FOR NN\n",
      "\n",
      "Best parameters set found: {'hidden_layer_sizes': (20,)}\n",
      "Score with best parameters: 0.775\n",
      "\n",
      "All scores on the grid: \n",
      "\n"
     ]
    },
    {
     "data": {
      "text/html": [
       "<div>\n",
       "<style scoped>\n",
       "    .dataframe tbody tr th:only-of-type {\n",
       "        vertical-align: middle;\n",
       "    }\n",
       "\n",
       "    .dataframe tbody tr th {\n",
       "        vertical-align: top;\n",
       "    }\n",
       "\n",
       "    .dataframe thead th {\n",
       "        text-align: right;\n",
       "    }\n",
       "</style>\n",
       "<table border=\"1\" class=\"dataframe\">\n",
       "  <thead>\n",
       "    <tr style=\"text-align: right;\">\n",
       "      <th></th>\n",
       "      <th>mean_fit_time</th>\n",
       "      <th>std_fit_time</th>\n",
       "      <th>mean_score_time</th>\n",
       "      <th>std_score_time</th>\n",
       "      <th>param_hidden_layer_sizes</th>\n",
       "      <th>params</th>\n",
       "      <th>split0_test_score</th>\n",
       "      <th>split1_test_score</th>\n",
       "      <th>split2_test_score</th>\n",
       "      <th>split3_test_score</th>\n",
       "      <th>...</th>\n",
       "      <th>mean_test_score</th>\n",
       "      <th>std_test_score</th>\n",
       "      <th>rank_test_score</th>\n",
       "      <th>split0_train_score</th>\n",
       "      <th>split1_train_score</th>\n",
       "      <th>split2_train_score</th>\n",
       "      <th>split3_train_score</th>\n",
       "      <th>split4_train_score</th>\n",
       "      <th>mean_train_score</th>\n",
       "      <th>std_train_score</th>\n",
       "    </tr>\n",
       "  </thead>\n",
       "  <tbody>\n",
       "    <tr>\n",
       "      <th>0</th>\n",
       "      <td>0.760425</td>\n",
       "      <td>0.422136</td>\n",
       "      <td>0.000889</td>\n",
       "      <td>0.000517</td>\n",
       "      <td>(10,)</td>\n",
       "      <td>{'hidden_layer_sizes': (10,)}</td>\n",
       "      <td>0.758065</td>\n",
       "      <td>0.756098</td>\n",
       "      <td>0.683333</td>\n",
       "      <td>0.661017</td>\n",
       "      <td>...</td>\n",
       "      <td>0.708333</td>\n",
       "      <td>0.041442</td>\n",
       "      <td>3</td>\n",
       "      <td>1.000000</td>\n",
       "      <td>0.997904</td>\n",
       "      <td>1.000000</td>\n",
       "      <td>0.734440</td>\n",
       "      <td>0.752577</td>\n",
       "      <td>0.896984</td>\n",
       "      <td>0.125446</td>\n",
       "    </tr>\n",
       "    <tr>\n",
       "      <th>1</th>\n",
       "      <td>0.896636</td>\n",
       "      <td>0.119708</td>\n",
       "      <td>0.000760</td>\n",
       "      <td>0.000202</td>\n",
       "      <td>(20,)</td>\n",
       "      <td>{'hidden_layer_sizes': (20,)}</td>\n",
       "      <td>0.806452</td>\n",
       "      <td>0.780488</td>\n",
       "      <td>0.758333</td>\n",
       "      <td>0.737288</td>\n",
       "      <td>...</td>\n",
       "      <td>0.775000</td>\n",
       "      <td>0.024430</td>\n",
       "      <td>1</td>\n",
       "      <td>1.000000</td>\n",
       "      <td>1.000000</td>\n",
       "      <td>1.000000</td>\n",
       "      <td>1.000000</td>\n",
       "      <td>1.000000</td>\n",
       "      <td>1.000000</td>\n",
       "      <td>0.000000</td>\n",
       "    </tr>\n",
       "    <tr>\n",
       "      <th>2</th>\n",
       "      <td>0.882000</td>\n",
       "      <td>0.157813</td>\n",
       "      <td>0.000691</td>\n",
       "      <td>0.000012</td>\n",
       "      <td>(40,)</td>\n",
       "      <td>{'hidden_layer_sizes': (40,)}</td>\n",
       "      <td>0.782258</td>\n",
       "      <td>0.804878</td>\n",
       "      <td>0.741667</td>\n",
       "      <td>0.720339</td>\n",
       "      <td>...</td>\n",
       "      <td>0.765000</td>\n",
       "      <td>0.030066</td>\n",
       "      <td>2</td>\n",
       "      <td>1.000000</td>\n",
       "      <td>1.000000</td>\n",
       "      <td>1.000000</td>\n",
       "      <td>1.000000</td>\n",
       "      <td>1.000000</td>\n",
       "      <td>1.000000</td>\n",
       "      <td>0.000000</td>\n",
       "    </tr>\n",
       "    <tr>\n",
       "      <th>3</th>\n",
       "      <td>0.322900</td>\n",
       "      <td>0.053496</td>\n",
       "      <td>0.000776</td>\n",
       "      <td>0.000078</td>\n",
       "      <td>(40, 20)</td>\n",
       "      <td>{'hidden_layer_sizes': (40, 20)}</td>\n",
       "      <td>0.750000</td>\n",
       "      <td>0.739837</td>\n",
       "      <td>0.608333</td>\n",
       "      <td>0.661017</td>\n",
       "      <td>...</td>\n",
       "      <td>0.703333</td>\n",
       "      <td>0.058503</td>\n",
       "      <td>4</td>\n",
       "      <td>0.924370</td>\n",
       "      <td>0.939203</td>\n",
       "      <td>0.739583</td>\n",
       "      <td>0.751037</td>\n",
       "      <td>0.925773</td>\n",
       "      <td>0.855993</td>\n",
       "      <td>0.090593</td>\n",
       "    </tr>\n",
       "    <tr>\n",
       "      <th>4</th>\n",
       "      <td>0.308186</td>\n",
       "      <td>0.112514</td>\n",
       "      <td>0.000792</td>\n",
       "      <td>0.000036</td>\n",
       "      <td>(40, 30, 20)</td>\n",
       "      <td>{'hidden_layer_sizes': (40, 30, 20)}</td>\n",
       "      <td>0.104839</td>\n",
       "      <td>0.609756</td>\n",
       "      <td>0.708333</td>\n",
       "      <td>0.483051</td>\n",
       "      <td>...</td>\n",
       "      <td>0.403333</td>\n",
       "      <td>0.253253</td>\n",
       "      <td>5</td>\n",
       "      <td>0.107143</td>\n",
       "      <td>0.616352</td>\n",
       "      <td>0.802083</td>\n",
       "      <td>0.539419</td>\n",
       "      <td>0.103093</td>\n",
       "      <td>0.433618</td>\n",
       "      <td>0.281491</td>\n",
       "    </tr>\n",
       "  </tbody>\n",
       "</table>\n",
       "<p>5 rows × 21 columns</p>\n",
       "</div>"
      ],
      "text/plain": [
       "   mean_fit_time  std_fit_time  mean_score_time  std_score_time  \\\n",
       "0       0.760425      0.422136         0.000889        0.000517   \n",
       "1       0.896636      0.119708         0.000760        0.000202   \n",
       "2       0.882000      0.157813         0.000691        0.000012   \n",
       "3       0.322900      0.053496         0.000776        0.000078   \n",
       "4       0.308186      0.112514         0.000792        0.000036   \n",
       "\n",
       "  param_hidden_layer_sizes                                params  \\\n",
       "0                    (10,)         {'hidden_layer_sizes': (10,)}   \n",
       "1                    (20,)         {'hidden_layer_sizes': (20,)}   \n",
       "2                    (40,)         {'hidden_layer_sizes': (40,)}   \n",
       "3                 (40, 20)      {'hidden_layer_sizes': (40, 20)}   \n",
       "4             (40, 30, 20)  {'hidden_layer_sizes': (40, 30, 20)}   \n",
       "\n",
       "   split0_test_score  split1_test_score  split2_test_score  split3_test_score  \\\n",
       "0           0.758065           0.756098           0.683333           0.661017   \n",
       "1           0.806452           0.780488           0.758333           0.737288   \n",
       "2           0.782258           0.804878           0.741667           0.720339   \n",
       "3           0.750000           0.739837           0.608333           0.661017   \n",
       "4           0.104839           0.609756           0.708333           0.483051   \n",
       "\n",
       "   ...  mean_test_score  std_test_score  rank_test_score  split0_train_score  \\\n",
       "0  ...         0.708333        0.041442                3            1.000000   \n",
       "1  ...         0.775000        0.024430                1            1.000000   \n",
       "2  ...         0.765000        0.030066                2            1.000000   \n",
       "3  ...         0.703333        0.058503                4            0.924370   \n",
       "4  ...         0.403333        0.253253                5            0.107143   \n",
       "\n",
       "   split1_train_score  split2_train_score  split3_train_score  \\\n",
       "0            0.997904            1.000000            0.734440   \n",
       "1            1.000000            1.000000            1.000000   \n",
       "2            1.000000            1.000000            1.000000   \n",
       "3            0.939203            0.739583            0.751037   \n",
       "4            0.616352            0.802083            0.539419   \n",
       "\n",
       "   split4_train_score  mean_train_score  std_train_score  \n",
       "0            0.752577          0.896984         0.125446  \n",
       "1            1.000000          1.000000         0.000000  \n",
       "2            1.000000          1.000000         0.000000  \n",
       "3            0.925773          0.855993         0.090593  \n",
       "4            0.103093          0.433618         0.281491  \n",
       "\n",
       "[5 rows x 21 columns]"
      ]
     },
     "execution_count": 8,
     "metadata": {},
     "output_type": "execute_result"
    }
   ],
   "source": [
    "# these are sample values but feel free to change them as you like, try to experiment with different sizes!!\n",
    "parameters = {'hidden_layer_sizes': [(10,), (20,), (40,), (40,20,), (40,30,20) ]}\n",
    "\n",
    "mlp = MLPClassifier(max_iter=300, alpha=1e-4, solver='sgd',\n",
    "                    tol=1e-4, random_state=ID,\n",
    "                    learning_rate_init=.1)\n",
    "\n",
    "#ADD YOUR CODE\n",
    "clf = GridSearchCV(estimator=mlp, param_grid=parameters, cv=5, return_train_score=True)\n",
    "clf.fit(X_train, y_train)\n",
    "\n",
    "print ('RESULTS FOR NN\\n')\n",
    "\n",
    "print(\"Best parameters set found:\", clf.best_params_)\n",
    "#ADD YOUR CODE\n",
    "\n",
    "print(\"Score with best parameters:\", clf.best_score_)\n",
    "#ADD YOUR CODE\n",
    "\n",
    "print(\"\\nAll scores on the grid: \\n\")\n",
    "#ADD YOUR CODE\n",
    "all_scores = pd.DataFrame(clf.cv_results_)\n",
    "all_scores"
   ]
  },
  {
   "cell_type": "markdown",
   "metadata": {},
   "source": [
    "### TO DO 2\n",
    "\n",
    "Now try also different batch sizes, while keeping the best NN architecture you have found above. Remember that the batch size was previously set to the default value, i.e., min(200, n_samples). \n",
    "Recall that a batch size of 1 corresponds to baseline SGD, while using all the 480 training samples (there are 600 samples but in cross validation with 5 folders we use 1/5 of them for validation at each round) corresponds to standard GD and using a different mini-batch size lies in the middle between the two extreme cases."
   ]
  },
  {
   "cell_type": "code",
   "execution_count": 10,
   "metadata": {},
   "outputs": [
    {
     "name": "stdout",
     "output_type": "stream",
     "text": [
      "RESULTS FOR NN\n",
      "\n",
      "Best parameters set found: {'batch_size': 480}\n",
      "Score with best parameters: 0.77\n",
      "\n",
      "All scores on the grid:\n"
     ]
    },
    {
     "data": {
      "text/html": [
       "<div>\n",
       "<style scoped>\n",
       "    .dataframe tbody tr th:only-of-type {\n",
       "        vertical-align: middle;\n",
       "    }\n",
       "\n",
       "    .dataframe tbody tr th {\n",
       "        vertical-align: top;\n",
       "    }\n",
       "\n",
       "    .dataframe thead th {\n",
       "        text-align: right;\n",
       "    }\n",
       "</style>\n",
       "<table border=\"1\" class=\"dataframe\">\n",
       "  <thead>\n",
       "    <tr style=\"text-align: right;\">\n",
       "      <th></th>\n",
       "      <th>mean_fit_time</th>\n",
       "      <th>std_fit_time</th>\n",
       "      <th>mean_score_time</th>\n",
       "      <th>std_score_time</th>\n",
       "      <th>param_batch_size</th>\n",
       "      <th>params</th>\n",
       "      <th>split0_test_score</th>\n",
       "      <th>split1_test_score</th>\n",
       "      <th>split2_test_score</th>\n",
       "      <th>split3_test_score</th>\n",
       "      <th>...</th>\n",
       "      <th>mean_test_score</th>\n",
       "      <th>std_test_score</th>\n",
       "      <th>rank_test_score</th>\n",
       "      <th>split0_train_score</th>\n",
       "      <th>split1_train_score</th>\n",
       "      <th>split2_train_score</th>\n",
       "      <th>split3_train_score</th>\n",
       "      <th>split4_train_score</th>\n",
       "      <th>mean_train_score</th>\n",
       "      <th>std_train_score</th>\n",
       "    </tr>\n",
       "  </thead>\n",
       "  <tbody>\n",
       "    <tr>\n",
       "      <th>0</th>\n",
       "      <td>12.699035</td>\n",
       "      <td>2.363417</td>\n",
       "      <td>0.000768</td>\n",
       "      <td>0.000229</td>\n",
       "      <td>1</td>\n",
       "      <td>{'batch_size': 1}</td>\n",
       "      <td>0.116667</td>\n",
       "      <td>0.091667</td>\n",
       "      <td>0.075</td>\n",
       "      <td>0.075000</td>\n",
       "      <td>...</td>\n",
       "      <td>0.096667</td>\n",
       "      <td>0.020817</td>\n",
       "      <td>3</td>\n",
       "      <td>0.091667</td>\n",
       "      <td>0.110417</td>\n",
       "      <td>0.104167</td>\n",
       "      <td>0.114583</td>\n",
       "      <td>0.091667</td>\n",
       "      <td>0.102500</td>\n",
       "      <td>0.009446</td>\n",
       "    </tr>\n",
       "    <tr>\n",
       "      <th>1</th>\n",
       "      <td>0.537218</td>\n",
       "      <td>0.297135</td>\n",
       "      <td>0.000710</td>\n",
       "      <td>0.000102</td>\n",
       "      <td>32</td>\n",
       "      <td>{'batch_size': 32}</td>\n",
       "      <td>0.691667</td>\n",
       "      <td>0.758333</td>\n",
       "      <td>0.725</td>\n",
       "      <td>0.666667</td>\n",
       "      <td>...</td>\n",
       "      <td>0.730000</td>\n",
       "      <td>0.049889</td>\n",
       "      <td>2</td>\n",
       "      <td>0.962500</td>\n",
       "      <td>0.906250</td>\n",
       "      <td>0.929167</td>\n",
       "      <td>0.933333</td>\n",
       "      <td>1.000000</td>\n",
       "      <td>0.946250</td>\n",
       "      <td>0.032286</td>\n",
       "    </tr>\n",
       "    <tr>\n",
       "      <th>2</th>\n",
       "      <td>0.415073</td>\n",
       "      <td>0.156806</td>\n",
       "      <td>0.000713</td>\n",
       "      <td>0.000145</td>\n",
       "      <td>480</td>\n",
       "      <td>{'batch_size': 480}</td>\n",
       "      <td>0.766667</td>\n",
       "      <td>0.833333</td>\n",
       "      <td>0.775</td>\n",
       "      <td>0.716667</td>\n",
       "      <td>...</td>\n",
       "      <td>0.770000</td>\n",
       "      <td>0.037491</td>\n",
       "      <td>1</td>\n",
       "      <td>1.000000</td>\n",
       "      <td>0.966667</td>\n",
       "      <td>0.972917</td>\n",
       "      <td>0.975000</td>\n",
       "      <td>0.920833</td>\n",
       "      <td>0.967083</td>\n",
       "      <td>0.025766</td>\n",
       "    </tr>\n",
       "  </tbody>\n",
       "</table>\n",
       "<p>3 rows × 21 columns</p>\n",
       "</div>"
      ],
      "text/plain": [
       "   mean_fit_time  std_fit_time  mean_score_time  std_score_time  \\\n",
       "0      12.699035      2.363417         0.000768        0.000229   \n",
       "1       0.537218      0.297135         0.000710        0.000102   \n",
       "2       0.415073      0.156806         0.000713        0.000145   \n",
       "\n",
       "  param_batch_size               params  split0_test_score  split1_test_score  \\\n",
       "0                1    {'batch_size': 1}           0.116667           0.091667   \n",
       "1               32   {'batch_size': 32}           0.691667           0.758333   \n",
       "2              480  {'batch_size': 480}           0.766667           0.833333   \n",
       "\n",
       "   split2_test_score  split3_test_score  ...  mean_test_score  std_test_score  \\\n",
       "0              0.075           0.075000  ...         0.096667        0.020817   \n",
       "1              0.725           0.666667  ...         0.730000        0.049889   \n",
       "2              0.775           0.716667  ...         0.770000        0.037491   \n",
       "\n",
       "   rank_test_score  split0_train_score  split1_train_score  \\\n",
       "0                3            0.091667            0.110417   \n",
       "1                2            0.962500            0.906250   \n",
       "2                1            1.000000            0.966667   \n",
       "\n",
       "   split2_train_score  split3_train_score  split4_train_score  \\\n",
       "0            0.104167            0.114583            0.091667   \n",
       "1            0.929167            0.933333            1.000000   \n",
       "2            0.972917            0.975000            0.920833   \n",
       "\n",
       "   mean_train_score  std_train_score  \n",
       "0          0.102500         0.009446  \n",
       "1          0.946250         0.032286  \n",
       "2          0.967083         0.025766  \n",
       "\n",
       "[3 rows x 21 columns]"
      ]
     },
     "execution_count": 10,
     "metadata": {},
     "output_type": "execute_result"
    }
   ],
   "source": [
    "# these are sample values corresponding to baseline SGD, a reasonable mini-batch size and standard GD\n",
    "# again feel free to change them as you like, try to experiment with different batch sizes!!\n",
    "parameters = {'batch_size': [1, 32, 480]}\n",
    "\n",
    "# need to specify that you would like to use the standard k-fold split otherwise sklearn create splits of different sizes\n",
    "kf = sklearn.model_selection.KFold(n_splits=5)\n",
    "\n",
    "#ADD YOUR CODE\n",
    "\n",
    "# recall to use cv=kf in GridSearchCV parameters to use the k-fold subdivision seen in the lectures\n",
    "best_mlp = MLPClassifier(max_iter=300, alpha=1e-4, solver='sgd', tol=1e-4, \n",
    "                         random_state=ID, learning_rate_init=.1, hidden_layer_sizes=(20, ))\n",
    "\n",
    "clf1 = GridSearchCV(estimator=best_mlp, param_grid=parameters, cv=kf, return_train_score=True)\n",
    "clf1.fit(X_train, y_train)\n",
    "\n",
    "#ADD YOUR CODE\n",
    "\n",
    "print ('RESULTS FOR NN\\n')\n",
    "\n",
    "print(\"Best parameters set found:\", clf1.best_params_)\n",
    "#ADD YOUR CODE\n",
    "\n",
    "print(\"Score with best parameters:\", clf1.best_score_)\n",
    "#ADD YOUR CODE\n",
    "\n",
    "print(\"\\nAll scores on the grid:\")\n",
    "#ADD YOUR CODE\n",
    "all_scores1 = pd.DataFrame(clf1.cv_results_)\n",
    "all_scores1"
   ]
  },
  {
   "cell_type": "markdown",
   "metadata": {},
   "source": [
    "### QUESTION 1\n",
    "\n",
    "What do you observe for different architectures and batch sizes? How do the number of layers and their sizes affect the performances? What do you observe for different batch sizes, in particular what happens to the training convergence for different batch sizes (notice that the algorithm could not converge for some batch sizes)?"
   ]
  },
  {
   "cell_type": "markdown",
   "metadata": {},
   "source": [
    "## [ANSWER TO QUESTION 1]\n",
    "Using different architectures I find that the best score (`0.775`) is obtained using one hidden layer of size (20,). Using the best NN architecture I find that the best batch size is `480`, which corresponds to standard GD, and the best score is `0.77`.<br>\n",
    "Increasing the number of layers the performances seem to get worse (except for one layer of size (10, )) and increasing their sizes leads to better scores (to be honest the score obtained with a layer of size (40, ) is slightly lower than the one obtained with a layer of size (20, ), but anyway they are bigger than the score obtained with a layer of size (10, )). <br>\n",
    "If we look at the training convergence for different batch sizes, we see that increasing the batch size the score  significantly increases going from `1` to `32` and it slightly improves going from `32` to `480`."
   ]
  },
  {
   "cell_type": "markdown",
   "metadata": {},
   "source": [
    "### TO DO 3\n",
    "\n",
    "Now try also to use different learning rates, while keeping the best NN architecture and batch size you have found above. Plot the learning curves (i.e., the variation of the loss over the steps, you can get it from the loss_curve_ object of sklearn) for the different values of the learning rate . "
   ]
  },
  {
   "cell_type": "code",
   "execution_count": 23,
   "metadata": {},
   "outputs": [
    {
     "name": "stderr",
     "output_type": "stream",
     "text": [
      "/Users/borto/anaconda3/lib/python3.7/site-packages/sklearn/neural_network/multilayer_perceptron.py:566: ConvergenceWarning: Stochastic Optimizer: Maximum iterations (300) reached and the optimization hasn't converged yet.\n",
      "  % self.max_iter, ConvergenceWarning)\n",
      "/Users/borto/anaconda3/lib/python3.7/site-packages/sklearn/neural_network/multilayer_perceptron.py:566: ConvergenceWarning: Stochastic Optimizer: Maximum iterations (300) reached and the optimization hasn't converged yet.\n",
      "  % self.max_iter, ConvergenceWarning)\n",
      "/Users/borto/anaconda3/lib/python3.7/site-packages/sklearn/neural_network/multilayer_perceptron.py:566: ConvergenceWarning: Stochastic Optimizer: Maximum iterations (300) reached and the optimization hasn't converged yet.\n",
      "  % self.max_iter, ConvergenceWarning)\n",
      "/Users/borto/anaconda3/lib/python3.7/site-packages/sklearn/neural_network/multilayer_perceptron.py:566: ConvergenceWarning: Stochastic Optimizer: Maximum iterations (300) reached and the optimization hasn't converged yet.\n",
      "  % self.max_iter, ConvergenceWarning)\n",
      "/Users/borto/anaconda3/lib/python3.7/site-packages/sklearn/neural_network/multilayer_perceptron.py:566: ConvergenceWarning: Stochastic Optimizer: Maximum iterations (300) reached and the optimization hasn't converged yet.\n",
      "  % self.max_iter, ConvergenceWarning)\n",
      "/Users/borto/anaconda3/lib/python3.7/site-packages/sklearn/neural_network/multilayer_perceptron.py:566: ConvergenceWarning: Stochastic Optimizer: Maximum iterations (300) reached and the optimization hasn't converged yet.\n",
      "  % self.max_iter, ConvergenceWarning)\n",
      "/Users/borto/anaconda3/lib/python3.7/site-packages/sklearn/neural_network/multilayer_perceptron.py:566: ConvergenceWarning: Stochastic Optimizer: Maximum iterations (300) reached and the optimization hasn't converged yet.\n",
      "  % self.max_iter, ConvergenceWarning)\n",
      "/Users/borto/anaconda3/lib/python3.7/site-packages/sklearn/neural_network/multilayer_perceptron.py:566: ConvergenceWarning: Stochastic Optimizer: Maximum iterations (300) reached and the optimization hasn't converged yet.\n",
      "  % self.max_iter, ConvergenceWarning)\n",
      "/Users/borto/anaconda3/lib/python3.7/site-packages/sklearn/neural_network/multilayer_perceptron.py:566: ConvergenceWarning: Stochastic Optimizer: Maximum iterations (300) reached and the optimization hasn't converged yet.\n",
      "  % self.max_iter, ConvergenceWarning)\n",
      "/Users/borto/anaconda3/lib/python3.7/site-packages/sklearn/neural_network/multilayer_perceptron.py:566: ConvergenceWarning: Stochastic Optimizer: Maximum iterations (300) reached and the optimization hasn't converged yet.\n",
      "  % self.max_iter, ConvergenceWarning)\n"
     ]
    },
    {
     "name": "stdout",
     "output_type": "stream",
     "text": [
      "RESULTS FOR NN\n",
      "\n",
      "Best parameters set found: {'learning_rate_init': 0.1}\n",
      "Score with best parameters: 0.77\n"
     ]
    },
    {
     "name": "stderr",
     "output_type": "stream",
     "text": [
      "/Users/borto/anaconda3/lib/python3.7/site-packages/sklearn/neural_network/multilayer_perceptron.py:566: ConvergenceWarning: Stochastic Optimizer: Maximum iterations (300) reached and the optimization hasn't converged yet.\n",
      "  % self.max_iter, ConvergenceWarning)\n",
      "/Users/borto/anaconda3/lib/python3.7/site-packages/sklearn/neural_network/multilayer_perceptron.py:566: ConvergenceWarning: Stochastic Optimizer: Maximum iterations (300) reached and the optimization hasn't converged yet.\n",
      "  % self.max_iter, ConvergenceWarning)\n"
     ]
    },
    {
     "data": {
      "image/png": "[encoded data removed]",
      "text/plain": [
       "<Figure size 432x288 with 1 Axes>"
      ]
     },
     "metadata": {
      "needs_background": "light"
     },
     "output_type": "display_data"
    }
   ],
   "source": [
    "import matplotlib.pyplot as plt\n",
    "\n",
    "\n",
    "lr_list = [10**exp for exp in range(-3,0)]\n",
    "scores = {}\n",
    "\n",
    "#ADD YOUR CODE\n",
    "parameters = {'learning_rate_init': lr_list}\n",
    "\n",
    "best_mlp2 = MLPClassifier(max_iter=300, alpha=1e-4, solver='sgd', tol=1e-4, \n",
    "                        random_state=ID, hidden_layer_sizes=(20, ), batch_size=480)\n",
    "\n",
    "\n",
    "clf2 = GridSearchCV(estimator=best_mlp2, param_grid=parameters, cv=kf, return_train_score=True)\n",
    "clf2.fit(X_train, y_train)\n",
    "\n",
    "\n",
    "print ('RESULTS FOR NN\\n')\n",
    "\n",
    "print(\"Best parameters set found:\", clf2.best_params_)\n",
    "#ADD YOUR CODE\n",
    "\n",
    "print(\"Score with best parameters:\", clf2.best_score_)\n",
    "#ADD YOUR CODE\n",
    "\n",
    "for i in lr_list:\n",
    "    NN = MLPClassifier(max_iter=300, alpha=1e-4, solver='sgd', tol=1e-4, \n",
    "                        random_state=ID, hidden_layer_sizes=(20, ), batch_size=480,\n",
    "                        learning_rate_init=i).fit(X_train, y_train)\n",
    "    scores[str(i)] = NN.loss_curve_\n",
    "    \n",
    "plt.plot(scores[str(lr_list[0])], label='learning rate = 0.001')\n",
    "plt.plot(scores[str(lr_list[1])], label='learning rate = 0.01')\n",
    "plt.plot(scores[str(lr_list[2])], label='learning rate = 0.1')\n",
    "plt.xlabel('number of iterations')\n",
    "plt.title('Loss curves')\n",
    "plt.ylabel('loss')\n",
    "plt.legend()\n",
    "plt.grid()\n",
    "plt.show()"
   ]
  },
  {
   "cell_type": "markdown",
   "metadata": {},
   "source": [
    "### QUESTION 2\n",
    "\n",
    "Comment about the learning curves (i.e. the variation of the loss over the steps). How does the curve changes for different learning rates in terms of stability and speed of convergence ?"
   ]
  },
  {
   "cell_type": "markdown",
   "metadata": {},
   "source": [
    "## [ANSWER TO QUESTION 2]\n",
    "Quella che è più veloce a convergere è anche quella più instabile."
   ]
  },
  {
   "cell_type": "markdown",
   "metadata": {},
   "source": [
    "### TO DO 4\n",
    "\n",
    "Now get training and test error for a NN with best parameters (architecture, batch size and learning rate)from above. Plot the learning curve also for this case."
   ]
  },
  {
   "cell_type": "code",
   "execution_count": 22,
   "metadata": {
    "scrolled": true
   },
   "outputs": [
    {
     "name": "stdout",
     "output_type": "stream",
     "text": [
      "\n",
      "RESULTS FOR BEST NN\n",
      "\n",
      "Best NN training error: 0.000000\n",
      "Best NN test error: 0.211094\n"
     ]
    },
    {
     "data": {
      "image/png": "[encoded data removed]",
      "text/plain": [
       "<Figure size 432x288 with 1 Axes>"
      ]
     },
     "metadata": {
      "needs_background": "light"
     },
     "output_type": "display_data"
    }
   ],
   "source": [
    "#get training and test error for the best NN model from CV\n",
    "\n",
    "#ADD YOUR CODE\n",
    "best_mlp_final = best_mlp2 = MLPClassifier(max_iter=300, alpha=1e-4, solver='sgd',\n",
    "                    tol=1e-4, random_state=ID, learning_rate_init=0.1, hidden_layer_sizes=(20, ), \n",
    "                    batch_size=480)\n",
    "\n",
    "best_mlp_final.fit(X_train, y_train)\n",
    "\n",
    "training_error = 1 - best_mlp_final.score(X_train,y_train)\n",
    "test_error = 1 - best_mlp_final.score(X_test,y_test)\n",
    "\n",
    "print ('\\nRESULTS FOR BEST NN\\n')\n",
    "\n",
    "print (\"Best NN training error: %f\" % training_error)\n",
    "print (\"Best NN test error: %f\" % test_error)\n",
    "\n",
    "#ADD YOUR CODE FOR PLOTTING\n",
    "plt.plot(best_mlp_final.loss_curve_, label='loss_curve')\n",
    "plt.xlabel('number of iterations')\n",
    "plt.ylabel('loss')\n",
    "plt.legend()\n",
    "plt.grid()\n",
    "plt.show()"
   ]
  },
  {
   "cell_type": "markdown",
   "metadata": {},
   "source": [
    "## More data \n",
    "Now let's do the same but using 5000 (or less if it takes too long on your machine) data points for training. Use the same NN architecture as before, but you can try more if you like and have a powerful computer !!"
   ]
  },
  {
   "cell_type": "code",
   "execution_count": 24,
   "metadata": {},
   "outputs": [
    {
     "name": "stdout",
     "output_type": "stream",
     "text": [
      "Labels in training dataset:  [0 1 2 3 4 5 6 7 8 9]\n",
      "Frequencies in training dataset:  [478 544 497 516 445 509 498 527 483 503]\n"
     ]
    }
   ],
   "source": [
    "X = X[permutation]\n",
    "y = y[permutation]\n",
    "\n",
    "m_training = 5000\n",
    "\n",
    "X_train, X_test = X[:m_training], X[m_training:]\n",
    "y_train, y_test = y[:m_training], y[m_training:]\n",
    "\n",
    "labels, freqs = np.unique(y_train, return_counts=True)\n",
    "print(\"Labels in training dataset: \", labels)\n",
    "print(\"Frequencies in training dataset: \", freqs)"
   ]
  },
  {
   "cell_type": "markdown",
   "metadata": {},
   "source": [
    "## TO DO 5\n",
    "\n",
    "Now train the NNs with the added data points using the optimum parameters found above. Eventually, feel free to try different architectures if you like. We suggest that you use 'verbose=True' so have an idea of how long it takes to run 1 iteration (eventually reduce also the number of iterations to 50)."
   ]
  },
  {
   "cell_type": "code",
   "execution_count": 28,
   "metadata": {},
   "outputs": [
    {
     "name": "stdout",
     "output_type": "stream",
     "text": [
      "Iteration 1, loss = 1.87663161\n",
      "Iteration 2, loss = 1.11763975\n",
      "Iteration 3, loss = 0.70886208\n",
      "Iteration 4, loss = 0.61277619\n",
      "Iteration 5, loss = 0.56708732\n",
      "Iteration 6, loss = 0.50946538\n",
      "Iteration 7, loss = 0.48411325\n",
      "Iteration 8, loss = 0.46055481\n",
      "Iteration 9, loss = 0.45765273\n",
      "Iteration 10, loss = 0.43491216\n",
      "Iteration 11, loss = 0.43190528\n",
      "Iteration 12, loss = 0.42413447\n",
      "Iteration 13, loss = 0.39588195\n",
      "Iteration 14, loss = 0.39462586\n",
      "Iteration 15, loss = 0.37491990\n",
      "Iteration 16, loss = 0.38988951\n",
      "Iteration 17, loss = 0.36497896\n",
      "Iteration 18, loss = 0.35810191\n",
      "Iteration 19, loss = 0.36164854\n",
      "Iteration 20, loss = 0.33862014\n",
      "Iteration 21, loss = 0.36630873\n",
      "Iteration 22, loss = 0.36109513\n",
      "Iteration 23, loss = 0.32479792\n",
      "Iteration 24, loss = 0.31539508\n",
      "Iteration 25, loss = 0.32833278\n",
      "Iteration 26, loss = 0.30797385\n",
      "Iteration 27, loss = 0.30227730\n",
      "Iteration 28, loss = 0.31691433\n",
      "Iteration 29, loss = 0.34017987\n",
      "Iteration 30, loss = 0.28514520\n",
      "Iteration 31, loss = 0.27793533\n",
      "Iteration 32, loss = 0.29309564\n",
      "Iteration 33, loss = 0.28323597\n",
      "Iteration 34, loss = 0.27814971\n",
      "Iteration 35, loss = 0.28026108\n",
      "Iteration 36, loss = 0.30448629\n",
      "Iteration 37, loss = 0.25814357\n",
      "Iteration 38, loss = 0.27251763\n",
      "Iteration 39, loss = 0.27214773\n",
      "Iteration 40, loss = 0.26112657\n",
      "Iteration 41, loss = 0.24649630\n",
      "Iteration 42, loss = 0.26626030\n",
      "Iteration 43, loss = 0.26149776\n",
      "Iteration 44, loss = 0.24971506\n",
      "Iteration 45, loss = 0.23646703\n",
      "Iteration 46, loss = 0.22613684\n",
      "Iteration 47, loss = 0.23133596\n",
      "Iteration 48, loss = 0.23171257\n",
      "Iteration 49, loss = 0.24540071\n",
      "Iteration 50, loss = 0.25778765\n",
      "Iteration 51, loss = 0.22305199\n",
      "Iteration 52, loss = 0.21320043\n",
      "Iteration 53, loss = 0.20852551\n",
      "Iteration 54, loss = 0.23423098\n",
      "Iteration 55, loss = 0.34422739\n",
      "Iteration 56, loss = 0.21768588\n",
      "Iteration 57, loss = 0.19857801\n",
      "Iteration 58, loss = 0.20463139\n",
      "Iteration 59, loss = 0.24825082\n",
      "Iteration 60, loss = 0.23056134\n",
      "Iteration 61, loss = 0.19272121\n",
      "Iteration 62, loss = 0.18926600\n",
      "Iteration 63, loss = 0.20715579\n",
      "Iteration 64, loss = 0.18606618\n",
      "Iteration 65, loss = 0.17648728\n",
      "Iteration 66, loss = 0.19672081\n",
      "Iteration 67, loss = 0.17419782\n",
      "Iteration 68, loss = 0.25769268\n",
      "Iteration 69, loss = 0.19097003\n",
      "Iteration 70, loss = 0.19562738\n",
      "Iteration 71, loss = 0.16659781\n",
      "Iteration 72, loss = 0.21190249\n",
      "Iteration 73, loss = 0.17294031\n",
      "Iteration 74, loss = 0.20504984\n",
      "Iteration 75, loss = 0.16368620\n",
      "Iteration 76, loss = 0.17304566\n",
      "Iteration 77, loss = 0.14978257\n",
      "Iteration 78, loss = 0.16218273\n",
      "Iteration 79, loss = 0.17873274\n",
      "Iteration 80, loss = 0.18819609\n",
      "Iteration 81, loss = 0.16037280\n",
      "Iteration 82, loss = 0.15866165\n",
      "Iteration 83, loss = 0.26420542\n",
      "Iteration 84, loss = 0.17916581\n",
      "Iteration 85, loss = 0.14584870\n",
      "Iteration 86, loss = 0.17642061\n",
      "Iteration 87, loss = 0.14210563\n",
      "Iteration 88, loss = 0.16906698\n",
      "Iteration 89, loss = 0.13809773\n",
      "Iteration 90, loss = 0.13066603\n",
      "Iteration 91, loss = 0.15409415\n",
      "Iteration 92, loss = 0.14460228\n",
      "Iteration 93, loss = 0.14797208\n",
      "Iteration 94, loss = 0.12812687\n",
      "Iteration 95, loss = 0.16690340\n",
      "Iteration 96, loss = 0.14531146\n",
      "Iteration 97, loss = 0.18579795\n",
      "Iteration 98, loss = 0.14078462\n",
      "Iteration 99, loss = 0.14409332\n",
      "Iteration 100, loss = 0.12417704\n",
      "Iteration 101, loss = 0.11249458\n",
      "Iteration 102, loss = 0.12496856\n",
      "Iteration 103, loss = 0.15136434\n",
      "Iteration 104, loss = 0.15268260\n",
      "Iteration 105, loss = 0.11827284\n",
      "Iteration 106, loss = 0.11791831\n",
      "Iteration 107, loss = 0.11041820\n",
      "Iteration 108, loss = 0.12933045\n",
      "Iteration 109, loss = 0.13536186\n",
      "Iteration 110, loss = 0.11423861\n",
      "Iteration 111, loss = 0.12168746\n",
      "Iteration 112, loss = 0.10761448\n",
      "Iteration 113, loss = 0.17329230\n",
      "Iteration 114, loss = 0.10024130\n",
      "Iteration 115, loss = 0.44006321\n",
      "Iteration 116, loss = 0.21559700\n",
      "Iteration 117, loss = 0.15405258\n",
      "Iteration 118, loss = 0.13706501\n",
      "Iteration 119, loss = 0.12967858\n",
      "Iteration 120, loss = 0.12030397\n",
      "Iteration 121, loss = 0.12460770\n",
      "Iteration 122, loss = 0.13717866\n",
      "Iteration 123, loss = 0.12364124\n",
      "Iteration 124, loss = 0.12599128\n",
      "Iteration 125, loss = 0.10289219\n",
      "Training loss did not improve more than tol=0.000100 for 10 consecutive epochs. Stopping.\n",
      "\n",
      "RESULTS FOR NN\n",
      "\n",
      "NN training error: 0.038000\n",
      "NN test error: 0.173800\n"
     ]
    }
   ],
   "source": [
    "# use best architecture and params from before\n",
    "\n",
    "#ADD YOUR CODE\n",
    "best_mlp_final_large = best_mlp2 = MLPClassifier(max_iter=300, alpha=1e-4, solver='sgd',\n",
    "                    tol=1e-4, random_state=ID, learning_rate_init=0.1, hidden_layer_sizes=(20, ), \n",
    "                    batch_size=480, verbose=True)\n",
    "\n",
    "best_mlp_final_large.fit(X_train, y_train)\n",
    "\n",
    "training_error = 1 - best_mlp_final_large.score(X_train,y_train)\n",
    "test_error = 1 - best_mlp_final_large.score(X_test,y_test)\n",
    "\n",
    "\n",
    "print ('\\nRESULTS FOR NN\\n')\n",
    "\n",
    "print (\"NN training error: %f\" % training_error)\n",
    "print (\"NN test error: %f\" % test_error)"
   ]
  },
  {
   "cell_type": "markdown",
   "metadata": {},
   "source": [
    "## QUESTION 3\n",
    "Compare the train and test errors you got with a large number of samples with the best one you obtained with only 600 data points. Comment about the results you obtained."
   ]
  },
  {
   "cell_type": "markdown",
   "metadata": {},
   "source": [
    "## [ANSWER TO QUESTION 3]\n",
    "Using 600 data points I obtain train error = 0 and test error = 0.211094, whereas using a larger number of samples I get train error = 0.038000 and test error = 173800. Probably using the smaller data set there is some overfitting, in fact the train error is 0. Using a larger number of samples the test error is different from 0 but still very small and the test error is smaller than the one obtained using 600 data points, so using more data the algorithm works better."
   ]
  },
  {
   "cell_type": "markdown",
   "metadata": {},
   "source": [
    "### TO DO 7\n",
    "\n",
    "Plot an example that was missclassified by NN with m=600 training data points and it is now instead correctly classified by NN with m=5000 training data points."
   ]
  },
  {
   "cell_type": "code",
   "execution_count": 36,
   "metadata": {},
   "outputs": [
    {
     "name": "stdout",
     "output_type": "stream",
     "text": [
      "[]\n",
      "No example was missclassified by NN with m=600 training data points and not by NN with m=5000 training data points\n"
     ]
    }
   ],
   "source": [
    "NN_prediction = best_mlp_final.predict(X_test) #ADD YOUR CODE\n",
    "large_NN_prediction = best_mlp_final_large.predict(X_test) #ADD YOUR CODE\n",
    "\n",
    "#ADD YOUR CODE\n",
    "wrongly_classified = []\n",
    "for i in range(len(y_test)):\n",
    "    if (large_NN_prediction[i] == y_test[i]) and (NN_prediction[i] != y_test[i]):\n",
    "        wrongly_classified.append(i)\n",
    "    \n",
    "if wrongly_classified == []:\n",
    "    print(wrongly_classified)\n",
    "    print('No example was missclassified by NN with m=600 training data points and not by NN with m=5000 training data points')\n",
    "else:\n",
    "    print(wrongly_classified)\n",
    "    print('An example that was missclassified by NN with m=600 training data points and it is now instead correctly classified by NN with m=5000 training data points is the image'+str(wrongly_classified[0]))\n",
    "    plot_input(X_test, y_test, wrongly_classified[0])"
   ]
  },
  {
   "cell_type": "markdown",
   "metadata": {},
   "source": [
    "### TO DO 8\n",
    "\n",
    "Let's plot the weigths of the multi-layer perceptron classifier, for the best NN we get with 600 data points and with 5000 data points. The code is already provided, just fix variable names (e.g., replace mlp ,  mlp_large with your estimators) in order to have it working with your implementation\n",
    "\n"
   ]
  },
  {
   "cell_type": "code",
   "execution_count": 37,
   "metadata": {},
   "outputs": [
    {
     "name": "stdout",
     "output_type": "stream",
     "text": [
      "Weights with 600 data points:\n"
     ]
    },
    {
     "data": {
      "image/png": "[encoded data removed]",
      "text/plain": [
       "<Figure size 432x288 with 16 Axes>"
      ]
     },
     "metadata": {},
     "output_type": "display_data"
    },
    {
     "name": "stdout",
     "output_type": "stream",
     "text": [
      "Weights with 5000 data points:\n"
     ]
    },
    {
     "data": {
      "image/png": "[encoded data removed]",
      "text/plain": [
       "<Figure size 432x288 with 16 Axes>"
      ]
     },
     "metadata": {},
     "output_type": "display_data"
    }
   ],
   "source": [
    "# The code is already provided, fix variable names in order to have it working with your implementation\n",
    "\n",
    "print(\"Weights with 600 data points:\")\n",
    "\n",
    "fig, axes = plt.subplots(4, 4)\n",
    "vmin, vmax = best_mlp_final.coefs_[0].min(), best_mlp_final.coefs_[0].max()\n",
    "for coef, ax in zip(best_mlp_final.coefs_[0].T, axes.ravel()):\n",
    "    ax.matshow(coef.reshape(28, 28), cmap=plt.cm.gray, vmin=.5 * vmin,\n",
    "               vmax=.5 * vmax)\n",
    "    ax.set_xticks(())\n",
    "    ax.set_yticks(())\n",
    "\n",
    "plt.show()\n",
    "\n",
    "print(\"Weights with 5000 data points:\")\n",
    "\n",
    "fig, axes = plt.subplots(4, 4)\n",
    "vmin, vmax = best_mlp_final_large.coefs_[0].min(), best_mlp_final_large.coefs_[0].max()\n",
    "for coef, ax in zip(best_mlp_final_large.coefs_[0].T, axes.ravel()):\n",
    "    ax.matshow(coef.reshape(28, 28), cmap=plt.cm.gray, vmin=.5 * vmin,\n",
    "               vmax=.5 * vmax)\n",
    "    ax.set_xticks(())\n",
    "    ax.set_yticks(())\n",
    "plt.show()"
   ]
  },
  {
   "cell_type": "markdown",
   "metadata": {},
   "source": [
    "## QUESTION 4\n",
    "\n",
    "Describe what do you observe by looking at the weights"
   ]
  },
  {
   "cell_type": "markdown",
   "metadata": {},
   "source": [
    "## [ANSWER TO QUESTION 4]"
   ]
  },
  {
   "cell_type": "markdown",
   "metadata": {},
   "source": [
    "### TO DO 9\n",
    "\n",
    "Report the best SVM model and its parameters, you found in the last notebook (or check out the solution on the moodle webpage of the course). Fit it on a few data points and compute its training and test scores."
   ]
  },
  {
   "cell_type": "code",
   "execution_count": 38,
   "metadata": {},
   "outputs": [
    {
     "name": "stdout",
     "output_type": "stream",
     "text": [
      "RESULTS FOR SVM\n",
      "Training score SVM:\n",
      "0.0\n",
      "Test score SVM:\n",
      "0.14559999999999995\n"
     ]
    }
   ],
   "source": [
    "m_training = 5000\n",
    "\n",
    "X_train, X_test = X[:m_training], X[m_training:2*m_training]\n",
    "y_train, y_test = y[:m_training], y[m_training:2*m_training]\n",
    "\n",
    "# use best parameters found in the SVM notebook, create SVM and perform fitting\n",
    "\n",
    "#ADD YOUR CODE\n",
    "SVM = SVC(C=50, gamma=0.05, kernel='rbf')\n",
    "SVM.fit(X_train, y_train)\n",
    "\n",
    "print ('RESULTS FOR SVM')\n",
    "\n",
    "SVM_training_error = 1 - SVM.score(X_train, y_train) #ADD YOUR CODE\n",
    "\n",
    "print(\"Training score SVM:\")\n",
    "print(SVM_training_error)\n",
    "\n",
    "SVM_test_error = 1 - SVM.score(X_test, y_test) #ADD YOUR CODE\n",
    "print(\"Test score SVM:\")\n",
    "print(SVM_test_error)"
   ]
  },
  {
   "cell_type": "markdown",
   "metadata": {
    "collapsed": true
   },
   "source": [
    "## QUESTION 5\n",
    "Compare the results of SVM and of NN. Which one would you prefer? "
   ]
  },
  {
   "cell_type": "markdown",
   "metadata": {},
   "source": [
    "## [ANSWER TO QUESTION 5]"
   ]
  },
  {
   "cell_type": "code",
   "execution_count": null,
   "metadata": {},
   "outputs": [],
   "source": []
  }
 ],
 "metadata": {
  "kernelspec": {
   "display_name": "Python 3",
   "language": "python",
   "name": "python3"
  },
  "language_info": {
   "codemirror_mode": {
    "name": "ipython",
    "version": 3
   },
   "file_extension": ".py",
   "mimetype": "text/x-python",
   "name": "python",
   "nbconvert_exporter": "python",
   "pygments_lexer": "ipython3",
   "version": "3.7.3"
  }
 },
 "nbformat": 4,
 "nbformat_minor": 2
}
