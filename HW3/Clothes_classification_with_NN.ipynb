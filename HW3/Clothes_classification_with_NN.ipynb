{
 "cells": [
  {
   "cell_type": "markdown",
   "metadata": {},
   "source": [
    "#### Matteo Bortoletto, 1146169 (old ID, the new one is coming this january)\n",
    "\n",
    "# Clothes Classification with Neural Networks\n",
    "\n",
    "In this notebook we are going to explore the Neural Networks for image classification. We are going to use the same dataset of the SVM notebook: Fashion MNIST (https://pravarmahajan.github.io/fashion/), a dataset of small images of clothes and accessories.\n",
    "\n",
    "The dataset labels are the following:\n",
    "\n",
    "| Label | Description |\n",
    "| --- | --- |\n",
    "| 0 | T-shirt/top |\n",
    "| 1 | Trouser |\n",
    "| 2 | Pullover |\n",
    "| 3 | Dress |\n",
    "| 4 | Coat |\n",
    "| 5 | Sandal |\n",
    "| 6 | Shirt |\n",
    "| 7 | Sneaker |\n",
    "| 8 | Bag |\n",
    "| 9 | Ankle boot |"
   ]
  },
  {
   "cell_type": "code",
   "execution_count": 1,
   "metadata": {},
   "outputs": [
    {
     "name": "stdout",
     "output_type": "stream",
     "text": [
      "scikit-learn version:  0.21.2\n"
     ]
    }
   ],
   "source": [
    "#load the required packages and check Scikit-learn version\n",
    "\n",
    "%matplotlib inline  \n",
    "\n",
    "import pandas as pd\n",
    "import numpy as np\n",
    "import scipy as sp\n",
    "import matplotlib.pyplot as plt\n",
    "\n",
    "import sklearn\n",
    "print ('scikit-learn version: ', sklearn.__version__)\n",
    "from sklearn.neural_network import MLPClassifier\n",
    "from sklearn.model_selection import GridSearchCV\n",
    "from sklearn.svm import SVC"
   ]
  },
  {
   "cell_type": "code",
   "execution_count": 2,
   "metadata": {},
   "outputs": [],
   "source": [
    "# helper function to load Fashion MNIST dataset from disk\n",
    "def load_mnist(path, kind='train'):\n",
    "    import os\n",
    "    import gzip\n",
    "    import numpy as np\n",
    "    labels_path = os.path.join(path, '%s-labels-idx1-ubyte.gz' % kind)\n",
    "    images_path = os.path.join(path, '%s-images-idx3-ubyte.gz' % kind)\n",
    "    with gzip.open(labels_path, 'rb') as lbpath:\n",
    "        labels = np.frombuffer(lbpath.read(), dtype=np.uint8,offset=8)\n",
    "    with gzip.open(images_path, 'rb') as imgpath:\n",
    "        images = np.frombuffer(imgpath.read(), dtype=np.uint8,offset=16).reshape(len(labels), 784)\n",
    "    return images, labels"
   ]
  },
  {
   "cell_type": "markdown",
   "metadata": {},
   "source": [
    "# TODO \n",
    "Place a seed for the random generator (you can use your \"numero di matricola\"). Try to change the seed to see the impact of the randomization."
   ]
  },
  {
   "cell_type": "code",
   "execution_count": 3,
   "metadata": {},
   "outputs": [],
   "source": [
    "ID = 1146169 #PLACE YOUR ID\n",
    "np.random.seed(ID)"
   ]
  },
  {
   "cell_type": "code",
   "execution_count": 4,
   "metadata": {},
   "outputs": [
    {
     "name": "stdout",
     "output_type": "stream",
     "text": [
      "Number of samples in the MNIST dataset: 60000\n"
     ]
    }
   ],
   "source": [
    "#load the MNIST dataset and let's normalize the features so that each value is in [0,1]\n",
    "X, y = load_mnist(\"data\")\n",
    "print(\"Number of samples in the MNIST dataset:\", X.shape[0])\n",
    "# rescale the data\n",
    "X = X / 255.0"
   ]
  },
  {
   "cell_type": "markdown",
   "metadata": {},
   "source": [
    "Now split into training and test. We start with a small training set of 600 samples to reduce computation time. Make sure that each label is present at least 10 times\n",
    "in training frequencies."
   ]
  },
  {
   "cell_type": "code",
   "execution_count": 5,
   "metadata": {},
   "outputs": [
    {
     "name": "stdout",
     "output_type": "stream",
     "text": [
      "Labels in training dataset:  [0 1 2 3 4 5 6 7 8 9]\n",
      "Frequencies in training dataset:  [56 68 60 62 57 58 59 64 59 57]\n"
     ]
    }
   ],
   "source": [
    "#random permute the data and split into training and test taking the first 600\n",
    "#data samples as training and the rests as test\n",
    "permutation = np.random.permutation(X.shape[0])\n",
    "\n",
    "X = X[permutation]\n",
    "y = y[permutation]\n",
    "\n",
    "m_training = 600\n",
    "\n",
    "X_train, X_test = X[:m_training], X[m_training:]\n",
    "y_train, y_test = y[:m_training], y[m_training:]\n",
    "\n",
    "labels, freqs = np.unique(y_train, return_counts=True)\n",
    "print(\"Labels in training dataset: \", labels)\n",
    "print(\"Frequencies in training dataset: \", freqs)\n"
   ]
  },
  {
   "cell_type": "code",
   "execution_count": 6,
   "metadata": {},
   "outputs": [],
   "source": [
    "#function for plotting a image and printing the corresponding label\n",
    "def plot_input(X_matrix, labels, index):\n",
    "    print(\"INPUT:\")\n",
    "    plt.imshow(\n",
    "        X_matrix[index].reshape(28,28),\n",
    "        cmap          = plt.cm.gray_r,\n",
    "        interpolation = \"nearest\"\n",
    "    )\n",
    "    plt.show()\n",
    "    print(\"LABEL: %i\"%labels[index])\n",
    "    return"
   ]
  },
  {
   "cell_type": "code",
   "execution_count": 7,
   "metadata": {},
   "outputs": [
    {
     "name": "stdout",
     "output_type": "stream",
     "text": [
      "INPUT:\n"
     ]
    },
    {
     "data": {
      "image/png": "[encoded data removed]",
      "text/plain": [
       "<Figure size 432x288 with 1 Axes>"
      ]
     },
     "metadata": {
      "needs_background": "light"
     },
     "output_type": "display_data"
    },
    {
     "name": "stdout",
     "output_type": "stream",
     "text": [
      "LABEL: 9\n",
      "INPUT:\n"
     ]
    },
    {
     "data": {
      "image/png": "[encoded data removed]",
      "text/plain": [
       "<Figure size 432x288 with 1 Axes>"
      ]
     },
     "metadata": {
      "needs_background": "light"
     },
     "output_type": "display_data"
    },
    {
     "name": "stdout",
     "output_type": "stream",
     "text": [
      "LABEL: 0\n",
      "INPUT:\n"
     ]
    },
    {
     "data": {
      "image/png": "[encoded data removed]",
      "text/plain": [
       "<Figure size 432x288 with 1 Axes>"
      ]
     },
     "metadata": {
      "needs_background": "light"
     },
     "output_type": "display_data"
    },
    {
     "name": "stdout",
     "output_type": "stream",
     "text": [
      "LABEL: 2\n"
     ]
    }
   ],
   "source": [
    "#let's try the plotting function\n",
    "plot_input(X_train,y_train,10)\n",
    "plot_input(X_test,y_test,100)\n",
    "plot_input(X_test,y_test,10000)"
   ]
  },
  {
   "cell_type": "markdown",
   "metadata": {},
   "source": [
    "## TO DO 1\n",
    "\n",
    "Now use a feed-forward Neural Network for prediction. Use the multi-layer perceptron classifier, with the following parameters: max_iter=300, alpha=1e-4, solver='sgd', tol=1e-4, learning_rate_init=.1, random_state=ID (this last parameter ensures the run is the same even if you run it more than once). The alpha parameter is the regularization term.\n",
    "\n",
    "Then, using the default activation function, pick four or five architectures to consider, with different numbers of hidden layers and different sizes. It is not necessary to create huge neural networks, you can limit to 3 layers and, for each layer, its maximum size can be of 100. Evaluate the architectures you chose using GridSearchCV with cv=5.\n",
    "\n",
    "You can reduce the number of iterations if the running time is too long on your computer.\n"
   ]
  },
  {
   "cell_type": "code",
   "execution_count": 8,
   "metadata": {},
   "outputs": [
    {
     "name": "stderr",
     "output_type": "stream",
     "text": [
      "/Users/borto/anaconda3/lib/python3.7/site-packages/sklearn/model_selection/_search.py:813: DeprecationWarning: The default of the `iid` parameter will change from True to False in version 0.22 and will be removed in 0.24. This will change numeric results when test-set sizes are unequal.\n",
      "  DeprecationWarning)\n"
     ]
    },
    {
     "name": "stdout",
     "output_type": "stream",
     "text": [
      "RESULTS FOR NN\n",
      "\n",
      "Best parameters set found: {'hidden_layer_sizes': (20,)}\n",
      "Score with best parameters: 0.775\n",
      "\n",
      "All scores on the grid: \n",
      "\n"
     ]
    },
    {
     "data": {
      "text/html": [
       "<div>\n",
       "<style scoped>\n",
       "    .dataframe tbody tr th:only-of-type {\n",
       "        vertical-align: middle;\n",
       "    }\n",
       "\n",
       "    .dataframe tbody tr th {\n",
       "        vertical-align: top;\n",
       "    }\n",
       "\n",
       "    .dataframe thead th {\n",
       "        text-align: right;\n",
       "    }\n",
       "</style>\n",
       "<table border=\"1\" class=\"dataframe\">\n",
       "  <thead>\n",
       "    <tr style=\"text-align: right;\">\n",
       "      <th></th>\n",
       "      <th>mean_fit_time</th>\n",
       "      <th>std_fit_time</th>\n",
       "      <th>mean_score_time</th>\n",
       "      <th>std_score_time</th>\n",
       "      <th>param_hidden_layer_sizes</th>\n",
       "      <th>params</th>\n",
       "      <th>split0_test_score</th>\n",
       "      <th>split1_test_score</th>\n",
       "      <th>split2_test_score</th>\n",
       "      <th>split3_test_score</th>\n",
       "      <th>...</th>\n",
       "      <th>mean_test_score</th>\n",
       "      <th>std_test_score</th>\n",
       "      <th>rank_test_score</th>\n",
       "      <th>split0_train_score</th>\n",
       "      <th>split1_train_score</th>\n",
       "      <th>split2_train_score</th>\n",
       "      <th>split3_train_score</th>\n",
       "      <th>split4_train_score</th>\n",
       "      <th>mean_train_score</th>\n",
       "      <th>std_train_score</th>\n",
       "    </tr>\n",
       "  </thead>\n",
       "  <tbody>\n",
       "    <tr>\n",
       "      <th>0</th>\n",
       "      <td>1.290579</td>\n",
       "      <td>0.743439</td>\n",
       "      <td>0.002069</td>\n",
       "      <td>0.001682</td>\n",
       "      <td>(10,)</td>\n",
       "      <td>{'hidden_layer_sizes': (10,)}</td>\n",
       "      <td>0.758065</td>\n",
       "      <td>0.756098</td>\n",
       "      <td>0.683333</td>\n",
       "      <td>0.661017</td>\n",
       "      <td>...</td>\n",
       "      <td>0.708333</td>\n",
       "      <td>0.041442</td>\n",
       "      <td>3</td>\n",
       "      <td>1.000000</td>\n",
       "      <td>0.997904</td>\n",
       "      <td>1.000000</td>\n",
       "      <td>0.734440</td>\n",
       "      <td>0.752577</td>\n",
       "      <td>0.896984</td>\n",
       "      <td>0.125446</td>\n",
       "    </tr>\n",
       "    <tr>\n",
       "      <th>1</th>\n",
       "      <td>0.756940</td>\n",
       "      <td>0.080445</td>\n",
       "      <td>0.000743</td>\n",
       "      <td>0.000081</td>\n",
       "      <td>(20,)</td>\n",
       "      <td>{'hidden_layer_sizes': (20,)}</td>\n",
       "      <td>0.806452</td>\n",
       "      <td>0.780488</td>\n",
       "      <td>0.758333</td>\n",
       "      <td>0.737288</td>\n",
       "      <td>...</td>\n",
       "      <td>0.775000</td>\n",
       "      <td>0.024430</td>\n",
       "      <td>1</td>\n",
       "      <td>1.000000</td>\n",
       "      <td>1.000000</td>\n",
       "      <td>1.000000</td>\n",
       "      <td>1.000000</td>\n",
       "      <td>1.000000</td>\n",
       "      <td>1.000000</td>\n",
       "      <td>0.000000</td>\n",
       "    </tr>\n",
       "    <tr>\n",
       "      <th>2</th>\n",
       "      <td>0.867079</td>\n",
       "      <td>0.034694</td>\n",
       "      <td>0.000937</td>\n",
       "      <td>0.000050</td>\n",
       "      <td>(40,)</td>\n",
       "      <td>{'hidden_layer_sizes': (40,)}</td>\n",
       "      <td>0.782258</td>\n",
       "      <td>0.804878</td>\n",
       "      <td>0.741667</td>\n",
       "      <td>0.720339</td>\n",
       "      <td>...</td>\n",
       "      <td>0.765000</td>\n",
       "      <td>0.030066</td>\n",
       "      <td>2</td>\n",
       "      <td>1.000000</td>\n",
       "      <td>1.000000</td>\n",
       "      <td>1.000000</td>\n",
       "      <td>1.000000</td>\n",
       "      <td>1.000000</td>\n",
       "      <td>1.000000</td>\n",
       "      <td>0.000000</td>\n",
       "    </tr>\n",
       "    <tr>\n",
       "      <th>3</th>\n",
       "      <td>0.374976</td>\n",
       "      <td>0.053534</td>\n",
       "      <td>0.000966</td>\n",
       "      <td>0.000053</td>\n",
       "      <td>(40, 20)</td>\n",
       "      <td>{'hidden_layer_sizes': (40, 20)}</td>\n",
       "      <td>0.750000</td>\n",
       "      <td>0.739837</td>\n",
       "      <td>0.608333</td>\n",
       "      <td>0.661017</td>\n",
       "      <td>...</td>\n",
       "      <td>0.703333</td>\n",
       "      <td>0.058503</td>\n",
       "      <td>4</td>\n",
       "      <td>0.924370</td>\n",
       "      <td>0.939203</td>\n",
       "      <td>0.739583</td>\n",
       "      <td>0.751037</td>\n",
       "      <td>0.925773</td>\n",
       "      <td>0.855993</td>\n",
       "      <td>0.090593</td>\n",
       "    </tr>\n",
       "    <tr>\n",
       "      <th>4</th>\n",
       "      <td>0.384707</td>\n",
       "      <td>0.131296</td>\n",
       "      <td>0.000972</td>\n",
       "      <td>0.000075</td>\n",
       "      <td>(40, 30, 20)</td>\n",
       "      <td>{'hidden_layer_sizes': (40, 30, 20)}</td>\n",
       "      <td>0.104839</td>\n",
       "      <td>0.609756</td>\n",
       "      <td>0.708333</td>\n",
       "      <td>0.483051</td>\n",
       "      <td>...</td>\n",
       "      <td>0.403333</td>\n",
       "      <td>0.253253</td>\n",
       "      <td>5</td>\n",
       "      <td>0.107143</td>\n",
       "      <td>0.616352</td>\n",
       "      <td>0.802083</td>\n",
       "      <td>0.539419</td>\n",
       "      <td>0.103093</td>\n",
       "      <td>0.433618</td>\n",
       "      <td>0.281491</td>\n",
       "    </tr>\n",
       "  </tbody>\n",
       "</table>\n",
       "<p>5 rows × 21 columns</p>\n",
       "</div>"
      ],
      "text/plain": [
       "   mean_fit_time  std_fit_time  mean_score_time  std_score_time  \\\n",
       "0       1.290579      0.743439         0.002069        0.001682   \n",
       "1       0.756940      0.080445         0.000743        0.000081   \n",
       "2       0.867079      0.034694         0.000937        0.000050   \n",
       "3       0.374976      0.053534         0.000966        0.000053   \n",
       "4       0.384707      0.131296         0.000972        0.000075   \n",
       "\n",
       "  param_hidden_layer_sizes                                params  \\\n",
       "0                    (10,)         {'hidden_layer_sizes': (10,)}   \n",
       "1                    (20,)         {'hidden_layer_sizes': (20,)}   \n",
       "2                    (40,)         {'hidden_layer_sizes': (40,)}   \n",
       "3                 (40, 20)      {'hidden_layer_sizes': (40, 20)}   \n",
       "4             (40, 30, 20)  {'hidden_layer_sizes': (40, 30, 20)}   \n",
       "\n",
       "   split0_test_score  split1_test_score  split2_test_score  split3_test_score  \\\n",
       "0           0.758065           0.756098           0.683333           0.661017   \n",
       "1           0.806452           0.780488           0.758333           0.737288   \n",
       "2           0.782258           0.804878           0.741667           0.720339   \n",
       "3           0.750000           0.739837           0.608333           0.661017   \n",
       "4           0.104839           0.609756           0.708333           0.483051   \n",
       "\n",
       "   ...  mean_test_score  std_test_score  rank_test_score  split0_train_score  \\\n",
       "0  ...         0.708333        0.041442                3            1.000000   \n",
       "1  ...         0.775000        0.024430                1            1.000000   \n",
       "2  ...         0.765000        0.030066                2            1.000000   \n",
       "3  ...         0.703333        0.058503                4            0.924370   \n",
       "4  ...         0.403333        0.253253                5            0.107143   \n",
       "\n",
       "   split1_train_score  split2_train_score  split3_train_score  \\\n",
       "0            0.997904            1.000000            0.734440   \n",
       "1            1.000000            1.000000            1.000000   \n",
       "2            1.000000            1.000000            1.000000   \n",
       "3            0.939203            0.739583            0.751037   \n",
       "4            0.616352            0.802083            0.539419   \n",
       "\n",
       "   split4_train_score  mean_train_score  std_train_score  \n",
       "0            0.752577          0.896984         0.125446  \n",
       "1            1.000000          1.000000         0.000000  \n",
       "2            1.000000          1.000000         0.000000  \n",
       "3            0.925773          0.855993         0.090593  \n",
       "4            0.103093          0.433618         0.281491  \n",
       "\n",
       "[5 rows x 21 columns]"
      ]
     },
     "execution_count": 8,
     "metadata": {},
     "output_type": "execute_result"
    }
   ],
   "source": [
    "# these are sample values but feel free to change them as you like, try to experiment with different sizes!!\n",
    "parameters = {'hidden_layer_sizes': [(10,), (20,), (40,), (40,20,), (40,30,20) ]}\n",
    "\n",
    "mlp = MLPClassifier(max_iter=300, alpha=1e-4, solver='sgd',\n",
    "                    tol=1e-4, random_state=ID,\n",
    "                    learning_rate_init=.1)\n",
    "\n",
    "#ADD YOUR CODE\n",
    "clf = GridSearchCV(estimator=mlp, param_grid=parameters, cv=5, return_train_score=True)\n",
    "clf.fit(X_train, y_train)\n",
    "\n",
    "print ('RESULTS FOR NN\\n')\n",
    "\n",
    "print(\"Best parameters set found:\", clf.best_params_)\n",
    "#ADD YOUR CODE\n",
    "\n",
    "print(\"Score with best parameters:\", clf.best_score_)\n",
    "#ADD YOUR CODE\n",
    "\n",
    "print(\"\\nAll scores on the grid: \\n\")\n",
    "#ADD YOUR CODE\n",
    "all_scores = pd.DataFrame(clf.cv_results_)\n",
    "all_scores"
   ]
  },
  {
   "cell_type": "markdown",
   "metadata": {},
   "source": [
    "### TO DO 2\n",
    "\n",
    "Now try also different batch sizes, while keeping the best NN architecture you have found above. Remember that the batch size was previously set to the default value, i.e., min(200, n_samples). \n",
    "Recall that a batch size of 1 corresponds to baseline SGD, while using all the 480 training samples (there are 600 samples but in cross validation with 5 folders we use 1/5 of them for validation at each round) corresponds to standard GD and using a different mini-batch size lies in the middle between the two extreme cases."
   ]
  },
  {
   "cell_type": "code",
   "execution_count": 9,
   "metadata": {},
   "outputs": [
    {
     "name": "stdout",
     "output_type": "stream",
     "text": [
      "RESULTS FOR NN\n",
      "\n",
      "Best parameters set found: {'batch_size': 480}\n",
      "Score with best parameters: 0.77\n",
      "\n",
      "All scores on the grid:\n"
     ]
    },
    {
     "data": {
      "text/html": [
       "<div>\n",
       "<style scoped>\n",
       "    .dataframe tbody tr th:only-of-type {\n",
       "        vertical-align: middle;\n",
       "    }\n",
       "\n",
       "    .dataframe tbody tr th {\n",
       "        vertical-align: top;\n",
       "    }\n",
       "\n",
       "    .dataframe thead th {\n",
       "        text-align: right;\n",
       "    }\n",
       "</style>\n",
       "<table border=\"1\" class=\"dataframe\">\n",
       "  <thead>\n",
       "    <tr style=\"text-align: right;\">\n",
       "      <th></th>\n",
       "      <th>mean_fit_time</th>\n",
       "      <th>std_fit_time</th>\n",
       "      <th>mean_score_time</th>\n",
       "      <th>std_score_time</th>\n",
       "      <th>param_batch_size</th>\n",
       "      <th>params</th>\n",
       "      <th>split0_test_score</th>\n",
       "      <th>split1_test_score</th>\n",
       "      <th>split2_test_score</th>\n",
       "      <th>split3_test_score</th>\n",
       "      <th>...</th>\n",
       "      <th>mean_test_score</th>\n",
       "      <th>std_test_score</th>\n",
       "      <th>rank_test_score</th>\n",
       "      <th>split0_train_score</th>\n",
       "      <th>split1_train_score</th>\n",
       "      <th>split2_train_score</th>\n",
       "      <th>split3_train_score</th>\n",
       "      <th>split4_train_score</th>\n",
       "      <th>mean_train_score</th>\n",
       "      <th>std_train_score</th>\n",
       "    </tr>\n",
       "  </thead>\n",
       "  <tbody>\n",
       "    <tr>\n",
       "      <th>0</th>\n",
       "      <td>14.420415</td>\n",
       "      <td>2.529559</td>\n",
       "      <td>0.000765</td>\n",
       "      <td>0.000015</td>\n",
       "      <td>1</td>\n",
       "      <td>{'batch_size': 1}</td>\n",
       "      <td>0.116667</td>\n",
       "      <td>0.091667</td>\n",
       "      <td>0.075</td>\n",
       "      <td>0.075000</td>\n",
       "      <td>...</td>\n",
       "      <td>0.096667</td>\n",
       "      <td>0.020817</td>\n",
       "      <td>3</td>\n",
       "      <td>0.091667</td>\n",
       "      <td>0.110417</td>\n",
       "      <td>0.104167</td>\n",
       "      <td>0.114583</td>\n",
       "      <td>0.091667</td>\n",
       "      <td>0.102500</td>\n",
       "      <td>0.009446</td>\n",
       "    </tr>\n",
       "    <tr>\n",
       "      <th>1</th>\n",
       "      <td>0.681778</td>\n",
       "      <td>0.398572</td>\n",
       "      <td>0.000786</td>\n",
       "      <td>0.000081</td>\n",
       "      <td>32</td>\n",
       "      <td>{'batch_size': 32}</td>\n",
       "      <td>0.691667</td>\n",
       "      <td>0.758333</td>\n",
       "      <td>0.725</td>\n",
       "      <td>0.666667</td>\n",
       "      <td>...</td>\n",
       "      <td>0.730000</td>\n",
       "      <td>0.049889</td>\n",
       "      <td>2</td>\n",
       "      <td>0.962500</td>\n",
       "      <td>0.906250</td>\n",
       "      <td>0.929167</td>\n",
       "      <td>0.933333</td>\n",
       "      <td>1.000000</td>\n",
       "      <td>0.946250</td>\n",
       "      <td>0.032286</td>\n",
       "    </tr>\n",
       "    <tr>\n",
       "      <th>2</th>\n",
       "      <td>0.480912</td>\n",
       "      <td>0.176866</td>\n",
       "      <td>0.000897</td>\n",
       "      <td>0.000060</td>\n",
       "      <td>480</td>\n",
       "      <td>{'batch_size': 480}</td>\n",
       "      <td>0.766667</td>\n",
       "      <td>0.833333</td>\n",
       "      <td>0.775</td>\n",
       "      <td>0.716667</td>\n",
       "      <td>...</td>\n",
       "      <td>0.770000</td>\n",
       "      <td>0.037491</td>\n",
       "      <td>1</td>\n",
       "      <td>1.000000</td>\n",
       "      <td>0.966667</td>\n",
       "      <td>0.972917</td>\n",
       "      <td>0.975000</td>\n",
       "      <td>0.920833</td>\n",
       "      <td>0.967083</td>\n",
       "      <td>0.025766</td>\n",
       "    </tr>\n",
       "  </tbody>\n",
       "</table>\n",
       "<p>3 rows × 21 columns</p>\n",
       "</div>"
      ],
      "text/plain": [
       "   mean_fit_time  std_fit_time  mean_score_time  std_score_time  \\\n",
       "0      14.420415      2.529559         0.000765        0.000015   \n",
       "1       0.681778      0.398572         0.000786        0.000081   \n",
       "2       0.480912      0.176866         0.000897        0.000060   \n",
       "\n",
       "  param_batch_size               params  split0_test_score  split1_test_score  \\\n",
       "0                1    {'batch_size': 1}           0.116667           0.091667   \n",
       "1               32   {'batch_size': 32}           0.691667           0.758333   \n",
       "2              480  {'batch_size': 480}           0.766667           0.833333   \n",
       "\n",
       "   split2_test_score  split3_test_score  ...  mean_test_score  std_test_score  \\\n",
       "0              0.075           0.075000  ...         0.096667        0.020817   \n",
       "1              0.725           0.666667  ...         0.730000        0.049889   \n",
       "2              0.775           0.716667  ...         0.770000        0.037491   \n",
       "\n",
       "   rank_test_score  split0_train_score  split1_train_score  \\\n",
       "0                3            0.091667            0.110417   \n",
       "1                2            0.962500            0.906250   \n",
       "2                1            1.000000            0.966667   \n",
       "\n",
       "   split2_train_score  split3_train_score  split4_train_score  \\\n",
       "0            0.104167            0.114583            0.091667   \n",
       "1            0.929167            0.933333            1.000000   \n",
       "2            0.972917            0.975000            0.920833   \n",
       "\n",
       "   mean_train_score  std_train_score  \n",
       "0          0.102500         0.009446  \n",
       "1          0.946250         0.032286  \n",
       "2          0.967083         0.025766  \n",
       "\n",
       "[3 rows x 21 columns]"
      ]
     },
     "execution_count": 9,
     "metadata": {},
     "output_type": "execute_result"
    }
   ],
   "source": [
    "# these are sample values corresponding to baseline SGD, a reasonable mini-batch size and standard GD\n",
    "# again feel free to change them as you like, try to experiment with different batch sizes!!\n",
    "parameters = {'batch_size': [1, 32, 480]}\n",
    "\n",
    "# need to specify that you would like to use the standard k-fold split otherwise sklearn create splits of different sizes\n",
    "kf = sklearn.model_selection.KFold(n_splits=5)\n",
    "\n",
    "#ADD YOUR CODE\n",
    "\n",
    "# recall to use cv=kf in GridSearchCV parameters to use the k-fold subdivision seen in the lectures\n",
    "best_mlp = MLPClassifier(max_iter=300, alpha=1e-4, solver='sgd', tol=1e-4, \n",
    "                         random_state=ID, learning_rate_init=.1, hidden_layer_sizes=(20, ))\n",
    "\n",
    "clf1 = GridSearchCV(estimator=best_mlp, param_grid=parameters, cv=kf, return_train_score=True)\n",
    "clf1.fit(X_train, y_train)\n",
    "\n",
    "#ADD YOUR CODE\n",
    "\n",
    "print ('RESULTS FOR NN\\n')\n",
    "\n",
    "print(\"Best parameters set found:\", clf1.best_params_)\n",
    "#ADD YOUR CODE\n",
    "\n",
    "print(\"Score with best parameters:\", clf1.best_score_)\n",
    "#ADD YOUR CODE\n",
    "\n",
    "print(\"\\nAll scores on the grid:\")\n",
    "#ADD YOUR CODE\n",
    "all_scores1 = pd.DataFrame(clf1.cv_results_)\n",
    "all_scores1"
   ]
  },
  {
   "cell_type": "markdown",
   "metadata": {},
   "source": [
    "### QUESTION 1\n",
    "\n",
    "What do you observe for different architectures and batch sizes? How do the number of layers and their sizes affect the performances? What do you observe for different batch sizes, in particular what happens to the training convergence for different batch sizes (notice that the algorithm could not converge for some batch sizes)?"
   ]
  },
  {
   "cell_type": "markdown",
   "metadata": {},
   "source": [
    "## [ANSWER TO QUESTION 1]\n",
    "Using different architectures I find that the best score (`0.775`) is obtained using one hidden layer of size (20,). Using the best NN architecture I find that the best batch size is `480`, which corresponds to standard GD, and the best score is `0.77`.<br>\n",
    "Increasing the number of layers the performances seem to get worse (except for one layer of size (10, )) and increasing their sizes leads to better scores (to be honest the score obtained with a layer of size (40, ) is slightly lower than the one obtained with a layer of size (20, ), but anyway they are bigger than the score obtained with a layer of size (10, )). <br>\n",
    "If we look at the training convergence for different batch sizes, we see that increasing the batch size the score  significantly increases going from `1` to `32` and it slightly improves going from `32` to `480`."
   ]
  },
  {
   "cell_type": "markdown",
   "metadata": {},
   "source": [
    "### TO DO 3\n",
    "\n",
    "Now try also to use different learning rates, while keeping the best NN architecture and batch size you have found above. Plot the learning curves (i.e., the variation of the loss over the steps, you can get it from the loss_curve_ object of sklearn) for the different values of the learning rate . "
   ]
  },
  {
   "cell_type": "code",
   "execution_count": 10,
   "metadata": {},
   "outputs": [
    {
     "name": "stderr",
     "output_type": "stream",
     "text": [
      "/Users/borto/anaconda3/lib/python3.7/site-packages/sklearn/neural_network/multilayer_perceptron.py:566: ConvergenceWarning: Stochastic Optimizer: Maximum iterations (300) reached and the optimization hasn't converged yet.\n",
      "  % self.max_iter, ConvergenceWarning)\n",
      "/Users/borto/anaconda3/lib/python3.7/site-packages/sklearn/neural_network/multilayer_perceptron.py:566: ConvergenceWarning: Stochastic Optimizer: Maximum iterations (300) reached and the optimization hasn't converged yet.\n",
      "  % self.max_iter, ConvergenceWarning)\n",
      "/Users/borto/anaconda3/lib/python3.7/site-packages/sklearn/neural_network/multilayer_perceptron.py:566: ConvergenceWarning: Stochastic Optimizer: Maximum iterations (300) reached and the optimization hasn't converged yet.\n",
      "  % self.max_iter, ConvergenceWarning)\n",
      "/Users/borto/anaconda3/lib/python3.7/site-packages/sklearn/neural_network/multilayer_perceptron.py:566: ConvergenceWarning: Stochastic Optimizer: Maximum iterations (300) reached and the optimization hasn't converged yet.\n",
      "  % self.max_iter, ConvergenceWarning)\n",
      "/Users/borto/anaconda3/lib/python3.7/site-packages/sklearn/neural_network/multilayer_perceptron.py:566: ConvergenceWarning: Stochastic Optimizer: Maximum iterations (300) reached and the optimization hasn't converged yet.\n",
      "  % self.max_iter, ConvergenceWarning)\n",
      "/Users/borto/anaconda3/lib/python3.7/site-packages/sklearn/neural_network/multilayer_perceptron.py:566: ConvergenceWarning: Stochastic Optimizer: Maximum iterations (300) reached and the optimization hasn't converged yet.\n",
      "  % self.max_iter, ConvergenceWarning)\n",
      "/Users/borto/anaconda3/lib/python3.7/site-packages/sklearn/neural_network/multilayer_perceptron.py:566: ConvergenceWarning: Stochastic Optimizer: Maximum iterations (300) reached and the optimization hasn't converged yet.\n",
      "  % self.max_iter, ConvergenceWarning)\n",
      "/Users/borto/anaconda3/lib/python3.7/site-packages/sklearn/neural_network/multilayer_perceptron.py:566: ConvergenceWarning: Stochastic Optimizer: Maximum iterations (300) reached and the optimization hasn't converged yet.\n",
      "  % self.max_iter, ConvergenceWarning)\n",
      "/Users/borto/anaconda3/lib/python3.7/site-packages/sklearn/neural_network/multilayer_perceptron.py:566: ConvergenceWarning: Stochastic Optimizer: Maximum iterations (300) reached and the optimization hasn't converged yet.\n",
      "  % self.max_iter, ConvergenceWarning)\n",
      "/Users/borto/anaconda3/lib/python3.7/site-packages/sklearn/neural_network/multilayer_perceptron.py:566: ConvergenceWarning: Stochastic Optimizer: Maximum iterations (300) reached and the optimization hasn't converged yet.\n",
      "  % self.max_iter, ConvergenceWarning)\n"
     ]
    },
    {
     "name": "stdout",
     "output_type": "stream",
     "text": [
      "RESULTS FOR NN\n",
      "\n",
      "Best parameters set found: {'learning_rate_init': 0.1}\n",
      "Score with best parameters: 0.77\n"
     ]
    },
    {
     "name": "stderr",
     "output_type": "stream",
     "text": [
      "/Users/borto/anaconda3/lib/python3.7/site-packages/sklearn/neural_network/multilayer_perceptron.py:566: ConvergenceWarning: Stochastic Optimizer: Maximum iterations (300) reached and the optimization hasn't converged yet.\n",
      "  % self.max_iter, ConvergenceWarning)\n",
      "/Users/borto/anaconda3/lib/python3.7/site-packages/sklearn/neural_network/multilayer_perceptron.py:566: ConvergenceWarning: Stochastic Optimizer: Maximum iterations (300) reached and the optimization hasn't converged yet.\n",
      "  % self.max_iter, ConvergenceWarning)\n"
     ]
    },
    {
     "data": {
      "image/png": "[encoded data removed]",
      "text/plain": [
       "<Figure size 432x288 with 1 Axes>"
      ]
     },
     "metadata": {
      "needs_background": "light"
     },
     "output_type": "display_data"
    }
   ],
   "source": [
    "import matplotlib.pyplot as plt\n",
    "\n",
    "\n",
    "lr_list = [10**exp for exp in range(-3,0)]\n",
    "scores = {}\n",
    "\n",
    "#ADD YOUR CODE\n",
    "parameters = {'learning_rate_init': lr_list}\n",
    "\n",
    "best_mlp2 = MLPClassifier(max_iter=300, alpha=1e-4, solver='sgd', tol=1e-4, \n",
    "                        random_state=ID, hidden_layer_sizes=(20, ), batch_size=480)\n",
    "\n",
    "\n",
    "clf2 = GridSearchCV(estimator=best_mlp2, param_grid=parameters, cv=kf, return_train_score=True)\n",
    "clf2.fit(X_train, y_train)\n",
    "\n",
    "\n",
    "print ('RESULTS FOR NN\\n')\n",
    "\n",
    "print(\"Best parameters set found:\", clf2.best_params_)\n",
    "#ADD YOUR CODE\n",
    "\n",
    "print(\"Score with best parameters:\", clf2.best_score_)\n",
    "#ADD YOUR CODE\n",
    "\n",
    "for i in lr_list:\n",
    "    NN = MLPClassifier(max_iter=300, alpha=1e-4, solver='sgd', tol=1e-4, \n",
    "                        random_state=ID, hidden_layer_sizes=(20, ), batch_size=480,\n",
    "                        learning_rate_init=i).fit(X_train, y_train)\n",
    "    scores[str(i)] = NN.loss_curve_\n",
    "    \n",
    "plt.plot(scores[str(lr_list[0])], label='learning rate = 0.001')\n",
    "plt.plot(scores[str(lr_list[1])], label='learning rate = 0.01')\n",
    "plt.plot(scores[str(lr_list[2])], label='learning rate = 0.1')\n",
    "plt.xlabel('number of iterations')\n",
    "plt.title('Loss curves')\n",
    "plt.ylabel('loss')\n",
    "plt.legend()\n",
    "plt.grid()\n",
    "plt.show()"
   ]
  },
  {
   "cell_type": "markdown",
   "metadata": {},
   "source": [
    "### QUESTION 2\n",
    "\n",
    "Comment about the learning curves (i.e. the variation of the loss over the steps). How does the curve changes for different learning rates in terms of stability and speed of convergence ?"
   ]
  },
  {
   "cell_type": "markdown",
   "metadata": {},
   "source": [
    "## [ANSWER TO QUESTION 2]\n",
    "Quella che è più veloce a convergere è anche quella più instabile."
   ]
  },
  {
   "cell_type": "markdown",
   "metadata": {},
   "source": [
    "### TO DO 4\n",
    "\n",
    "Now get training and test error for a NN with best parameters (architecture, batch size and learning rate)from above. Plot the learning curve also for this case."
   ]
  },
  {
   "cell_type": "code",
   "execution_count": 11,
   "metadata": {
    "scrolled": true
   },
   "outputs": [
    {
     "name": "stdout",
     "output_type": "stream",
     "text": [
      "\n",
      "RESULTS FOR BEST NN\n",
      "\n",
      "Best NN training error: 0.000000\n",
      "Best NN test error: 0.211094\n"
     ]
    },
    {
     "data": {
      "image/png": "[encoded data removed]",
      "text/plain": [
       "<Figure size 432x288 with 1 Axes>"
      ]
     },
     "metadata": {
      "needs_background": "light"
     },
     "output_type": "display_data"
    }
   ],
   "source": [
    "#get training and test error for the best NN model from CV\n",
    "\n",
    "#ADD YOUR CODE\n",
    "best_mlp_final = best_mlp2 = MLPClassifier(max_iter=300, alpha=1e-4, solver='sgd',\n",
    "                    tol=1e-4, random_state=ID, learning_rate_init=0.1, hidden_layer_sizes=(20, ), \n",
    "                    batch_size=480)\n",
    "\n",
    "best_mlp_final.fit(X_train, y_train)\n",
    "\n",
    "training_error = 1 - best_mlp_final.score(X_train,y_train)\n",
    "test_error = 1 - best_mlp_final.score(X_test,y_test)\n",
    "\n",
    "print ('\\nRESULTS FOR BEST NN\\n')\n",
    "\n",
    "print (\"Best NN training error: %f\" % training_error)\n",
    "print (\"Best NN test error: %f\" % test_error)\n",
    "\n",
    "#ADD YOUR CODE FOR PLOTTING\n",
    "plt.plot(best_mlp_final.loss_curve_, label='loss_curve')\n",
    "plt.xlabel('number of iterations')\n",
    "plt.ylabel('loss')\n",
    "plt.legend()\n",
    "plt.grid()\n",
    "plt.show()"
   ]
  },
  {
   "cell_type": "markdown",
   "metadata": {},
   "source": [
    "## More data \n",
    "Now let's do the same but using 5000 (or less if it takes too long on your machine) data points for training. Use the same NN architecture as before, but you can try more if you like and have a powerful computer !!"
   ]
  },
  {
   "cell_type": "code",
   "execution_count": 12,
   "metadata": {},
   "outputs": [
    {
     "name": "stdout",
     "output_type": "stream",
     "text": [
      "Labels in training dataset:  [0 1 2 3 4 5 6 7 8 9]\n",
      "Frequencies in training dataset:  [478 544 497 516 445 509 498 527 483 503]\n"
     ]
    }
   ],
   "source": [
    "X = X[permutation]\n",
    "y = y[permutation]\n",
    "\n",
    "m_training = 5000\n",
    "\n",
    "X_train, X_test = X[:m_training], X[m_training:]\n",
    "y_train, y_test = y[:m_training], y[m_training:]\n",
    "\n",
    "labels, freqs = np.unique(y_train, return_counts=True)\n",
    "print(\"Labels in training dataset: \", labels)\n",
    "print(\"Frequencies in training dataset: \", freqs)"
   ]
  },
  {
   "cell_type": "markdown",
   "metadata": {},
   "source": [
    "## TO DO 5\n",
    "\n",
    "Now train the NNs with the added data points using the optimum parameters found above. Eventually, feel free to try different architectures if you like. We suggest that you use 'verbose=True' so have an idea of how long it takes to run 1 iteration (eventually reduce also the number of iterations to 50)."
   ]
  },
  {
   "cell_type": "code",
   "execution_count": 13,
   "metadata": {
    "scrolled": false
   },
   "outputs": [
    {
     "name": "stdout",
     "output_type": "stream",
     "text": [
      "Iteration 1, loss = 1.87663161\n",
      "Iteration 2, loss = 1.11763975\n",
      "Iteration 3, loss = 0.70886208\n",
      "Iteration 4, loss = 0.61277619\n",
      "Iteration 5, loss = 0.56708732\n",
      "Iteration 6, loss = 0.50946538\n",
      "Iteration 7, loss = 0.48411325\n",
      "Iteration 8, loss = 0.46055481\n",
      "Iteration 9, loss = 0.45765273\n",
      "Iteration 10, loss = 0.43491216\n",
      "Iteration 11, loss = 0.43190528\n",
      "Iteration 12, loss = 0.42413447\n",
      "Iteration 13, loss = 0.39588195\n",
      "Iteration 14, loss = 0.39462586\n",
      "Iteration 15, loss = 0.37491990\n",
      "Iteration 16, loss = 0.38988951\n",
      "Iteration 17, loss = 0.36497896\n",
      "Iteration 18, loss = 0.35810191\n",
      "Iteration 19, loss = 0.36164854\n",
      "Iteration 20, loss = 0.33862014\n",
      "Iteration 21, loss = 0.36630873\n",
      "Iteration 22, loss = 0.36109513\n",
      "Iteration 23, loss = 0.32479792\n",
      "Iteration 24, loss = 0.31539508\n",
      "Iteration 25, loss = 0.32833278\n",
      "Iteration 26, loss = 0.30797385\n",
      "Iteration 27, loss = 0.30227730\n",
      "Iteration 28, loss = 0.31691433\n",
      "Iteration 29, loss = 0.34017987\n",
      "Iteration 30, loss = 0.28514520\n",
      "Iteration 31, loss = 0.27793533\n",
      "Iteration 32, loss = 0.29309564\n",
      "Iteration 33, loss = 0.28323597\n",
      "Iteration 34, loss = 0.27814971\n",
      "Iteration 35, loss = 0.28026108\n",
      "Iteration 36, loss = 0.30448629\n",
      "Iteration 37, loss = 0.25814357\n",
      "Iteration 38, loss = 0.27251763\n",
      "Iteration 39, loss = 0.27214773\n",
      "Iteration 40, loss = 0.26112657\n",
      "Iteration 41, loss = 0.24649630\n",
      "Iteration 42, loss = 0.26626030\n",
      "Iteration 43, loss = 0.26149776\n",
      "Iteration 44, loss = 0.24971506\n",
      "Iteration 45, loss = 0.23646703\n",
      "Iteration 46, loss = 0.22613684\n",
      "Iteration 47, loss = 0.23133596\n",
      "Iteration 48, loss = 0.23171257\n",
      "Iteration 49, loss = 0.24540071\n",
      "Iteration 50, loss = 0.25778765\n",
      "Iteration 51, loss = 0.22305199\n",
      "Iteration 52, loss = 0.21320043\n",
      "Iteration 53, loss = 0.20852551\n",
      "Iteration 54, loss = 0.23423098\n",
      "Iteration 55, loss = 0.34422739\n",
      "Iteration 56, loss = 0.21768588\n",
      "Iteration 57, loss = 0.19857801\n",
      "Iteration 58, loss = 0.20463139\n",
      "Iteration 59, loss = 0.24825082\n",
      "Iteration 60, loss = 0.23056134\n",
      "Iteration 61, loss = 0.19272121\n",
      "Iteration 62, loss = 0.18926600\n",
      "Iteration 63, loss = 0.20715579\n",
      "Iteration 64, loss = 0.18606618\n",
      "Iteration 65, loss = 0.17648728\n",
      "Iteration 66, loss = 0.19672081\n",
      "Iteration 67, loss = 0.17419782\n",
      "Iteration 68, loss = 0.25769268\n",
      "Iteration 69, loss = 0.19097003\n",
      "Iteration 70, loss = 0.19562738\n",
      "Iteration 71, loss = 0.16659781\n",
      "Iteration 72, loss = 0.21190249\n",
      "Iteration 73, loss = 0.17294031\n",
      "Iteration 74, loss = 0.20504984\n",
      "Iteration 75, loss = 0.16368620\n",
      "Iteration 76, loss = 0.17304566\n",
      "Iteration 77, loss = 0.14978257\n",
      "Iteration 78, loss = 0.16218273\n",
      "Iteration 79, loss = 0.17873274\n",
      "Iteration 80, loss = 0.18819609\n",
      "Iteration 81, loss = 0.16037280\n",
      "Iteration 82, loss = 0.15866165\n",
      "Iteration 83, loss = 0.26420542\n",
      "Iteration 84, loss = 0.17916581\n",
      "Iteration 85, loss = 0.14584870\n",
      "Iteration 86, loss = 0.17642061\n",
      "Iteration 87, loss = 0.14210563\n",
      "Iteration 88, loss = 0.16906698\n",
      "Iteration 89, loss = 0.13809773\n",
      "Iteration 90, loss = 0.13066603\n",
      "Iteration 91, loss = 0.15409415\n",
      "Iteration 92, loss = 0.14460228\n",
      "Iteration 93, loss = 0.14797208\n",
      "Iteration 94, loss = 0.12812687\n",
      "Iteration 95, loss = 0.16690340\n",
      "Iteration 96, loss = 0.14531146\n",
      "Iteration 97, loss = 0.18579795\n",
      "Iteration 98, loss = 0.14078462\n",
      "Iteration 99, loss = 0.14409332\n",
      "Iteration 100, loss = 0.12417704\n",
      "Iteration 101, loss = 0.11249458\n",
      "Iteration 102, loss = 0.12496856\n",
      "Iteration 103, loss = 0.15136434\n",
      "Iteration 104, loss = 0.15268260\n",
      "Iteration 105, loss = 0.11827284\n",
      "Iteration 106, loss = 0.11791831\n",
      "Iteration 107, loss = 0.11041820\n",
      "Iteration 108, loss = 0.12933045\n",
      "Iteration 109, loss = 0.13536186\n",
      "Iteration 110, loss = 0.11423861\n",
      "Iteration 111, loss = 0.12168746\n",
      "Iteration 112, loss = 0.10761448\n",
      "Iteration 113, loss = 0.17329230\n",
      "Iteration 114, loss = 0.10024130\n",
      "Iteration 115, loss = 0.44006321\n",
      "Iteration 116, loss = 0.21559700\n",
      "Iteration 117, loss = 0.15405258\n",
      "Iteration 118, loss = 0.13706501\n",
      "Iteration 119, loss = 0.12967858\n",
      "Iteration 120, loss = 0.12030397\n",
      "Iteration 121, loss = 0.12460770\n",
      "Iteration 122, loss = 0.13717866\n",
      "Iteration 123, loss = 0.12364124\n",
      "Iteration 124, loss = 0.12599128\n",
      "Iteration 125, loss = 0.10289219\n",
      "Training loss did not improve more than tol=0.000100 for 10 consecutive epochs. Stopping.\n",
      "\n",
      "RESULTS FOR NN\n",
      "\n",
      "NN training error: 0.038000\n",
      "NN test error: 0.173800\n"
     ]
    }
   ],
   "source": [
    "# use best architecture and params from before\n",
    "\n",
    "#ADD YOUR CODE\n",
    "best_mlp_final_large = best_mlp2 = MLPClassifier(max_iter=300, alpha=1e-4, solver='sgd',\n",
    "                    tol=1e-4, random_state=ID, learning_rate_init=0.1, hidden_layer_sizes=(20, ), \n",
    "                    batch_size=480, verbose=True)\n",
    "\n",
    "best_mlp_final_large.fit(X_train, y_train)\n",
    "\n",
    "training_error = 1 - best_mlp_final_large.score(X_train,y_train)\n",
    "test_error = 1 - best_mlp_final_large.score(X_test,y_test)\n",
    "\n",
    "\n",
    "print ('\\nRESULTS FOR NN\\n')\n",
    "\n",
    "print (\"NN training error: %f\" % training_error)\n",
    "print (\"NN test error: %f\" % test_error)"
   ]
  },
  {
   "cell_type": "markdown",
   "metadata": {},
   "source": [
    "## QUESTION 3\n",
    "Compare the train and test errors you got with a large number of samples with the best one you obtained with only 600 data points. Comment about the results you obtained."
   ]
  },
  {
   "cell_type": "markdown",
   "metadata": {},
   "source": [
    "## [ANSWER TO QUESTION 3]\n",
    "Using 600 data points I obtain train error = 0 and test error = 0.211094, whereas using a larger number of samples I get train error = 0.038000 and test error = 173800. Probably using the smaller data set there is some overfitting, in fact the train error is 0. Using a larger number of samples the test error is different from 0 but still very small and the test error is smaller than the one obtained using 600 data points, so using more data the algorithm works better."
   ]
  },
  {
   "cell_type": "markdown",
   "metadata": {},
   "source": [
    "### TO DO 7\n",
    "\n",
    "Plot an example that was missclassified by NN with m=600 training data points and it is now instead correctly classified by NN with m=5000 training data points."
   ]
  },
  {
   "cell_type": "code",
   "execution_count": 14,
   "metadata": {
    "scrolled": false
   },
   "outputs": [
    {
     "name": "stdout",
     "output_type": "stream",
     "text": [
      "[24, 29, 34, 37, 53, 60, 84, 105, 107, 108, 110, 112, 138, 145, 154, 158, 159, 186, 187, 194, 197, 199, 231, 234, 238, 256, 263, 265, 272, 283, 285, 287, 291, 308, 315, 320, 325, 328, 342, 345, 362, 383, 388, 394, 400, 431, 448, 470, 476, 480, 488, 489, 496, 500, 519, 531, 544, 563, 571, 572, 583, 602, 604, 630, 642, 658, 660, 661, 674, 683, 687, 699, 703, 704, 706, 711, 732, 736, 747, 757, 759, 768, 793, 801, 813, 817, 823, 824, 826, 828, 835, 840, 853, 858, 862, 867, 882, 906, 919, 925, 927, 930, 931, 935, 946, 957, 962, 973, 995, 1012, 1018, 1019, 1022, 1027, 1032, 1078, 1091, 1110, 1146, 1159, 1165, 1168, 1173, 1176, 1181, 1186, 1191, 1193, 1214, 1223, 1238, 1255, 1291, 1298, 1299, 1302, 1304, 1324, 1338, 1347, 1349, 1355, 1374, 1380, 1386, 1392, 1399, 1402, 1417, 1421, 1424, 1445, 1456, 1463, 1467, 1470, 1472, 1494, 1507, 1513, 1526, 1527, 1532, 1534, 1538, 1560, 1564, 1572, 1574, 1598, 1605, 1606, 1622, 1628, 1629, 1639, 1656, 1659, 1667, 1677, 1678, 1684, 1695, 1715, 1719, 1734, 1738, 1741, 1749, 1751, 1752, 1755, 1756, 1776, 1790, 1791, 1796, 1807, 1810, 1825, 1830, 1833, 1840, 1855, 1861, 1862, 1864, 1867, 1872, 1876, 1878, 1887, 1888, 1898, 1902, 1918, 1925, 1927, 1939, 1945, 1961, 1970, 1982, 1994, 2011, 2025, 2031, 2040, 2044, 2058, 2084, 2096, 2117, 2132, 2135, 2140, 2149, 2153, 2160, 2170, 2178, 2200, 2211, 2221, 2243, 2246, 2247, 2284, 2294, 2295, 2306, 2309, 2311, 2322, 2353, 2357, 2360, 2373, 2380, 2392, 2393, 2396, 2419, 2422, 2424, 2455, 2456, 2477, 2483, 2495, 2500, 2513, 2529, 2536, 2546, 2550, 2562, 2567, 2583, 2592, 2593, 2596, 2608, 2637, 2654, 2655, 2658, 2659, 2662, 2669, 2672, 2696, 2700, 2713, 2726, 2729, 2737, 2742, 2745, 2749, 2765, 2770, 2779, 2791, 2805, 2807, 2812, 2821, 2826, 2828, 2832, 2834, 2839, 2846, 2873, 2889, 2900, 2920, 2939, 2949, 2950, 2952, 2973, 2985, 2993, 3006, 3008, 3013, 3020, 3031, 3053, 3057, 3058, 3064, 3066, 3076, 3077, 3107, 3115, 3121, 3134, 3139, 3156, 3160, 3171, 3172, 3174, 3180, 3181, 3189, 3216, 3221, 3231, 3241, 3248, 3252, 3275, 3293, 3294, 3301, 3324, 3325, 3327, 3335, 3345, 3360, 3361, 3383, 3386, 3396, 3401, 3405, 3459, 3465, 3466, 3472, 3491, 3492, 3494, 3507, 3537, 3539, 3541, 3544, 3558, 3560, 3565, 3575, 3580, 3585, 3596, 3609, 3611, 3615, 3624, 3636, 3647, 3655, 3656, 3666, 3668, 3672, 3679, 3683, 3686, 3690, 3712, 3714, 3717, 3721, 3727, 3746, 3785, 3791, 3826, 3827, 3833, 3863, 3880, 3882, 3905, 3911, 3917, 3922, 3943, 3946, 3951, 3957, 3970, 3973, 3975, 3997, 4006, 4010, 4037, 4050, 4063, 4068, 4088, 4089, 4108, 4111, 4145, 4155, 4179, 4189, 4193, 4221, 4226, 4237, 4241, 4250, 4263, 4270, 4273, 4277, 4303, 4312, 4316, 4318, 4319, 4329, 4336, 4338, 4349, 4357, 4364, 4376, 4378, 4381, 4384, 4404, 4416, 4421, 4471, 4486, 4494, 4506, 4512, 4515, 4530, 4538, 4546, 4552, 4577, 4585, 4607, 4609, 4643, 4652, 4653, 4665, 4678, 4690, 4773, 4787, 4789, 4801, 4804, 4816, 4830, 4876, 4880, 4918, 4920, 4924, 4946, 4947, 4961, 4966, 4976, 5001, 5035, 5043, 5047, 5057, 5074, 5095, 5108, 5110, 5112, 5134, 5136, 5137, 5141, 5147, 5159, 5169, 5182, 5199, 5206, 5207, 5209, 5212, 5217, 5231, 5233, 5243, 5255, 5291, 5297, 5301, 5305, 5307, 5355, 5362, 5378, 5399, 5409, 5423, 5425, 5427, 5437, 5447, 5453, 5470, 5477, 5479, 5482, 5513, 5514, 5521, 5523, 5555, 5561, 5563, 5569, 5579, 5593, 5594, 5598, 5609, 5616, 5632, 5635, 5641, 5648, 5682, 5694, 5704, 5714, 5716, 5717, 5718, 5719, 5721, 5726, 5743, 5746, 5779, 5795, 5804, 5834, 5835, 5840, 5864, 5873, 5875, 5895, 5938, 6009, 6018, 6020, 6025, 6057, 6063, 6064, 6065, 6073, 6095, 6112, 6116, 6120, 6124, 6125, 6126, 6130, 6132, 6135, 6139, 6142, 6146, 6147, 6163, 6173, 6177, 6184, 6185, 6198, 6205, 6222, 6225, 6243, 6250, 6270, 6281, 6287, 6306, 6311, 6326, 6329, 6373, 6381, 6383, 6391, 6392, 6395, 6397, 6408, 6410, 6415, 6419, 6422, 6434, 6438, 6439, 6450, 6451, 6452, 6455, 6461, 6474, 6475, 6477, 6482, 6486, 6493, 6494, 6504, 6526, 6533, 6538, 6542, 6543, 6556, 6577, 6580, 6590, 6614, 6616, 6626, 6643, 6647, 6648, 6652, 6660, 6661, 6667, 6668, 6674, 6683, 6685, 6712, 6721, 6734, 6736, 6739, 6742, 6748, 6752, 6757, 6775, 6798, 6799, 6807, 6818, 6832, 6837, 6842, 6844, 6854, 6866, 6877, 6888, 6890, 6894, 6896, 6898, 6899, 6900, 6911, 6914, 6920, 6926, 6936, 6947, 6982, 6984, 6987, 6992, 7007, 7023, 7026, 7036, 7051, 7058, 7078, 7091, 7130, 7165, 7201, 7205, 7226, 7228, 7229, 7287, 7291, 7300, 7312, 7314, 7317, 7344, 7353, 7360, 7364, 7377, 7398, 7403, 7406, 7416, 7422, 7430, 7435, 7448, 7457, 7464, 7497, 7505, 7520, 7539, 7555, 7569, 7579, 7591, 7612, 7619, 7629, 7648, 7652, 7657, 7669, 7676, 7682, 7692, 7694, 7703, 7709, 7716, 7719, 7722, 7727, 7729, 7739, 7749, 7750, 7780, 7788, 7793, 7809, 7824, 7825, 7826, 7832, 7846, 7874, 7880, 7887, 7918, 7919, 7921, 7930, 7935, 7964, 7973, 7975, 7988, 7998, 8004, 8005, 8007, 8010, 8018, 8025, 8034, 8038, 8052, 8069, 8073, 8077, 8085, 8091, 8094, 8099, 8106, 8128, 8131, 8137, 8140, 8151, 8160, 8179, 8182, 8188, 8194, 8214, 8234, 8240, 8255, 8256, 8274, 8275, 8296, 8307, 8317, 8323, 8324, 8337, 8349, 8358, 8362, 8374, 8377, 8395, 8397, 8405, 8426, 8444, 8449, 8451, 8453, 8457, 8485, 8496, 8515, 8530, 8545, 8546, 8550, 8552, 8559, 8564, 8579, 8583, 8584, 8587, 8594, 8599, 8644, 8646, 8648, 8680, 8688, 8689, 8691, 8705, 8713, 8723, 8728, 8742, 8746, 8759, 8777, 8781, 8804, 8811, 8819, 8821, 8824, 8841, 8846, 8849, 8851, 8854, 8865, 8879, 8884, 8889, 8891, 8896, 8912, 8920, 8937, 8939, 8958, 8972, 8985, 8986, 9001, 9031, 9032, 9049, 9050, 9101, 9102, 9105, 9126, 9128, 9136, 9137, 9142, 9147, 9162, 9168, 9182, 9188, 9189, 9220, 9223, 9238, 9241, 9248, 9258, 9285, 9287, 9291, 9298, 9319, 9330, 9340, 9343, 9357, 9358, 9372, 9385, 9400, 9403, 9424, 9432, 9438, 9457, 9459, 9462, 9467, 9478, 9480, 9482, 9487, 9502, 9521, 9526, 9531, 9541, 9543, 9550, 9557, 9563, 9569, 9572, 9594, 9608, 9633, 9639, 9647, 9681, 9701, 9709, 9711, 9715, 9724, 9741, 9747, 9773, 9781, 9784, 9798, 9803, 9813, 9817, 9821, 9825, 9839, 9844, 9852, 9861, 9862, 9863, 9866, 9884, 9892, 9893, 9894, 9902, 9911, 9918, 9929, 9934, 9950, 9954, 9956, 9976, 10008, 10024, 10030, 10040, 10053, 10075, 10086, 10094, 10095, 10106, 10108, 10115, 10127, 10136, 10138, 10151, 10159, 10171, 10175, 10179, 10180, 10187, 10202, 10212, 10216, 10230, 10232, 10249, 10261, 10287, 10301, 10302, 10320, 10325, 10334, 10337, 10348, 10355, 10365, 10380, 10385, 10401, 10428, 10439, 10447, 10451, 10464, 10466, 10483, 10484, 10501, 10505, 10506, 10507, 10509, 10522, 10523, 10526, 10537, 10540, 10556, 10571, 10580, 10584, 10617, 10625, 10670, 10679, 10684, 10706, 10717, 10723, 10732, 10734, 10735, 10743, 10758, 10759, 10768, 10784, 10823, 10830, 10833, 10838, 10862, 10864, 10909, 10914, 10931, 10971, 10984, 10994, 11001, 11006, 11008, 11020, 11035, 11042, 11062, 11116, 11139, 11164, 11170, 11190, 11191, 11200, 11201, 11209, 11211, 11220, 11226, 11247, 11268, 11280, 11282, 11285, 11313, 11319, 11348, 11359, 11371, 11375, 11385, 11386, 11392, 11422, 11435, 11438, 11439, 11443, 11446, 11464, 11479, 11480, 11485, 11493, 11501, 11512, 11515, 11538, 11547, 11552, 11556, 11561, 11573, 11576, 11605, 11631, 11646, 11647, 11650, 11651, 11660, 11665, 11666, 11670, 11680, 11684, 11708, 11727, 11741, 11747, 11748, 11764, 11766, 11774, 11779, 11783, 11787, 11789, 11825, 11835, 11859, 11870, 11875, 11880, 11881, 11887, 11890, 11891, 11902, 11905, 11906, 11918, 11923, 11925, 11929, 11939, 11946, 11959, 11960, 11961, 11967, 11978, 11994, 12006, 12009, 12018, 12041, 12061, 12063, 12105, 12126, 12128, 12138, 12145, 12171, 12173, 12191, 12201, 12215, 12234, 12239, 12245, 12246, 12272, 12274, 12281, 12290, 12311, 12316, 12319, 12322, 12325, 12345, 12369, 12374, 12382, 12392, 12403, 12408, 12409, 12435, 12441, 12452, 12474, 12482, 12503, 12511, 12513, 12521, 12524, 12527, 12552, 12560, 12564, 12573, 12589, 12592, 12603, 12611, 12638, 12643, 12649, 12661, 12672, 12674, 12680, 12696, 12701, 12739, 12744, 12750, 12751, 12762, 12770, 12774, 12779, 12781, 12783, 12787, 12794, 12798, 12813, 12816, 12841, 12867, 12870, 12875, 12877, 12882, 12900, 12901, 12917, 12918, 12953, 12968, 12977, 12985, 12991, 13007, 13010, 13014, 13025, 13029, 13035, 13047, 13057, 13061, 13077, 13080, 13084, 13106, 13117, 13131, 13172, 13175, 13178, 13182, 13186, 13209, 13216, 13219, 13231, 13242, 13250, 13258, 13265, 13269, 13286, 13322, 13339, 13340, 13342, 13347, 13352, 13364, 13394, 13412, 13415, 13421, 13462, 13480, 13486, 13488, 13511, 13517, 13541, 13558, 13560, 13563, 13586, 13615, 13617, 13623, 13625, 13629, 13660, 13668, 13669, 13688, 13691, 13693, 13721, 13725, 13776, 13794, 13808, 13823, 13829, 13830, 13842, 13844, 13901, 13921, 13928, 13930, 13932, 13937, 13949, 13955, 13957, 13964, 13965, 13967, 13984, 13986, 13995, 14009, 14013, 14020, 14022, 14044, 14048, 14050, 14070, 14071, 14100, 14108, 14115, 14126, 14127, 14134, 14138, 14147, 14150, 14151, 14162, 14165, 14171, 14206, 14211, 14213, 14223, 14290, 14292, 14293, 14307, 14309, 14337, 14374, 14377, 14418, 14425, 14429, 14432, 14438, 14439, 14441, 14460, 14465, 14466, 14479, 14496, 14511, 14526, 14535, 14538, 14558, 14583, 14589, 14597, 14606, 14615, 14631, 14652, 14653, 14662, 14666, 14678, 14694, 14716, 14724, 14736, 14742, 14745, 14750, 14768, 14794, 14798, 14800, 14804, 14806, 14807, 14819, 14827, 14842, 14845, 14850, 14851, 14853, 14857, 14858, 14862, 14879, 14881, 14883, 14894, 14907, 14918, 14947, 14949, 14950, 14956, 14963, 14973, 15000, 15027, 15028, 15040, 15049, 15052, 15059, 15062, 15069, 15070, 15079, 15096, 15107, 15114, 15117, 15123, 15126, 15137, 15140, 15175, 15199, 15201, 15205, 15208, 15210, 15228, 15234, 15238, 15239, 15245, 15251, 15266, 15271, 15281, 15286, 15287, 15302, 15309, 15330, 15344, 15348, 15351, 15353, 15355, 15357, 15378, 15403, 15425, 15435, 15441, 15447, 15455, 15473, 15477, 15478, 15482, 15492, 15496, 15507, 15557, 15563, 15583, 15594, 15615, 15633, 15659, 15688, 15706, 15730, 15736, 15748, 15749, 15757, 15762, 15786, 15791, 15792, 15815, 15828, 15849, 15862, 15867, 15901, 15903, 15910, 15946, 15980, 15981, 15996, 16021, 16024, 16033, 16038, 16041, 16067, 16068, 16070, 16072, 16083, 16097, 16105, 16107, 16117, 16119, 16125, 16142, 16163, 16198, 16200, 16205, 16219, 16235, 16236, 16237, 16239, 16252, 16268, 16270, 16279, 16284, 16285, 16303, 16333, 16353, 16357, 16367, 16369, 16373, 16391, 16402, 16404, 16424, 16425, 16429, 16442, 16445, 16462, 16470, 16485, 16515, 16529, 16544, 16549, 16556, 16558, 16562, 16566, 16567, 16569, 16588, 16612, 16622, 16629, 16630, 16636, 16637, 16659, 16670, 16671, 16675, 16676, 16684, 16685, 16691, 16705, 16710, 16711, 16724, 16728, 16735, 16760, 16763, 16772, 16776, 16803, 16831, 16835, 16846, 16857, 16860, 16865, 16867, 16873, 16877, 16886, 16902, 16920, 16925, 16943, 16948, 16955, 16997, 17000, 17018, 17025, 17032, 17050, 17057, 17092, 17105, 17111, 17116, 17119, 17121, 17145, 17160, 17204, 17207, 17212, 17227, 17231, 17235, 17244, 17252, 17262, 17273, 17298, 17302, 17304, 17306, 17315, 17331, 17343, 17354, 17359, 17362, 17383, 17409, 17427, 17444, 17447, 17476, 17478, 17496, 17506, 17514, 17525, 17528, 17537, 17544, 17586, 17613, 17617, 17618, 17625, 17632, 17641, 17716, 17729, 17753, 17754, 17760, 17780, 17784, 17828, 17839, 17847, 17854, 17895, 17902, 17904, 17905, 17923, 17929, 17942, 17947, 17955, 17958, 17966, 17969, 17970, 18006, 18013, 18035, 18039, 18043, 18052, 18054, 18059, 18069, 18076, 18077, 18080, 18084, 18107, 18148, 18152, 18185, 18186, 18190, 18201, 18207, 18208, 18229, 18237, 18245, 18254, 18266, 18278, 18288, 18293, 18300, 18306, 18310, 18354, 18366, 18368, 18377, 18386, 18390, 18393, 18397, 18404, 18407, 18415, 18426, 18427, 18448, 18452, 18463, 18468, 18476, 18484, 18503, 18506, 18520, 18521, 18525, 18527, 18533, 18535, 18536, 18538, 18543, 18550, 18551, 18580, 18582, 18589, 18591, 18598, 18603, 18622, 18628, 18629, 18634, 18646, 18647, 18652, 18654, 18674, 18680, 18684, 18688, 18690, 18695, 18705, 18714, 18715, 18719, 18724, 18730, 18735, 18740, 18744, 18762, 18779, 18783, 18792, 18813, 18824, 18838, 18839, 18864, 18897, 18922, 18949, 18956, 18959, 18962, 18977, 18987, 19015, 19019, 19030, 19036, 19042, 19056, 19059, 19064, 19078, 19080, 19091, 19116, 19135, 19138, 19141, 19151, 19169, 19213, 19216, 19229, 19243, 19250, 19254, 19255, 19258, 19270, 19271, 19280, 19290, 19296, 19300, 19304, 19305, 19316, 19336, 19341, 19363, 19368, 19383, 19389, 19426, 19433, 19437, 19441, 19445, 19448, 19450, 19469, 19477, 19485, 19498, 19516, 19523, 19529, 19600, 19603, 19605, 19608, 19617, 19633, 19651, 19671, 19672, 19674, 19676, 19678, 19684, 19692, 19703, 19708, 19714, 19728, 19735, 19740, 19743, 19750, 19754, 19761, 19766, 19776, 19799, 19805, 19815, 19818, 19828, 19835, 19845, 19848, 19851, 19852, 19877, 19879, 19883, 19895, 19901, 19979, 19983, 19987, 20000, 20002, 20004, 20009, 20018, 20020, 20031, 20052, 20056, 20073, 20082, 20083, 20089, 20116, 20118, 20152, 20171, 20173, 20176, 20186, 20193, 20216, 20241, 20244, 20246, 20247, 20261, 20287, 20301, 20319, 20328, 20332, 20336, 20349, 20369, 20374, 20383, 20405, 20413, 20435, 20458, 20464, 20466, 20477, 20479, 20482, 20486, 20505, 20512, 20519, 20528, 20532, 20538, 20545, 20547, 20550, 20556, 20572, 20592, 20606, 20613, 20630, 20652, 20658, 20678, 20685, 20692, 20695, 20700, 20727, 20739, 20740, 20743, 20759, 20785, 20790, 20801, 20815, 20828, 20836, 20839, 20846, 20848, 20868, 20870, 20879, 20886, 20894, 20909, 20932, 20951, 20963, 20987, 21001, 21021, 21024, 21025, 21026, 21032, 21033, 21073, 21093, 21102, 21121, 21136, 21147, 21150, 21157, 21158, 21163, 21169, 21171, 21178, 21188, 21194, 21202, 21209, 21220, 21251, 21254, 21277, 21302, 21304, 21317, 21320, 21322, 21333, 21339, 21394, 21401, 21408, 21410, 21438, 21440, 21458, 21486, 21495, 21498, 21501, 21507, 21514, 21541, 21552, 21556, 21557, 21570, 21575, 21576, 21577, 21580, 21592, 21596, 21599, 21625, 21643, 21665, 21669, 21679, 21680, 21698, 21708, 21717, 21725, 21728, 21730, 21737, 21738, 21740, 21744, 21746, 21747, 21778, 21788, 21789, 21790, 21792, 21801, 21809, 21810, 21814, 21861, 21865, 21870, 21874, 21890, 21929, 21936, 21950, 21971, 21972, 21979, 21994, 21997, 21999, 22024, 22040, 22045, 22065, 22079, 22090, 22094, 22099, 22119, 22123, 22128, 22133, 22141, 22148, 22150, 22179, 22182, 22184, 22200, 22201, 22220, 22228, 22231, 22245, 22254, 22259, 22262, 22267, 22268, 22275, 22280, 22293, 22298, 22314, 22361, 22362, 22377, 22383, 22403, 22421, 22425, 22427, 22441, 22454, 22467, 22477, 22497, 22503, 22504, 22526, 22529, 22531, 22533, 22559, 22574, 22581, 22617, 22623, 22631, 22640, 22653, 22663, 22694, 22695, 22703, 22711, 22716, 22721, 22740, 22768, 22769, 22770, 22790, 22806, 22832, 22850, 22852, 22853, 22854, 22874, 22886, 22888, 22897, 22898, 22912, 22929, 22947, 22952, 22967, 22974, 22976, 22982, 22984, 23015, 23046, 23055, 23056, 23085, 23097, 23100, 23103, 23135, 23138, 23148, 23160, 23178, 23183, 23202, 23214, 23215, 23222, 23245, 23249, 23270, 23283, 23313, 23319, 23321, 23322, 23323, 23350, 23365, 23394, 23418, 23458, 23487, 23504, 23516, 23523, 23529, 23533, 23534, 23539, 23545, 23555, 23574, 23588, 23594, 23625, 23628, 23630, 23649, 23721, 23730, 23741, 23747, 23748, 23761, 23765, 23771, 23781, 23815, 23816, 23827, 23838, 23851, 23854, 23863, 23889, 23897, 23908, 23912, 23919, 23938, 23965, 23993, 23995, 23999, 24011, 24014, 24042, 24046, 24051, 24052, 24063, 24064, 24074, 24082, 24107, 24118, 24128, 24130, 24131, 24135, 24139, 24144, 24149, 24151, 24168, 24169, 24191, 24204, 24209, 24214, 24217, 24231, 24234, 24239, 24240, 24250, 24280, 24306, 24313, 24317, 24331, 24332, 24334, 24337, 24342, 24378, 24396, 24399, 24402, 24405, 24408, 24409, 24416, 24420, 24425, 24429, 24469, 24473, 24480, 24486, 24509, 24511, 24516, 24531, 24532, 24538, 24541, 24562, 24603, 24604, 24636, 24637, 24657, 24666, 24672, 24678, 24683, 24685, 24698, 24710, 24720, 24728, 24739, 24754, 24761, 24783, 24788, 24809, 24814, 24839, 24846, 24854, 24856, 24858, 24885, 24896, 24901, 24914, 24933, 24960, 24965, 24970, 24973, 24979, 24995, 25000, 25002, 25042, 25052, 25056, 25066, 25084, 25088, 25093, 25113, 25121, 25157, 25158, 25185, 25188, 25193, 25199, 25226, 25234, 25239, 25242, 25255, 25270, 25271, 25278, 25279, 25287, 25289, 25303, 25308, 25320, 25331, 25338, 25343, 25352, 25368, 25391, 25399, 25400, 25407, 25430, 25440, 25451, 25453, 25476, 25477, 25485, 25491, 25493, 25503, 25519, 25529, 25543, 25568, 25570, 25571, 25575, 25580, 25616, 25618, 25626, 25636, 25637, 25639, 25642, 25647, 25648, 25649, 25669, 25680, 25692, 25702, 25710, 25721, 25723, 25727, 25736, 25758, 25764, 25765, 25779, 25781, 25804, 25806, 25818, 25828, 25871, 25886, 25890, 25899, 25906, 25907, 25910, 25926, 25946, 25980, 25996, 26001, 26013, 26015, 26018, 26031, 26034, 26038, 26046, 26052, 26058, 26072, 26074, 26081, 26108, 26119, 26159, 26173, 26203, 26205, 26208, 26209, 26212, 26218, 26225, 26230, 26232, 26233, 26236, 26240, 26241, 26262, 26276, 26278, 26284, 26302, 26311, 26352, 26384, 26393, 26408, 26416, 26421, 26449, 26453, 26455, 26457, 26460, 26480, 26481, 26486, 26498, 26507, 26509, 26519, 26526, 26529, 26536, 26557, 26574, 26577, 26588, 26590, 26596, 26598, 26606, 26610, 26613, 26637, 26646, 26650, 26681, 26724, 26733, 26734, 26744, 26747, 26792, 26802, 26806, 26813, 26839, 26860, 26861, 26867, 26871, 26884, 26887, 26913, 26918, 26923, 26928, 26932, 26951, 26966, 27001, 27010, 27033, 27045, 27064, 27076, 27098, 27104, 27110, 27117, 27137, 27146, 27151, 27169, 27175, 27191, 27201, 27205, 27214, 27221, 27229, 27261, 27265, 27266, 27270, 27275, 27283, 27295, 27297, 27303, 27314, 27316, 27318, 27321, 27324, 27345, 27367, 27373, 27380, 27382, 27386, 27388, 27404, 27416, 27427, 27428, 27434, 27457, 27466, 27484, 27485, 27494, 27504, 27505, 27551, 27556, 27560, 27580, 27583, 27589, 27596, 27604, 27608, 27615, 27616, 27621, 27634, 27641, 27664, 27666, 27693, 27720, 27721, 27722, 27727, 27745, 27747, 27748, 27757, 27760, 27762, 27763, 27769, 27773, 27792, 27796, 27799, 27812, 27821, 27857, 27860, 27875, 27878, 27888, 27889, 27894, 27902, 27910, 27916, 27922, 27926, 27931, 27943, 27954, 27970, 27983, 27992, 27997, 28029, 28031, 28049, 28054, 28071, 28102, 28110, 28144, 28155, 28156, 28157, 28172, 28178, 28184, 28185, 28219, 28236, 28244, 28247, 28251, 28259, 28264, 28267, 28273, 28304, 28325, 28326, 28328, 28331, 28355, 28364, 28365, 28372, 28379, 28383, 28389, 28394, 28401, 28404, 28416, 28437, 28439, 28440, 28444, 28447, 28463, 28483, 28487, 28489, 28491, 28493, 28494, 28505, 28507, 28510, 28512, 28515, 28516, 28525, 28533, 28555, 28609, 28623, 28632, 28633, 28647, 28671, 28720, 28739, 28741, 28759, 28765, 28773, 28791, 28795, 28802, 28806, 28807, 28809, 28820, 28839, 28844, 28849, 28854, 28857, 28858, 28864, 28895, 28900, 28926, 28929, 28935, 28946, 28957, 28964, 28966, 28979, 28984, 29014, 29015, 29018, 29041, 29057, 29058, 29066, 29090, 29113, 29129, 29159, 29171, 29189, 29204, 29208, 29213, 29219, 29223, 29224, 29234, 29264, 29272, 29274, 29292, 29319, 29322, 29330, 29334, 29344, 29347, 29360, 29362, 29372, 29383, 29393, 29399, 29402, 29404, 29409, 29414, 29425, 29441, 29444, 29478, 29497, 29518, 29528, 29536, 29540, 29580, 29585, 29591, 29598, 29603, 29620, 29621, 29627, 29637, 29657, 29673, 29693, 29697, 29699, 29710, 29714, 29715, 29721, 29729, 29731, 29736, 29738, 29741, 29745, 29775, 29781, 29792, 29800, 29810, 29840, 29877, 29884, 29885, 29887, 29891, 29892, 29897, 29910, 29913, 29934, 29940, 29962, 29965, 29971, 29972, 29991, 29997, 30004, 30014, 30018, 30048, 30059, 30114, 30119, 30134, 30138, 30175, 30177, 30188, 30195, 30236, 30237, 30239, 30242, 30243, 30248, 30254, 30270, 30273, 30292, 30304, 30311, 30312, 30320, 30332, 30338, 30354, 30368, 30373, 30375, 30384, 30396, 30400, 30403, 30405, 30425, 30439, 30466, 30475, 30480, 30515, 30517, 30528, 30529, 30530, 30539, 30540, 30545, 30568, 30582, 30595, 30597, 30609, 30616, 30617, 30622, 30625, 30629, 30640, 30648, 30653, 30658, 30679, 30689, 30697, 30709, 30710, 30736, 30738, 30741, 30744, 30746, 30753, 30760, 30770, 30785, 30786, 30789, 30791, 30797, 30805, 30819, 30846, 30886, 30894, 30900, 30908, 30909, 30938, 30939, 30941, 30952, 30972, 30986, 30989, 31011, 31014, 31029, 31031, 31034, 31052, 31061, 31068, 31071, 31074, 31080, 31094, 31111, 31114, 31121, 31125, 31162, 31168, 31207, 31223, 31238, 31253, 31264, 31267, 31276, 31282, 31300, 31313, 31314, 31319, 31320, 31325, 31338, 31343, 31359, 31371, 31397, 31404, 31412, 31416, 31440, 31449, 31454, 31461, 31509, 31513, 31531, 31532, 31541, 31562, 31586, 31602, 31604, 31606, 31618, 31627, 31641, 31646, 31652, 31656, 31662, 31671, 31672, 31676, 31682, 31687, 31695, 31717, 31720, 31721, 31726, 31733, 31736, 31753, 31756, 31758, 31763, 31764, 31766, 31782, 31797, 31798, 31810, 31823, 31842, 31845, 31853, 31854, 31857, 31858, 31872, 31876, 31887, 31897, 31902, 31904, 31921, 31922, 31926, 31949, 31962, 31964, 31969, 31972, 31986, 31988, 31993, 32035, 32062, 32065, 32075, 32088, 32098, 32099, 32119, 32123, 32135, 32152, 32156, 32158, 32161, 32169, 32212, 32222, 32225, 32240, 32241, 32249, 32259, 32290, 32293, 32294, 32298, 32306, 32321, 32327, 32342, 32386, 32391, 32405, 32422, 32427, 32430, 32431, 32437, 32442, 32446, 32478, 32488, 32492, 32505, 32508, 32521, 32524, 32532, 32533, 32534, 32542, 32562, 32566, 32590, 32605, 32610, 32621, 32650, 32658, 32660, 32667, 32672, 32675, 32695, 32709, 32711, 32718, 32719, 32724, 32737, 32738, 32739, 32749, 32752, 32754, 32762, 32767, 32779, 32780, 32785, 32788, 32795, 32800, 32807, 32809, 32810, 32813, 32817, 32845, 32865, 32868, 32880, 32888, 32890, 32891, 32896, 32902, 32920, 32937, 32983, 33017, 33030, 33033, 33041, 33058, 33061, 33067, 33075, 33077, 33107, 33122, 33130, 33140, 33144, 33145, 33150, 33152, 33154, 33165, 33166, 33168, 33178, 33179, 33180, 33185, 33190, 33196, 33216, 33221, 33233, 33238, 33239, 33245, 33254, 33271, 33282, 33283, 33295, 33304, 33317, 33323, 33325, 33328, 33333, 33337, 33343, 33348, 33358, 33365, 33390, 33397, 33418, 33423, 33424, 33444, 33448, 33476, 33484, 33487, 33512, 33526, 33538, 33546, 33547, 33555, 33568, 33571, 33574, 33582, 33598, 33622, 33623, 33624, 33628, 33634, 33694, 33708, 33709, 33711, 33725, 33743, 33744, 33764, 33774, 33786, 33793, 33805, 33808, 33824, 33828, 33832, 33841, 33844, 33848, 33849, 33869, 33885, 33902, 33904, 33905, 33908, 33921, 33922, 33925, 33943, 33958, 33971, 34001, 34003, 34004, 34005, 34008, 34010, 34013, 34027, 34030, 34061, 34081, 34082, 34095, 34097, 34101, 34104, 34121, 34122, 34128, 34130, 34140, 34144, 34150, 34161, 34176, 34182, 34195, 34196, 34206, 34207, 34214, 34216, 34226, 34231, 34234, 34243, 34249, 34259, 34264, 34278, 34284, 34300, 34304, 34310, 34312, 34329, 34336, 34342, 34356, 34364, 34371, 34373, 34385, 34405, 34423, 34428, 34429, 34446, 34448, 34460, 34463, 34472, 34473, 34481, 34496, 34503, 34508, 34515, 34520, 34530, 34541, 34543, 34550, 34564, 34575, 34576, 34579, 34584, 34617, 34623, 34630, 34649, 34657, 34686, 34693, 34697, 34710, 34734, 34777, 34786, 34790, 34845, 34848, 34854, 34869, 34889, 34896, 34899, 34912, 34921, 34942, 34944, 34956, 34966, 34976, 34980, 34983, 34984, 34990, 35013, 35024, 35032, 35034, 35062, 35068, 35087, 35089, 35094, 35098, 35104, 35122, 35138, 35143, 35145, 35149, 35156, 35157, 35174, 35176, 35190, 35195, 35197, 35214, 35227, 35229, 35230, 35242, 35243, 35259, 35272, 35273, 35301, 35306, 35310, 35315, 35319, 35327, 35348, 35361, 35418, 35424, 35444, 35462, 35492, 35503, 35523, 35531, 35532, 35534, 35535, 35559, 35560, 35561, 35564, 35612, 35614, 35615, 35621, 35623, 35630, 35657, 35661, 35663, 35675, 35711, 35717, 35722, 35733, 35735, 35736, 35742, 35752, 35773, 35777, 35791, 35824, 35826, 35832, 35839, 35845, 35856, 35857, 35866, 35908, 35917, 35922, 35925, 35930, 35931, 35938, 35946, 35954, 35973, 35997, 36001, 36003, 36023, 36030, 36043, 36049, 36056, 36091, 36097, 36101, 36102, 36104, 36107, 36121, 36146, 36151, 36154, 36160, 36181, 36182, 36184, 36203, 36231, 36266, 36267, 36273, 36300, 36311, 36319, 36325, 36373, 36379, 36386, 36393, 36403, 36410, 36420, 36425, 36430, 36446, 36463, 36468, 36471, 36479, 36494, 36497, 36499, 36500, 36519, 36533, 36534, 36538, 36542, 36552, 36566, 36570, 36578, 36580, 36586, 36592, 36594, 36596, 36597, 36598, 36609, 36623, 36626, 36655, 36665, 36667, 36672, 36691, 36698, 36701, 36705, 36720, 36728, 36731, 36736, 36741, 36745, 36767, 36768, 36777, 36785, 36788, 36793, 36799, 36801, 36802, 36814, 36846, 36847, 36908, 36910, 36922, 36937, 36943, 36953, 36957, 36959, 36966, 36986, 36992, 36999, 37002, 37010, 37011, 37040, 37042, 37052, 37053, 37057, 37058, 37067, 37077, 37084, 37099, 37116, 37123, 37133, 37147, 37151, 37168, 37182, 37193, 37197, 37202, 37204, 37208, 37212, 37214, 37217, 37218, 37224, 37226, 37233, 37254, 37255, 37257, 37265, 37271, 37280, 37286, 37293, 37305, 37311, 37314, 37320, 37330, 37331, 37335, 37350, 37354, 37364, 37365, 37383, 37391, 37393, 37401, 37403, 37408, 37409, 37432, 37433, 37435, 37444, 37460, 37483, 37485, 37488, 37490, 37514, 37533, 37541, 37553, 37559, 37563, 37570, 37571, 37575, 37585, 37595, 37616, 37632, 37648, 37659, 37664, 37687, 37688, 37697, 37707, 37716, 37752, 37771, 37780, 37784, 37791, 37806, 37813, 37818, 37824, 37831, 37842, 37878, 37886, 37900, 37916, 37917, 37926, 37961, 37974, 37987, 37993, 38005, 38009, 38012, 38019, 38025, 38037, 38049, 38058, 38060, 38070, 38071, 38074, 38075, 38083, 38089, 38091, 38092, 38112, 38132, 38138, 38158, 38169, 38186, 38209, 38213, 38240, 38243, 38244, 38245, 38278, 38299, 38310, 38318, 38330, 38332, 38360, 38361, 38365, 38372, 38376, 38380, 38389, 38408, 38419, 38446, 38459, 38477, 38489, 38501, 38512, 38515, 38549, 38550, 38564, 38565, 38572, 38586, 38592, 38596, 38605, 38606, 38625, 38628, 38644, 38645, 38646, 38649, 38652, 38673, 38674, 38677, 38689, 38705, 38708, 38711, 38718, 38732, 38744, 38748, 38753, 38754, 38804, 38809, 38814, 38817, 38826, 38839, 38840, 38869, 38913, 38915, 38920, 38929, 38935, 38951, 38954, 38959, 38963, 38973, 38981, 38986, 38989, 38995, 39009, 39021, 39025, 39052, 39059, 39062, 39063, 39096, 39099, 39102, 39105, 39127, 39131, 39150, 39158, 39167, 39190, 39209, 39226, 39263, 39280, 39294, 39304, 39323, 39325, 39335, 39338, 39348, 39355, 39366, 39370, 39389, 39392, 39399, 39406, 39433, 39448, 39461, 39474, 39496, 39502, 39522, 39527, 39581, 39595, 39627, 39633, 39639, 39654, 39664, 39672, 39682, 39689, 39691, 39693, 39698, 39704, 39705, 39707, 39717, 39723, 39725, 39749, 39755, 39784, 39802, 39818, 39836, 39840, 39849, 39859, 39872, 39874, 39893, 39896, 39898, 39905, 39916, 39935, 39936, 39953, 39966, 39974, 39988, 40005, 40031, 40035, 40045, 40055, 40062, 40070, 40077, 40084, 40087, 40089, 40093, 40115, 40118, 40125, 40131, 40133, 40139, 40154, 40155, 40162, 40178, 40179, 40184, 40190, 40196, 40201, 40203, 40206, 40214, 40217, 40218, 40228, 40236, 40237, 40245, 40247, 40270, 40275, 40278, 40282, 40319, 40340, 40349, 40355, 40361, 40369, 40417, 40418, 40427, 40454, 40461, 40464, 40477, 40480, 40486, 40495, 40497, 40504, 40511, 40515, 40531, 40545, 40551, 40553, 40577, 40581, 40590, 40604, 40643, 40644, 40646, 40701, 40709, 40739, 40741, 40753, 40765, 40770, 40783, 40800, 40812, 40813, 40815, 40821, 40823, 40831, 40834, 40841, 40848, 40856, 40869, 40870, 40912, 40921, 40923, 40933, 40936, 40954, 40961, 40996, 41027, 41028, 41031, 41053, 41057, 41063, 41064, 41072, 41073, 41083, 41104, 41105, 41106, 41109, 41120, 41148, 41150, 41158, 41175, 41185, 41210, 41214, 41219, 41246, 41251, 41258, 41265, 41296, 41299, 41308, 41319, 41326, 41334, 41348, 41350, 41373, 41375, 41393, 41399, 41400, 41405, 41412, 41432, 41437, 41444, 41472, 41473, 41480, 41494, 41498, 41505, 41512, 41516, 41521, 41528, 41540, 41543, 41547, 41553, 41561, 41566, 41579, 41596, 41597, 41599, 41601, 41606, 41628, 41639, 41647, 41650, 41666, 41678, 41681, 41692, 41701, 41705, 41742, 41744, 41750, 41783, 41785, 41789, 41794, 41795, 41803, 41823, 41824, 41842, 41861, 41865, 41878, 41880, 41921, 41930, 41940, 41966, 41971, 41978, 41981, 41995, 41996, 41999, 42011, 42013, 42031, 42032, 42035, 42042, 42048, 42058, 42059, 42060, 42110, 42130, 42136, 42139, 42144, 42160, 42163, 42164, 42165, 42171, 42197, 42233, 42237, 42241, 42282, 42283, 42288, 42297, 42298, 42302, 42310, 42312, 42313, 42315, 42374, 42380, 42387, 42392, 42416, 42418, 42433, 42434, 42462, 42502, 42516, 42544, 42555, 42556, 42566, 42588, 42607, 42608, 42610, 42643, 42663, 42664, 42666, 42676, 42680, 42681, 42686, 42689, 42695, 42699, 42710, 42712, 42719, 42721, 42745, 42752, 42755, 42764, 42771, 42777, 42788, 42804, 42806, 42822, 42826, 42848, 42857, 42864, 42869, 42878, 42880, 42883, 42900, 42912, 42923, 42932, 42939, 42948, 42952, 42958, 42967, 42977, 42999, 43012, 43018, 43020, 43027, 43058, 43070, 43084, 43090, 43101, 43117, 43123, 43126, 43149, 43154, 43174, 43177, 43179, 43184, 43197, 43201, 43210, 43211, 43252, 43274, 43292, 43306, 43324, 43331, 43352, 43356, 43368, 43372, 43376, 43377, 43405, 43409, 43420, 43426, 43429, 43444, 43449, 43485, 43506, 43523, 43528, 43551, 43557, 43560, 43586, 43590, 43591, 43608, 43650, 43661, 43669, 43679, 43714, 43717, 43726, 43727, 43729, 43742, 43747, 43777, 43778, 43808, 43810, 43844, 43874, 43875, 43887, 43897, 43909, 43911, 43913, 43914, 43919, 43938, 43944, 43948, 43976, 43983, 43986, 43988, 44012, 44022, 44030, 44059, 44074, 44087, 44091, 44100, 44111, 44112, 44121, 44130, 44154, 44159, 44163, 44171, 44197, 44200, 44201, 44208, 44229, 44231, 44243, 44260, 44278, 44284, 44294, 44298, 44312, 44318, 44320, 44322, 44324, 44332, 44355, 44364, 44371, 44376, 44380, 44381, 44398, 44401, 44413, 44414, 44426, 44452, 44458, 44459, 44464, 44487, 44503, 44509, 44541, 44544, 44546, 44547, 44567, 44589, 44596, 44598, 44601, 44620, 44621, 44622, 44661, 44667, 44673, 44676, 44678, 44710, 44714, 44731, 44743, 44744, 44757, 44760, 44773, 44778, 44784, 44802, 44831, 44833, 44834, 44837, 44867, 44877, 44878, 44900, 44917, 44928, 44935, 44936, 44945, 44946, 44952, 45013, 45032, 45035, 45040, 45067, 45075, 45087, 45094, 45135, 45139, 45143, 45148, 45157, 45166, 45172, 45197, 45212, 45233, 45239, 45243, 45285, 45292, 45302, 45306, 45334, 45345, 45360, 45373, 45377, 45392, 45402, 45408, 45414, 45421, 45422, 45429, 45440, 45464, 45475, 45482, 45487, 45493, 45515, 45516, 45528, 45537, 45543, 45544, 45554, 45559, 45570, 45582, 45586, 45615, 45619, 45640, 45643, 45654, 45663, 45664, 45667, 45690, 45693, 45694, 45720, 45729, 45736, 45743, 45782, 45785, 45804, 45810, 45812, 45822, 45828, 45834, 45843, 45853, 45854, 45865, 45870, 45880, 45889, 45893, 45894, 45903, 45905, 45906, 45908, 45922, 45942, 45943, 45945, 45960, 45963, 45971, 45973, 45992, 45997, 45999, 46003, 46010, 46012, 46059, 46090, 46093, 46153, 46161, 46168, 46177, 46194, 46202, 46231, 46232, 46241, 46258, 46260, 46263, 46268, 46269, 46272, 46274, 46284, 46297, 46301, 46311, 46322, 46325, 46333, 46336, 46338, 46348, 46361, 46368, 46382, 46395, 46401, 46408, 46418, 46422, 46471, 46490, 46494, 46499, 46510, 46511, 46520, 46538, 46542, 46559, 46592, 46595, 46597, 46608, 46614, 46621, 46647, 46652, 46653, 46657, 46675, 46681, 46687, 46688, 46690, 46693, 46695, 46697, 46711, 46737, 46744, 46764, 46784, 46785, 46790, 46804, 46806, 46815, 46838, 46852, 46853, 46855, 46862, 46863, 46866, 46876, 46892, 46913, 46919, 46924, 46939, 46945, 46947, 46957, 46965, 46984, 46996, 46998, 47009, 47015, 47016, 47019, 47036, 47046, 47052, 47062, 47063, 47073, 47084, 47137, 47142, 47144, 47153, 47155, 47178, 47179, 47180, 47185, 47195, 47198, 47199, 47205, 47236, 47240, 47241, 47263, 47271, 47278, 47298, 47300, 47305, 47352, 47359, 47368, 47379, 47398, 47421, 47425, 47458, 47462, 47465, 47469, 47481, 47491, 47498, 47511, 47512, 47516, 47523, 47525, 47531, 47534, 47543, 47550, 47555, 47560, 47571, 47578, 47585, 47603, 47607, 47611, 47636, 47643, 47649, 47678, 47683, 47684, 47700, 47704, 47705, 47710, 47719, 47734, 47758, 47763, 47766, 47778, 47779, 47786, 47787, 47795, 47800, 47805, 47814, 47834, 47867, 47885, 47910, 47916, 47947, 47951, 47953, 47954, 47966, 47969, 47971, 47973, 47974, 47977, 47988, 47994, 48023, 48037, 48056, 48061, 48085, 48090, 48117, 48124, 48125, 48129, 48130, 48140, 48182, 48186, 48188, 48195, 48210, 48217, 48229, 48235, 48245, 48252, 48279, 48287, 48290, 48294, 48296, 48308, 48312, 48315, 48318, 48329, 48347, 48358, 48364, 48444, 48462, 48463, 48471, 48477, 48490, 48498, 48501, 48502, 48528, 48542, 48544, 48547, 48548, 48565, 48566, 48597, 48606, 48630, 48647, 48652, 48658, 48665, 48669, 48670, 48687, 48698, 48755, 48758, 48762, 48763, 48765, 48770, 48773, 48776, 48794, 48802, 48810, 48820, 48840, 48842, 48864, 48867, 48882, 48883, 48884, 48911, 48912, 48917, 48964, 48971, 48974, 48975, 48981, 48996, 48998, 49017, 49021, 49031, 49041, 49056, 49072, 49073, 49082, 49086, 49094, 49115, 49116, 49132, 49133, 49171, 49173, 49177, 49181, 49184, 49194, 49200, 49224, 49226, 49258, 49278, 49288, 49315, 49331, 49336, 49356, 49357, 49364, 49369, 49378, 49401, 49408, 49410, 49417, 49421, 49425, 49430, 49431, 49435, 49436, 49437, 49444, 49446, 49459, 49465, 49485, 49505, 49514, 49515, 49516, 49528, 49546, 49557, 49560, 49564, 49567, 49570, 49592, 49593, 49600, 49623, 49629, 49632, 49640, 49672, 49695, 49733, 49740, 49745, 49746, 49763, 49780, 49792, 49801, 49802, 49820, 49821, 49833, 49836, 49845, 49853, 49863, 49865, 49869, 49872, 49889, 49893, 49908, 49910, 49912, 49918, 49930, 49946, 49964, 49966, 49985, 49999, 50016, 50032, 50043, 50051, 50077, 50125, 50127, 50139, 50140, 50147, 50158, 50168, 50183, 50194, 50195, 50230, 50232, 50238, 50256, 50264, 50265, 50271, 50273, 50274, 50289, 50306, 50309, 50328, 50331, 50339, 50342, 50344, 50345, 50350, 50352, 50357, 50358, 50375, 50385, 50393, 50410, 50427, 50430, 50441, 50452, 50453, 50456, 50473, 50474, 50477, 50478, 50484, 50493, 50509, 50511, 50574, 50578, 50586, 50588, 50599, 50600, 50606, 50612, 50614, 50628, 50632, 50637, 50641, 50644, 50655, 50660, 50664, 50678, 50683, 50702, 50708, 50713, 50747, 50757, 50761, 50766, 50787, 50790, 50791, 50793, 50824, 50872, 50882, 50891, 50897, 50906, 50908, 50911, 50916, 50917, 50918, 50921, 50923, 50934, 50937, 50949, 50981, 50986, 50999, 51002, 51018, 51023, 51030, 51038, 51040, 51043, 51057, 51068, 51075, 51088, 51108, 51114, 51115, 51140, 51151, 51155, 51158, 51160, 51164, 51166, 51190, 51207, 51210, 51211, 51217, 51218, 51226, 51242, 51293, 51296, 51314, 51330, 51332, 51340, 51376, 51404, 51415, 51425, 51439, 51441, 51448, 51454, 51467, 51471, 51488, 51504, 51505, 51508, 51515, 51516, 51523, 51527, 51539, 51542, 51546, 51553, 51558, 51566, 51572, 51614, 51616, 51617, 51618, 51620, 51631, 51633, 51643, 51649, 51660, 51665, 51670, 51672, 51686, 51705, 51709, 51715, 51734, 51737, 51738, 51756, 51757, 51761, 51762, 51765, 51771, 51776, 51783, 51807, 51810, 51819, 51823, 51839, 51841, 51855, 51863, 51873, 51884, 51906, 51917, 51926, 51932, 51934, 51956, 52011, 52030, 52037, 52041, 52051, 52073, 52082, 52088, 52094, 52114, 52119, 52140, 52143, 52150, 52151, 52158, 52174, 52175, 52176, 52191, 52200, 52212, 52223, 52255, 52269, 52320, 52333, 52350, 52353, 52370, 52377, 52388, 52396, 52415, 52419, 52421, 52437, 52439, 52447, 52450, 52469, 52476, 52481, 52496, 52497, 52523, 52526, 52543, 52546, 52561, 52564, 52576, 52577, 52579, 52588, 52602, 52603, 52613, 52619, 52620, 52622, 52629, 52636, 52658, 52674, 52685, 52696, 52701, 52704, 52746, 52756, 52767, 52775, 52788, 52815, 52816, 52823, 52831, 52834, 52849, 52853, 52856, 52861, 52863, 52871, 52882, 52883, 52892, 52896, 52908, 52918, 52928, 52935, 52938, 52942, 52943, 52945, 52948, 52962, 52968, 52982, 52994, 52997, 52999, 53005, 53008, 53009, 53016, 53041, 53057, 53060, 53061, 53070, 53071, 53076, 53078, 53090, 53094, 53127, 53151, 53153, 53173, 53174, 53195, 53200, 53213, 53224, 53226, 53238, 53249, 53251, 53256, 53269, 53274, 53278, 53282, 53287, 53330, 53341, 53346, 53353, 53370, 53379, 53380, 53383, 53407, 53441, 53447, 53451, 53453, 53454, 53474, 53475, 53490, 53496, 53518, 53519, 53526, 53530, 53533, 53544, 53559, 53579, 53580, 53601, 53621, 53622, 53635, 53639, 53648, 53654, 53660, 53669, 53679, 53688, 53693, 53707, 53717, 53721, 53722, 53727, 53730, 53732, 53739, 53744, 53753, 53765, 53776, 53784, 53801, 53812, 53827, 53845, 53859, 53862, 53866, 53873, 53874, 53876, 53880, 53883, 53888, 53899, 53919, 53922, 53931, 53936, 53943, 53946, 53953, 53955, 53970, 53971, 53986, 53994, 54001, 54002, 54012, 54044, 54045, 54103, 54111, 54130, 54138, 54139, 54141, 54159, 54168, 54170, 54173, 54180, 54186, 54212, 54227, 54243, 54249, 54265, 54268, 54290, 54292, 54304, 54305, 54312, 54313, 54324, 54328, 54356, 54363, 54373, 54389, 54411, 54412, 54422, 54432, 54446, 54453, 54458, 54463, 54464, 54467, 54475, 54495, 54510, 54528, 54535, 54545, 54547, 54560, 54565, 54586, 54590, 54591, 54597, 54606, 54626, 54643, 54645, 54665, 54667, 54679, 54681, 54682, 54694, 54699, 54702, 54710, 54716, 54724, 54737, 54744, 54754, 54756, 54760, 54766, 54779, 54781, 54783, 54803, 54829, 54840, 54843, 54866, 54883, 54893, 54897, 54903, 54910, 54922, 54925, 54930, 54961, 54963, 54968, 54969, 54972]\n",
      "An example that was missclassified by NN with m=600 training data points and it is now instead correctly classified by NN with m=5000 training data points is the image24\n",
      "INPUT:\n"
     ]
    },
    {
     "data": {
      "image/png": "[encoded data removed]",
      "text/plain": [
       "<Figure size 432x288 with 1 Axes>"
      ]
     },
     "metadata": {
      "needs_background": "light"
     },
     "output_type": "display_data"
    },
    {
     "name": "stdout",
     "output_type": "stream",
     "text": [
      "LABEL: 7\n"
     ]
    }
   ],
   "source": [
    "NN_prediction = best_mlp_final.predict(X_test) #ADD YOUR CODE\n",
    "large_NN_prediction = best_mlp_final_large.predict(X_test) #ADD YOUR CODE\n",
    "\n",
    "#ADD YOUR CODE\n",
    "wrongly_classified = []\n",
    "for i in range(len(y_test)):\n",
    "    if (large_NN_prediction[i] == y_test[i]) and (NN_prediction[i] != y_test[i]):\n",
    "        wrongly_classified.append(i)\n",
    "    \n",
    "if wrongly_classified == []:\n",
    "    print('No example was missclassified by NN with m=600 training data points and not by NN with m=5000 training data points')\n",
    "else:\n",
    "    print('An example that was missclassified by NN with m=600 training data points and it is now instead correctly classified by NN with m=5000 training data points is the image'+str(wrongly_classified[0]))\n",
    "    plot_input(X_test, y_test, wrongly_classified[0])"
   ]
  },
  {
   "cell_type": "markdown",
   "metadata": {},
   "source": [
    "### TO DO 8\n",
    "\n",
    "Let's plot the weigths of the multi-layer perceptron classifier, for the best NN we get with 600 data points and with 5000 data points. The code is already provided, just fix variable names (e.g., replace mlp ,  mlp_large with your estimators) in order to have it working with your implementation\n",
    "\n"
   ]
  },
  {
   "cell_type": "code",
   "execution_count": 15,
   "metadata": {},
   "outputs": [
    {
     "name": "stdout",
     "output_type": "stream",
     "text": [
      "Weights with 600 data points:\n"
     ]
    },
    {
     "data": {
      "image/png": "[encoded data removed]",
      "text/plain": [
       "<Figure size 432x288 with 16 Axes>"
      ]
     },
     "metadata": {},
     "output_type": "display_data"
    },
    {
     "name": "stdout",
     "output_type": "stream",
     "text": [
      "Weights with 5000 data points:\n"
     ]
    },
    {
     "data": {
      "image/png": "[encoded data removed]",
      "text/plain": [
       "<Figure size 432x288 with 16 Axes>"
      ]
     },
     "metadata": {},
     "output_type": "display_data"
    }
   ],
   "source": [
    "# The code is already provided, fix variable names in order to have it working with your implementation\n",
    "\n",
    "print(\"Weights with 600 data points:\")\n",
    "\n",
    "fig, axes = plt.subplots(4, 4)\n",
    "vmin, vmax = best_mlp_final.coefs_[0].min(), best_mlp_final.coefs_[0].max()\n",
    "for coef, ax in zip(best_mlp_final.coefs_[0].T, axes.ravel()):\n",
    "    ax.matshow(coef.reshape(28, 28), cmap=plt.cm.gray, vmin=.5 * vmin,\n",
    "               vmax=.5 * vmax)\n",
    "    ax.set_xticks(())\n",
    "    ax.set_yticks(())\n",
    "\n",
    "plt.show()\n",
    "\n",
    "print(\"Weights with 5000 data points:\")\n",
    "\n",
    "fig, axes = plt.subplots(4, 4)\n",
    "vmin, vmax = best_mlp_final_large.coefs_[0].min(), best_mlp_final_large.coefs_[0].max()\n",
    "for coef, ax in zip(best_mlp_final_large.coefs_[0].T, axes.ravel()):\n",
    "    ax.matshow(coef.reshape(28, 28), cmap=plt.cm.gray, vmin=.5 * vmin,\n",
    "               vmax=.5 * vmax)\n",
    "    ax.set_xticks(())\n",
    "    ax.set_yticks(())\n",
    "plt.show()"
   ]
  },
  {
   "cell_type": "markdown",
   "metadata": {},
   "source": [
    "## QUESTION 4\n",
    "\n",
    "Describe what do you observe by looking at the weights"
   ]
  },
  {
   "cell_type": "markdown",
   "metadata": {},
   "source": [
    "## [ANSWER TO QUESTION 4]"
   ]
  },
  {
   "cell_type": "markdown",
   "metadata": {},
   "source": [
    "### TO DO 9\n",
    "\n",
    "Report the best SVM model and its parameters, you found in the last notebook (or check out the solution on the moodle webpage of the course). Fit it on a few data points and compute its training and test scores."
   ]
  },
  {
   "cell_type": "code",
   "execution_count": 17,
   "metadata": {},
   "outputs": [
    {
     "name": "stdout",
     "output_type": "stream",
     "text": [
      "RESULTS FOR SVM\n",
      "Training score SVM:\n",
      "1.0\n",
      "Training error SVM:\n",
      "0.0\n",
      "Test score SVM:\n",
      "0.8544\n",
      "Test error SVM:\n",
      "0.14559999999999995\n"
     ]
    }
   ],
   "source": [
    "m_training = 5000\n",
    "\n",
    "X_train, X_test = X[:m_training], X[m_training:2*m_training]\n",
    "y_train, y_test = y[:m_training], y[m_training:2*m_training]\n",
    "\n",
    "# use best parameters found in the SVM notebook, create SVM and perform fitting\n",
    "\n",
    "#ADD YOUR CODE\n",
    "SVM = SVC(C=50, gamma=0.05, kernel='rbf')\n",
    "SVM.fit(X_train, y_train)\n",
    "\n",
    "print ('RESULTS FOR SVM')\n",
    "\n",
    "SVM_training_error = 1 - SVM.score(X_train, y_train) #ADD YOUR CODE\n",
    "\n",
    "print(\"Training score SVM:\")\n",
    "print(SVM.score(X_train, y_train))\n",
    "print(\"Training error SVM:\")\n",
    "print(SVM_training_error)\n",
    "\n",
    "SVM_test_error = 1 - SVM.score(X_test, y_test) #ADD YOUR CODE\n",
    "print(\"Test score SVM:\")\n",
    "print(SVM.score(X_test, y_test))\n",
    "print(\"Test error SVM:\")\n",
    "print(SVM_test_error)"
   ]
  },
  {
   "cell_type": "markdown",
   "metadata": {
    "collapsed": true
   },
   "source": [
    "## QUESTION 5\n",
    "Compare the results of SVM and of NN. Which one would you prefer? "
   ]
  },
  {
   "cell_type": "markdown",
   "metadata": {},
   "source": [
    "## [ANSWER TO QUESTION 5]"
   ]
  },
  {
   "cell_type": "code",
   "execution_count": null,
   "metadata": {},
   "outputs": [],
   "source": []
  }
 ],
 "metadata": {
  "kernelspec": {
   "display_name": "Python 3",
   "language": "python",
   "name": "python3"
  },
  "language_info": {
   "codemirror_mode": {
    "name": "ipython",
    "version": 3
   },
   "file_extension": ".py",
   "mimetype": "text/x-python",
   "name": "python",
   "nbconvert_exporter": "python",
   "pygments_lexer": "ipython3",
   "version": "3.7.3"
  }
 },
 "nbformat": 4,
 "nbformat_minor": 2
}
