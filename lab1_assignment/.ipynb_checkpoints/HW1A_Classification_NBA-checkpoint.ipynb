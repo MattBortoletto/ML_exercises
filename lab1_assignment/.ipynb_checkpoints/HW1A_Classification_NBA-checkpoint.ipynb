{
 "cells": [
  {
   "cell_type": "markdown",
   "metadata": {},
   "source": [
    "# Classification of NBA players role\n",
    "\n",
    "## IMPORTANT: make sure to rerun all the code from the beginning to obtain the results for the final version of your notebook, since this is the way we will do it before evaluting your notebook! Only the notebook file will be submitted, do not change the data filenames, file content or paths we'll use the provided ones."
   ]
  },
  {
   "cell_type": "markdown",
   "metadata": {},
   "source": [
    "Student name: Matteo Bortoletto <br>\n",
    "ID Number: 1146169 (this is my old ID, i'm graduating in december)"
   ]
  },
  {
   "cell_type": "markdown",
   "metadata": {},
   "source": [
    "### Dataset description\n",
    "\n",
    "We will be working with a dataset of NBA basketball players data (you can get from https://www.kaggle.com/jacobbaruch/nba-player-of-the-week the full dataset).\n",
    "\n",
    "The provided data is a subset of the full dataset containing the players that have the role of Center and of Point Guard. For each player the dataset contains the height, weight and age.\n",
    "\n",
    "From Wikipedia:\n",
    "\n",
    "The **Center** (C), also known as the five, or the big man, is one of the five positions in a regular basketball game. The center is normally the tallest player on the team, and often has a great deal of strength and body mass as well. In the NBA, the center is usually 6' 10\" (2.08 m) or taller and usually weighs 240 lbs (109 kg) or more. \n",
    "\n",
    "**Point Guards** (PG, a.k.a. as \"play maker\") are expected to run the team's offense by controlling the ball and making sure that it gets to the right players at the right time. In the NBA, point guards are usually about 6' 3\" (1.93 m) or shorter, and average about 6' 2\" (1.88 m). Having above-average size (height, muscle) is considered advantageous, although size is secondary to situational awareness, speed, quickness, and ball handling skills. Shorter players tend to be better dribblers since they are closer to the floor, and thus have better control of the ball while dribbling. \n",
    "\n",
    "\n",
    "As it is clear from the description, the height and weight of the player are good hints to predict their role and in this lab we will exploit this features to estimate the role.\n",
    "\n",
    "\n",
    "### Three features (regressors) are considered for this dataset:\n",
    "\n",
    "\n",
    "1) Height in cm\n",
    "\n",
    "2) Weight in kg\n",
    "\n",
    "3) Age in years"
   ]
  },
  {
   "cell_type": "markdown",
   "metadata": {},
   "source": [
    "We first import all the packages that are needed."
   ]
  },
  {
   "cell_type": "code",
   "execution_count": 1,
   "metadata": {},
   "outputs": [],
   "source": [
    "%matplotlib inline\n",
    "import matplotlib.pyplot as plt\n",
    "import csv\n",
    "\n",
    "import numpy as np\n",
    "import scipy as sp\n",
    "import sklearn as sl\n",
    "from scipy import stats\n",
    "from sklearn import datasets\n",
    "from sklearn import linear_model"
   ]
  },
  {
   "cell_type": "markdown",
   "metadata": {},
   "source": [
    "# Perceptron\n",
    "We will implement the perceptron algorithm and use it to learn a halfspace."
   ]
  },
  {
   "cell_type": "markdown",
   "metadata": {},
   "source": [
    "**TO DO** Set the random seed (you can use your ID (matricola) or any other number!)."
   ]
  },
  {
   "cell_type": "code",
   "execution_count": 2,
   "metadata": {},
   "outputs": [],
   "source": [
    "IDnumber = 1146169 #YOUR_ID , try also to change the seed to see the impact of random initialization on the results\n",
    "np.random.seed(IDnumber)"
   ]
  },
  {
   "cell_type": "markdown",
   "metadata": {},
   "source": [
    "Load the dataset and then split in training set and test set (the training set is typically larger, you can use a 75% tranining 25% test split) after applying a random permutation to the datset."
   ]
  },
  {
   "cell_type": "markdown",
   "metadata": {},
   "source": [
    "A) Load dataset and perform permutation"
   ]
  },
  {
   "cell_type": "code",
   "execution_count": 3,
   "metadata": {},
   "outputs": [
    {
     "name": "stdout",
     "output_type": "stream",
     "text": [
      "['Position', 'Height cm', 'kg', 'Age']\n"
     ]
    }
   ],
   "source": [
    "#load the dataset\n",
    "filename = 'data/NBA.csv' # do not change the file name or content\n",
    "NBA = csv.reader(open(filename, newline=''), delimiter=',')\n",
    "\n",
    "header = next(NBA) #skip first line\n",
    "print(header)\n",
    "\n",
    "dataset = list(NBA)\n",
    "for i in range(len(dataset)):\n",
    "    dataset[i] = [int(x) for x in dataset[i]]\n",
    "    \n",
    "dataset = np.asarray(dataset)\n",
    "\n",
    "X = dataset[:,1:4] #columns 1,2,3 contain the features\n",
    "Y = dataset[:,0]  # column 0: labels\n",
    "\n",
    "Y = Y*2-1  # set labels to -1, 1 as required by perceptron implementation\n",
    "\n",
    "m = dataset.shape[0]\n",
    "permutation = np.random.permutation(m) # random permurtation\n",
    "\n",
    "X = X[permutation]\n",
    "Y = Y[permutation]"
   ]
  },
  {
   "cell_type": "markdown",
   "metadata": {},
   "source": [
    "We are going to classify class \"1\" (Center) vs class \"-1\" (Point Guard)"
   ]
  },
  {
   "cell_type": "markdown",
   "metadata": {},
   "source": [
    "B) **TO DO** Divide the data into training set and test set (1/4 of the data in the first set, 3/4 in the second one)"
   ]
  },
  {
   "cell_type": "code",
   "execution_count": 71,
   "metadata": {},
   "outputs": [
    {
     "name": "stdout",
     "output_type": "stream",
     "text": [
      "[-1  1 -1  1 -1 -1 -1 -1 -1 -1  1  1 -1  1  1  1  1  1  1 -1  1  1  1 -1\n",
      "  1 -1  1 -1  1  1 -1  1 -1 -1  1 -1 -1  1 -1 -1 -1 -1 -1 -1 -1  1  1  1\n",
      " -1  1  1  1 -1 -1 -1 -1  1 -1  1 -1  1 -1 -1  1  1 -1 -1  1  1 -1  1  1\n",
      "  1  1 -1 -1 -1  1 -1 -1 -1  1  1  1  1  1  1 -1  1  1  1  1 -1 -1 -1  1\n",
      "  1 -1 -1  1  1 -1 -1 -1  1 -1  1  1  1  1  1  1  1 -1  1  1  1  1  1 -1\n",
      " -1  1 -1  1  1 -1 -1 -1 -1 -1 -1  1  1  1 -1  1  1  1  1 -1 -1 -1  1  1\n",
      "  1  1  1  1 -1 -1 -1  1  1 -1  1  1  1  1  1 -1 -1  1 -1  1  1  1 -1 -1\n",
      "  1  1 -1  1 -1  1  1  1  1 -1 -1 -1  1  1 -1 -1 -1 -1  1 -1 -1 -1  1 -1\n",
      "  1  1  1]\n",
      "65\n",
      "Shape of training set: (195, 3)\n",
      "Shape of test set: (65, 3)\n"
     ]
    }
   ],
   "source": [
    "#Divide in training and test: make sure that your training set\n",
    "#contains at least 10 elements from class 1 and at least 10 elements\n",
    "#from class -1! If it does not, modify the code so to apply more random\n",
    "#permutations (or the same permutation multiple times) until this happens.\n",
    "#IMPORTANT: do not change the random seed.\n",
    "\n",
    "#m_test needs to be the number of samples in the test set\n",
    "m_test = X.shape[0] // 4 # PLACE YOUR CODE\n",
    "\n",
    "#m_training needs to be the number of samples in the training set\n",
    "m_training = X.shape[0] - m_test # PLACE YOUR CODE\n",
    "\n",
    "#X_training = instances for training set\n",
    "X_training = X[:m_training, :] # PLACE YOUR CODE\n",
    "#Y_training = labels for the training set\n",
    "Y_training = Y[:m_training] # PLACE YOUR CODE\n",
    "\n",
    "#X_test = instances for test set\n",
    "X_test = X[m_training:, :] # PLACE YOUR CODE\n",
    "#Y_test = labels for the test set\n",
    "Y_test = Y[m_training:] # PLACE YOUR CODE\n",
    "\n",
    "print(Y_training) #to make sure that Y_training contains both 1 and -1\n",
    "print(m_test)\n",
    "\n",
    "print(\"Shape of training set: \" + str(X_training.shape))\n",
    "print(\"Shape of test set: \" + str(X_test.shape))"
   ]
  },
  {
   "cell_type": "markdown",
   "metadata": {},
   "source": [
    "**TO DO** Now add a 1 in front of each sample so that we can use a vector in homogeneous coordinates to describe all the coefficients of the model. You can use the function $hstack$ in $numpy$"
   ]
  },
  {
   "cell_type": "code",
   "execution_count": 72,
   "metadata": {},
   "outputs": [],
   "source": [
    "#add a 1 to each sample (homogeneous coordinates)\n",
    "\n",
    "# PLACE YOUR CODE\n",
    "\n",
    "X_training = np.hstack((np.ones((m_training, 1)), X_training))\n",
    "X_test = np.hstack((np.ones((m_test,1)), X_test))"
   ]
  },
  {
   "cell_type": "markdown",
   "metadata": {},
   "source": [
    "**TO DO** Now complete the function *perceptron*. Since the perceptron does not terminate if the data is not linearly separable, your implementation should return the desired output (see below) if it reached the termination condition seen in class or if a maximum number of iterations have already been run, where one iteration corresponds to one update of the perceptron weights. In case the termination is reached because the maximum number of iterations have been completed, the implementation should return **the best model** seen up to now.\n",
    "\n",
    "The input parameters to pass are:\n",
    "- $X$: the matrix of input features, one row for each sample\n",
    "- $Y$: the vector of labels for the input features matrix X\n",
    "- $max\\_num\\_iterations$: the maximum number of iterations for running the perceptron\n",
    "\n",
    "The output values are:\n",
    "- $best\\_w$: the vector with the coefficients of the best model\n",
    "- $best\\_error$: the *fraction* of missclassified samples for the best model"
   ]
  },
  {
   "cell_type": "code",
   "execution_count": 73,
   "metadata": {},
   "outputs": [],
   "source": [
    "def perceptron(X, Y, max_num_iterations):\n",
    "    \n",
    "    # PLACE YOUR CODE\n",
    "    \n",
    "    # initialize best_w, i.e. the vector with the coefficients of the best model\n",
    "    best_w = np.zeros(len(X[0]))\n",
    "    # initialize best_error, i.e. the fraction of missclassified samples for the best model\n",
    "    best_error = 1\n",
    "    # initialize w\n",
    "    w = np.zeros(len(X[0]))\n",
    "    # initialize t\n",
    "    t = 1 \n",
    "    \n",
    "    while t <= max_num_iterations:\n",
    "        #initialize a counter for wrongly classified samples\n",
    "        wrongly_class_count = 0\n",
    "        # initialize a list to store wrongly classified samples\n",
    "        wrongly_class_list = []\n",
    "        # try to find wrongly classified samples, i.e. such that y_i * <w(t),x_i> <= 0\n",
    "        for i in range(len(Y)):\n",
    "            if Y[i]*np.dot(w, X[i]) <= 0:\n",
    "                wrongly_class_list.append(i)\n",
    "        # if there are no missclassified samples break\n",
    "        if len(wrongly_class_list) == 0: \n",
    "            print('Break after =', max_num_interations, 'iterations.')\n",
    "            break\n",
    "        # draw a randon number n to which will be used to pick a x_i and update w\n",
    "        n = wrongly_class_list[np.random.randint(0, len(wrongly_class_list))]\n",
    "        # update w\n",
    "        w += Y[n]*X[n,:]\n",
    "        # find the number of wrongly classified after the update\n",
    "        for i in range(len(Y)):\n",
    "            if Y[i]*np.dot(w, X[i]) <= 0: \n",
    "                wrongly_class_count += 1\n",
    "        # if the \"current best error\" is greater than\n",
    "        # (number of wrongly classified samples / number of samples), update best_w and best_error\n",
    "        if best_error > wrongly_class_count / len(Y):\n",
    "            best_w = w.copy()\n",
    "            best_error = wrongly_class_count / len(Y)\n",
    "        if t == max_num_iterations:\n",
    "            print('Maximum number of iterations have been completed:', max_num_iterations)\n",
    "        # update t\n",
    "        t += 1\n",
    "    \n",
    "    return best_w, best_error"
   ]
  },
  {
   "cell_type": "markdown",
   "metadata": {},
   "source": [
    "Now we use the implementation above of the perceptron to learn a model from the training data using 100 iterations and print the error of the best model we have found."
   ]
  },
  {
   "cell_type": "code",
   "execution_count": 75,
   "metadata": {},
   "outputs": [
    {
     "name": "stdout",
     "output_type": "stream",
     "text": [
      "Maximum number of iterations have been completed: 100\n",
      "[ -1. -40.  86. -31.]\n",
      "Training Error of perceptron (100 iterations): 0.1282051282051282\n"
     ]
    }
   ],
   "source": [
    "#now run the perceptron for 100 iterations\n",
    "w_found, error = perceptron(X_training,Y_training, 100)\n",
    "print(w_found)\n",
    "print(\"Training Error of perceptron (100 iterations): \" + str(error))"
   ]
  },
  {
   "cell_type": "markdown",
   "metadata": {},
   "source": [
    "**TO DO** use the best model $w\\_found$ to predict the labels for the test dataset and print the fraction of missclassified samples in the test set (the test error that is an estimate of the true loss)."
   ]
  },
  {
   "cell_type": "code",
   "execution_count": 76,
   "metadata": {},
   "outputs": [
    {
     "name": "stdout",
     "output_type": "stream",
     "text": [
      "Test Error of perceptron (100 iterations): 0.15384615384615385\n"
     ]
    }
   ],
   "source": [
    "#now use the w_found to make predictions on test dataset\n",
    "\n",
    "num_errors = 0\n",
    "\n",
    "# PLACE YOUR CODE to compute the number of errors\n",
    "for i in range(m_test):\n",
    "    if Y_test[i]*np.dot(w_found, X_test[i]) <= 0:\n",
    "        num_errors += 1\n",
    "\n",
    "true_loss_estimate = num_errors/m_test  # error rate on the test set\n",
    "#NOTE: you can avoid using num_errors if you prefer, as long as true_loss_estimate is correct\n",
    "print(\"Test Error of perceptron (100 iterations): \" + str(true_loss_estimate))"
   ]
  },
  {
   "cell_type": "markdown",
   "metadata": {},
   "source": [
    "**TO DO** **[Answer the following]** What about the difference betweeen the training error and the test error  in terms of fraction of missclassified samples)? Explain what you observe. [Write the answer in this cell]\n",
    "\n",
    "**ANSWER QUESTION 1**\n",
    "The test error is bigger than the training error. This is what we expect, since we want to produce a predictor that minimizes the training error."
   ]
  },
  {
   "cell_type": "markdown",
   "metadata": {},
   "source": [
    "**TO DO** Copy the code from the last 2 cells above in the cell below and repeat the training with 5000 iterations. Then print the error in the training set and the estimate of the true loss obtained from the test set."
   ]
  },
  {
   "cell_type": "code",
   "execution_count": 77,
   "metadata": {
    "scrolled": false
   },
   "outputs": [
    {
     "name": "stdout",
     "output_type": "stream",
     "text": [
      "Maximum number of iterations have been completed: 5000\n",
      "[  -8. -459.  993. -209.]\n",
      "Training Error of perceptron (5000 iterations): 0.07179487179487179\n",
      "Test Error of perceptron (5000 iterations): 0.09230769230769231\n"
     ]
    }
   ],
   "source": [
    "#now run the perceptron for 5000 iterations here!\n",
    "\n",
    "# PLACE YOUR CODE\n",
    "\n",
    "w_found, error = perceptron(X_training,Y_training, 5000)\n",
    "print(w_found)\n",
    "print(\"Training Error of perceptron (5000 iterations): \" + str(error))\n",
    "\n",
    "num_errors = 0\n",
    "\n",
    "# PLACE YOUR CODE to compute the number of errors\n",
    "for i in range(m_test):\n",
    "    if Y_test[i]*np.dot(w_found, X_test[i]) <= 0:\n",
    "        num_errors += 1\n",
    "\n",
    "true_loss_estimate = num_errors/m_test  # error rate on the test set\n",
    "#NOTE: you can avoid using num_errors if you prefer, as long as true_loss_estimate is correct\n",
    "print(\"Test Error of perceptron (5000 iterations): \" + str(true_loss_estimate))"
   ]
  },
  {
   "cell_type": "markdown",
   "metadata": {},
   "source": [
    "**TO DO** [Answer the following] What about the difference betweeen the training error and the test error  in terms of fraction of missclassified samples) when running for a larger number of iterations ? Explain what you observe and compare with the previous case. [Write the answer in this cell]\n",
    "\n",
    "**ANSWER QUESTION 2**\n",
    "The training error obtained with 100 iterations appears to be a bit larger than that obtained with 5000 iterations (0.9 vs 1.0 circa). The same holds for the test error (0.7 vs 0.8 circa). But I noticed that running again the code, the values can change quite significantly. So, I made a plot of errors vs. number of iterations  and I saw that the two values become stable (0.077 for the test error and 0.092 for the training error circa) around 200 iterations. Furthermore, I found that the test error is bigger than the training error: it is obvious, since the `w` that we use is found using the training set."
   ]
  },
  {
   "cell_type": "code",
   "execution_count": 78,
   "metadata": {},
   "outputs": [
    {
     "name": "stdout",
     "output_type": "stream",
     "text": [
      "Maximum number of iterations have been completed: 100\n",
      "Maximum number of iterations have been completed: 200\n",
      "Maximum number of iterations have been completed: 300\n",
      "Maximum number of iterations have been completed: 400\n",
      "Maximum number of iterations have been completed: 500\n",
      "Maximum number of iterations have been completed: 600\n",
      "Maximum number of iterations have been completed: 700\n",
      "Maximum number of iterations have been completed: 800\n",
      "Maximum number of iterations have been completed: 900\n",
      "Maximum number of iterations have been completed: 1000\n",
      "Maximum number of iterations have been completed: 1100\n",
      "Maximum number of iterations have been completed: 1200\n",
      "Maximum number of iterations have been completed: 1300\n",
      "Maximum number of iterations have been completed: 1400\n",
      "Maximum number of iterations have been completed: 1500\n",
      "Maximum number of iterations have been completed: 1600\n",
      "Maximum number of iterations have been completed: 1700\n",
      "Maximum number of iterations have been completed: 1800\n",
      "Maximum number of iterations have been completed: 1900\n",
      "Maximum number of iterations have been completed: 2000\n",
      "Maximum number of iterations have been completed: 2100\n",
      "Maximum number of iterations have been completed: 2200\n",
      "Maximum number of iterations have been completed: 2300\n",
      "Maximum number of iterations have been completed: 2400\n",
      "Maximum number of iterations have been completed: 2500\n",
      "Maximum number of iterations have been completed: 2600\n",
      "Maximum number of iterations have been completed: 2700\n",
      "Maximum number of iterations have been completed: 2800\n",
      "Maximum number of iterations have been completed: 2900\n",
      "Maximum number of iterations have been completed: 3000\n",
      "Maximum number of iterations have been completed: 3100\n",
      "Maximum number of iterations have been completed: 3200\n",
      "Maximum number of iterations have been completed: 3300\n",
      "Maximum number of iterations have been completed: 3400\n",
      "Maximum number of iterations have been completed: 3500\n",
      "Maximum number of iterations have been completed: 3600\n",
      "Maximum number of iterations have been completed: 3700\n",
      "Maximum number of iterations have been completed: 3800\n",
      "Maximum number of iterations have been completed: 3900\n",
      "Maximum number of iterations have been completed: 4000\n",
      "Maximum number of iterations have been completed: 4100\n",
      "Maximum number of iterations have been completed: 4200\n",
      "Maximum number of iterations have been completed: 4300\n",
      "Maximum number of iterations have been completed: 4400\n",
      "Maximum number of iterations have been completed: 4500\n",
      "Maximum number of iterations have been completed: 4600\n",
      "Maximum number of iterations have been completed: 4700\n",
      "Maximum number of iterations have been completed: 4800\n",
      "Maximum number of iterations have been completed: 4900\n",
      "training error: \n",
      " [1, 0.11794871794871795, 0.07179487179487179, 0.07179487179487179, 0.07179487179487179, 0.07179487179487179, 0.07179487179487179, 0.07179487179487179, 0.07179487179487179, 0.07179487179487179, 0.07179487179487179, 0.07179487179487179, 0.07179487179487179, 0.07179487179487179, 0.07179487179487179, 0.07179487179487179, 0.07179487179487179, 0.07179487179487179, 0.07179487179487179, 0.07179487179487179, 0.07179487179487179, 0.07179487179487179, 0.07179487179487179, 0.07179487179487179, 0.07179487179487179, 0.07179487179487179, 0.07179487179487179, 0.07179487179487179, 0.07179487179487179, 0.07179487179487179, 0.07179487179487179, 0.07179487179487179, 0.07179487179487179, 0.07179487179487179, 0.07179487179487179, 0.07179487179487179, 0.07179487179487179, 0.07179487179487179, 0.07179487179487179, 0.07179487179487179, 0.07179487179487179, 0.07179487179487179, 0.07179487179487179, 0.07179487179487179, 0.07179487179487179, 0.07179487179487179, 0.07179487179487179, 0.07179487179487179, 0.07179487179487179, 0.07179487179487179] \n",
      " test error: \n",
      " [1.0, 0.1076923076923077, 0.09230769230769231, 0.09230769230769231, 0.09230769230769231, 0.09230769230769231, 0.09230769230769231, 0.09230769230769231, 0.09230769230769231, 0.09230769230769231, 0.09230769230769231, 0.09230769230769231, 0.09230769230769231, 0.09230769230769231, 0.09230769230769231, 0.09230769230769231, 0.09230769230769231, 0.09230769230769231, 0.09230769230769231, 0.09230769230769231, 0.09230769230769231, 0.09230769230769231, 0.09230769230769231, 0.09230769230769231, 0.09230769230769231, 0.09230769230769231, 0.09230769230769231, 0.09230769230769231, 0.09230769230769231, 0.09230769230769231, 0.09230769230769231, 0.09230769230769231, 0.09230769230769231, 0.09230769230769231, 0.09230769230769231, 0.09230769230769231, 0.09230769230769231, 0.09230769230769231, 0.09230769230769231, 0.09230769230769231, 0.09230769230769231, 0.09230769230769231, 0.09230769230769231, 0.09230769230769231, 0.09230769230769231, 0.09230769230769231, 0.09230769230769231, 0.09230769230769231, 0.09230769230769231, 0.09230769230769231]\n"
     ]
    },
    {
     "data": {
      "image/png": "[encoded data removed]",
      "text/plain": [
       "<Figure size 432x288 with 1 Axes>"
      ]
     },
     "metadata": {
      "needs_background": "light"
     },
     "output_type": "display_data"
    }
   ],
   "source": [
    "iterations = [i for i in range(0, 5000,100)]\n",
    "training_err = []\n",
    "test_err = []\n",
    "\n",
    "for i in iterations:\n",
    "\n",
    "    w_found, error = perceptron(X_training,Y_training, i)\n",
    "    training_err.append(error)\n",
    "\n",
    "    num_errors = 0\n",
    "\n",
    "    for j in range(m_test):\n",
    "        if Y_test[j]*np.dot(w_found, X_test[j]) <= 0: \n",
    "            num_errors += 1\n",
    "\n",
    "    test_err_i = num_errors/m_test\n",
    "    test_err.append(test_err_i)\n",
    "    \n",
    "print('training error: \\n', training_err, '\\n', 'test error: \\n', test_err)"
   ]
  },
  {
   "cell_type": "code",
   "execution_count": 83,
   "metadata": {},
   "outputs": [
    {
     "data": {
      "image/png": "[encoded data removed]",
      "text/plain": [
       "<Figure size 432x288 with 1 Axes>"
      ]
     },
     "metadata": {
      "needs_background": "light"
     },
     "output_type": "display_data"
    }
   ],
   "source": [
    "plt.plot(iterations, training_err, 'rx', label='training error')\n",
    "plt.plot(iterations, test_err, 'gx', label='test error')\n",
    "plt.axis([0,1000,0.06,0.12])\n",
    "plt.legend()\n",
    "plt.xlabel('number of iterations')\n",
    "plt.ylabel('error')\n",
    "plt.show()"
   ]
  },
  {
   "cell_type": "markdown",
   "metadata": {},
   "source": [
    "# Logistic Regression\n",
    "Now we use logistic regression, as implemented in Scikit-learn, to predict labels. We will also plot the decision region of logistic regression.\n",
    "\n",
    "We first load the dataset again."
   ]
  },
  {
   "cell_type": "code",
   "execution_count": 103,
   "metadata": {},
   "outputs": [
    {
     "name": "stdout",
     "output_type": "stream",
     "text": [
      "['Position', 'Height cm', 'kg', 'Age']\n"
     ]
    }
   ],
   "source": [
    "filename = 'data/NBA.csv'\n",
    "NBA = csv.reader(open(filename, newline=''), delimiter=',')\n",
    "\n",
    "header = next(NBA)\n",
    "print(header)\n",
    "\n",
    "dataset = list(NBA)\n",
    "for i in range(len(dataset)):\n",
    "    dataset[i] = [int(x) for x in dataset[i]]\n",
    "    \n",
    "dataset = np.asarray(dataset)\n",
    "\n",
    "X = dataset[:,1:]\n",
    "Y = dataset[:,0]\n",
    "\n",
    "Y = Y*2-1  # set labels to {-1, 1} as required by perceptron implementation\n",
    "\n",
    "m = dataset.shape[0]\n",
    "permutation = np.random.permutation(m)\n",
    "\n",
    "X = X[permutation]\n",
    "Y = Y[permutation]"
   ]
  },
  {
   "cell_type": "markdown",
   "metadata": {},
   "source": [
    "**TO DO** As for the previous part, divide the data into training and test (75%-25%) and add a 1 as first component to each sample."
   ]
  },
  {
   "cell_type": "code",
   "execution_count": 119,
   "metadata": {},
   "outputs": [
    {
     "name": "stdout",
     "output_type": "stream",
     "text": [
      "130\n"
     ]
    }
   ],
   "source": [
    "#Divide in training and test: make sure that your training set\n",
    "#contains at least 10 elements from class 1 and at least 10 elements\n",
    "#from class -1! If it does not, modify the code so to apply more random\n",
    "#permutations (or the same permutation multiple times) until this happens.\n",
    "#IMPORTANT: do not change the random seed.\n",
    "\n",
    "m_training = len(X[:,0]) // 2 # PLACE YOUR CODE\n",
    "m_test = len(X[:, 0]) - m_training # PLACE YOUR CODE\n",
    "\n",
    "X_training = X[:m_training, :] # PLACE YOUR CODE\n",
    "Y_training = Y[:m_training] # PLACE YOUR CODE\n",
    "\n",
    "X_test = X[m_training:, :] # PLACE YOUR CODE\n",
    "Y_test = Y[m_training:] # PLACE YOUR CODE\n",
    "\n",
    "X_training = np.hstack((np.ones((m_training,1)),X_training))\n",
    "X_test = np.hstack((np.ones((m_test,1)),X_test))"
   ]
  },
  {
   "cell_type": "markdown",
   "metadata": {},
   "source": [
    "To define a logistic regression model in Scikit-learn use the instruction\n",
    "\n",
    "$linear\\_model.LogisticRegression(C=1e5)$\n",
    "\n",
    "($C$ is a parameter related to *regularization*, a technique that\n",
    "we will see later in the course. Setting it to a high value is almost\n",
    "as ignoring regularization, so the instruction above corresponds to the\n",
    "logistic regression you have seen in class.)\n",
    "\n",
    "To learn the model you need to use the $fit(...)$ instruction and to predict you need to use the $predict(...)$ function. See the Scikit-learn documentation for how to use it.\n",
    "\n",
    "**TO DO** Define the logistic regression model, then learn the model using the training set and predict on the test set. Then print the fraction of samples missclassified in the training set and in the test set."
   ]
  },
  {
   "cell_type": "code",
   "execution_count": 105,
   "metadata": {
    "scrolled": true
   },
   "outputs": [
    {
     "name": "stdout",
     "output_type": "stream",
     "text": [
      "Error rate on training set: 0.07692307692307693\n",
      "Error rate on test set: 0.06153846153846154\n"
     ]
    },
    {
     "name": "stderr",
     "output_type": "stream",
     "text": [
      "/Users/borto/anaconda3/lib/python3.7/site-packages/sklearn/linear_model/logistic.py:432: FutureWarning: Default solver will be changed to 'lbfgs' in 0.22. Specify a solver to silence this warning.\n",
      "  FutureWarning)\n"
     ]
    }
   ],
   "source": [
    "#part on logistic regression for 2 classes\n",
    "logreg = linear_model.LogisticRegression(C = 1e5) # PLACE YOUR CODE\n",
    "\n",
    "#learn from training set\n",
    "\n",
    "# PLACE YOUR CODE\n",
    "logreg.fit(X_training, Y_training)\n",
    "\n",
    "#predict on training set\n",
    "\n",
    "# PLACE YOUR CODE\n",
    "Y_training_predict = logreg.predict(X_training)\n",
    "\n",
    "#print the error rate = fraction of missclassified samples\n",
    "error_rate_training = 0\n",
    "n_errors_training = 0\n",
    "\n",
    "# PLACE YOUR CODE\n",
    "for i in range(m_training):\n",
    "    if Y_training[i]*Y_training_predict[i] <= 0: \n",
    "        n_errors_training += 1\n",
    "\n",
    "error_rate_training = n_errors_training / m_training\n",
    "\n",
    "print(\"Error rate on training set: \"+str(error_rate_training))\n",
    "\n",
    "#predict on test set\n",
    "\n",
    "# PLACE YOUR CODE\n",
    "Y_test_predict = logreg.predict(X_test)\n",
    "\n",
    "#print the error rate = fraction of missclassified samples\n",
    "error_rate_test = 0 \n",
    "\n",
    "# PLACE YOUR CODE\n",
    "n_errors_test = 0\n",
    "\n",
    "for i in range(m_test):\n",
    "    if Y_test[i]*Y_test_predict[i] <= 0: \n",
    "        n_errors_test += 1\n",
    "\n",
    "error_rate_test = n_errors_test / m_test\n",
    "\n",
    "print(\"Error rate on test set: \" + str(error_rate_test))"
   ]
  },
  {
   "cell_type": "markdown",
   "metadata": {},
   "source": [
    "**TO DO** Now pick two features and restrict the dataset to include only two features, whose indices are specified in the $feature$ vector below. Then split into training and test. Which features are you going to select ?"
   ]
  },
  {
   "cell_type": "code",
   "execution_count": 123,
   "metadata": {},
   "outputs": [],
   "source": [
    "#to make the plot we need to reduce the data to 2D, so we choose two features\n",
    "features_list = ['height', 'weight', 'age']\n",
    "labels_list = ['Center', 'Point guard']\n",
    "\n",
    "index_feature1 = 0 # select a feature\n",
    "index_feature2 = 1 # select a feature\n",
    "features = [index_feature1, index_feature2]\n",
    "\n",
    "feature_name0 = features_list[features[0]]\n",
    "feature_name1 = features_list[features[1]]\n",
    "\n",
    "X_reduced = X[:,features]\n",
    "\n",
    "X_training = X_reduced[:m_training, :] # PLACE YOUR CODE\n",
    "Y_training = Y[:m_training] # PLACE YOUR CODE\n",
    "\n",
    "X_test = X_reduced[m_training:, :] # PLACE YOUR CODE\n",
    "Y_test = Y[m_training:] # PLACE YOUR CODE"
   ]
  },
  {
   "cell_type": "markdown",
   "metadata": {},
   "source": [
    "Now learn a model using the training data and measure the performances."
   ]
  },
  {
   "cell_type": "code",
   "execution_count": 126,
   "metadata": {},
   "outputs": [
    {
     "name": "stdout",
     "output_type": "stream",
     "text": [
      "Error rate on test set: 0.4846153846153846\n"
     ]
    },
    {
     "name": "stderr",
     "output_type": "stream",
     "text": [
      "/Users/borto/anaconda3/lib/python3.7/site-packages/sklearn/linear_model/logistic.py:432: FutureWarning: Default solver will be changed to 'lbfgs' in 0.22. Specify a solver to silence this warning.\n",
      "  FutureWarning)\n"
     ]
    }
   ],
   "source": [
    "# learning from training data\n",
    "\n",
    "#ADD CODE! (only for learning from training data)\n",
    "logreg.fit(X_training, Y_training)\n",
    "\n",
    "Y_training_predict = logreg.predict(X_training)\n",
    "\n",
    "n_errors_test1 = 0\n",
    "\n",
    "for i in range(X_test.shape[0]):\n",
    "    if Y_test[i]*Y_test_predict[i] <= 0: \n",
    "        n_errors_test1 += 1\n",
    "\n",
    "error_rate_test1 = n_errors_test1 / m_test\n",
    "\n",
    "print(\"Error rate on test set: \" + str(error_rate_test1))"
   ]
  },
  {
   "cell_type": "markdown",
   "metadata": {},
   "source": [
    "**TO DO** [Answer the following] Which features did you select and why ? Compare the perfromances with the ones of the case with all the 3 features and comment about the results. [Write the answer in this cell]\n",
    "\n",
    "**ANSWER QUESTION 3** I selected height and weight because they are the most important features, age in not very meaningful. "
   ]
  },
  {
   "cell_type": "markdown",
   "metadata": {},
   "source": [
    "If everything is ok, the code below uses the model in $logreg$ to plot the decision region for the two features chosen above, with colors denoting the predicted value. It also plots the points (with correct labels) in the training set. It makes a similar plot for the test set."
   ]
  },
  {
   "cell_type": "code",
   "execution_count": 108,
   "metadata": {},
   "outputs": [
    {
     "data": {
      "image/png": "[encoded data removed]",
      "text/plain": [
       "<Figure size 288x216 with 1 Axes>"
      ]
     },
     "metadata": {},
     "output_type": "display_data"
    },
    {
     "data": {
      "image/png": "[encoded data removed]",
      "text/plain": [
       "<Figure size 288x216 with 1 Axes>"
      ]
     },
     "metadata": {},
     "output_type": "display_data"
    }
   ],
   "source": [
    "# Plot the decision boundary. For that, we will assign a color to each\n",
    "# point in the mesh [x_min, x_max]x[y_min, y_max].\n",
    "\n",
    "# NOTICE: This visualization code has been developed for a \"standard\" solution of the notebook, \n",
    "# it could be necessary to make some fixes to adapt to your implementation\n",
    "\n",
    "h = .02  # step size in the mesh\n",
    "x_min, x_max = X_reduced[:, 0].min() - .5, X_reduced[:, 0].max() + .5\n",
    "y_min, y_max = X_reduced[:, 1].min() - .5, X_reduced[:, 1].max() + .5\n",
    "xx, yy = np.meshgrid(np.arange(x_min, x_max, h), np.arange(y_min, y_max, h))\n",
    "\n",
    "Z = logreg.predict(np.c_[xx.ravel(), yy.ravel()])\n",
    "\n",
    "# Put the result into a color plot\n",
    "Z = Z.reshape(xx.shape)\n",
    "\n",
    "plt.figure(1, figsize=(4, 3))\n",
    "plt.pcolormesh(xx, yy, Z, cmap=plt.cm.Paired)\n",
    "\n",
    "# Plot also the training points\n",
    "plt.scatter(X_training[:, 0], X_training[:, 1], c=Y_training, edgecolors='k', cmap=plt.cm.Paired)\n",
    "plt.xlabel(feature_name0)\n",
    "plt.ylabel(feature_name1)\n",
    "\n",
    "plt.xlim(xx.min(), xx.max())\n",
    "plt.ylim(yy.min(), yy.max())\n",
    "plt.xticks(())\n",
    "plt.yticks(())\n",
    "plt.title('Training set')\n",
    "\n",
    "plt.show()\n",
    "\n",
    "# Put the result into a color plot\n",
    "Z = Z.reshape(xx.shape)\n",
    "plt.figure(1, figsize=(4, 3))\n",
    "plt.pcolormesh(xx, yy, Z, cmap=plt.cm.Paired)\n",
    "\n",
    "# Plot also the test points \n",
    "plt.scatter(X_test[:, 0], X_test[:, 1], c=Y_test, edgecolors='k', cmap=plt.cm.Paired, marker='s')\n",
    "plt.xlabel(feature_name0)\n",
    "plt.ylabel(feature_name1)\n",
    "\n",
    "plt.xlim(xx.min(), xx.max())\n",
    "plt.ylim(yy.min(), yy.max())\n",
    "plt.xticks(())\n",
    "plt.yticks(())\n",
    "plt.title('Test set')\n",
    "\n",
    "plt.show()"
   ]
  },
  {
   "cell_type": "code",
   "execution_count": null,
   "metadata": {},
   "outputs": [],
   "source": []
  },
  {
   "cell_type": "code",
   "execution_count": null,
   "metadata": {},
   "outputs": [],
   "source": []
  }
 ],
 "metadata": {
  "anaconda-cloud": {},
  "kernelspec": {
   "display_name": "Python 3",
   "language": "python",
   "name": "python3"
  },
  "language_info": {
   "codemirror_mode": {
    "name": "ipython",
    "version": 3
   },
   "file_extension": ".py",
   "mimetype": "text/x-python",
   "name": "python",
   "nbconvert_exporter": "python",
   "pygments_lexer": "ipython3",
   "version": "3.7.3"
  }
 },
 "nbformat": 4,
 "nbformat_minor": 2
}
